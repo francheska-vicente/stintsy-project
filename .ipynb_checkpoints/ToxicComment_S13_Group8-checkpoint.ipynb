{
 "cells": [
  {
   "cell_type": "markdown",
   "id": "392124ee",
   "metadata": {},
   "source": [
    "# You're Toxic, I'm Slippin' Under: Toxic Comment Classification Challenge\n",
    "\n",
    "#### STINTSY S13 Group 8\n",
    "- VICENTE, Francheska Josefa\n",
    "- VISTA, Sophia Danielle S."
   ]
  },
  {
   "cell_type": "markdown",
   "id": "7c2e1db3",
   "metadata": {},
   "source": [
    "## Introduction\n",
    "In digital communities and forums on the internet, users often choose to remain anonymous as real names are not required when conversing with strangers online. With this anonymity comes the freedom to express one's thoughts without fear of being judged or recognized, yet this might also mean that users are free to say abusive sentiments with little to no repercussions. While most online forums and social media sites have various ways to moderate (e.g. moderators and staff that manually review posts and comments, a report button under messages, voting for comments and posts), these methods are not enough to combat the significant number of toxic comments made.\n",
    "\n",
    "With this, ways to automate checking for toxicity in online text should be improved to foster a safe and respectful online environment."
   ]
  },
  {
   "cell_type": "markdown",
   "id": "357a3425",
   "metadata": {},
   "source": [
    "## Toxic Comment Classification Challenge\n",
    "\n",
    "The [`Toxic Comment Classification Challenge`](https://www.kaggle.com/competitions/jigsaw-toxic-comment-classification-challenge/overview) is a Kaggle challenge by the [`Conversation AI team`](https://conversationai.github.io/), which is composed of researchers from both [`Jigsaw`](https://jigsaw.google.com/) and `Google`. This challlenge invites participants to build a multi-headed model that can accurately detect the types of toxicity (i.e.,toxic, severe toxic, obscene, threat, insult, and identity hate) better than Perspective’s [current models](https://github.com/conversationai/unintended-ml-bias-analysis).\n",
    "\n",
    "The dataset given contains a large number of Wikipedia comments which have been labeled by human raters for toxic behavior."
   ]
  },
  {
   "cell_type": "markdown",
   "id": "b3688955",
   "metadata": {},
   "source": [
    "## Requirements and Imports\n",
    "Before starting, the relevant libraries and files in building and training the model should be loaded into the notebook first.\n",
    "\n",
    "### Import\n",
    "Several libraries are required to perform a thorough analysis of the dataset. Each of these libraries will be imported and described below:\n",
    "\n",
    "#### Basic Libraries \n",
    "Import `numpy` and `pandas`.\n",
    "- `numpy` contains a large collection of mathematical functions\n",
    "- `pandas` contains functions that are designed for data manipulation and data analysis"
   ]
  },
  {
   "cell_type": "code",
   "execution_count": 1,
   "id": "286b906d",
   "metadata": {
    "jupyter": {
     "outputs_hidden": true
    },
    "tags": []
   },
   "outputs": [],
   "source": [
    "import numpy as np\n",
    "import pandas as pd"
   ]
  },
  {
   "cell_type": "markdown",
   "id": "72d52cee",
   "metadata": {},
   "source": [
    "#### Visualization Libraries \n",
    "- `matplotlib.pyplot` contains functions to create interactive plots\n",
    "- `seaborn` is a library based on matplotlib that allows for data visualization\n",
    "- `wordcloud` contains functions for generating wordclouds from text data\n",
    "\n",
    "**NOTE:** `wordcloud` should be installed using `conda install -c conda-forge wordcloud`"
   ]
  },
  {
   "cell_type": "code",
   "execution_count": 2,
   "id": "b3c050bd",
   "metadata": {},
   "outputs": [],
   "source": [
    "import matplotlib.pyplot as plt\n",
    "import seaborn as sns\n",
    "from wordcloud import WordCloud\n",
    "from wordcloud import ImageColorGenerator"
   ]
  },
  {
   "cell_type": "markdown",
   "id": "8c050ac6",
   "metadata": {},
   "source": [
    "#### Natural Language Processing Libraries \n",
    "- `re` is a module that allows the use of regular expressions\n",
    "- `nltk` provides functions for processing text data\n",
    "- `stopwords` is a corpus from NLTK, which includes a compiled list of stopwords\n",
    "- `Counter` is from Python's `collections` module, which is helpful for tokenization\n",
    "- `string` contains functions for string operations"
   ]
  },
  {
   "cell_type": "code",
   "execution_count": 3,
   "id": "7cee8a33",
   "metadata": {},
   "outputs": [],
   "source": [
    "import re\n",
    "import nltk\n",
    "from nltk.corpus import stopwords\n",
    "from collections import Counter\n",
    "import string\n",
    "\n",
    "from sklearn.feature_extraction.text import TfidfVectorizer"
   ]
  },
  {
   "cell_type": "markdown",
   "id": "3ddf662a",
   "metadata": {},
   "source": [
    "#### Machine Learning Libraries"
   ]
  },
  {
   "cell_type": "code",
   "execution_count": null,
   "id": "5973812e",
   "metadata": {},
   "outputs": [],
   "source": []
  },
  {
   "cell_type": "markdown",
   "id": "b04554b2-f9c5-4075-8e90-35858db2f5aa",
   "metadata": {},
   "source": [
    "### Datasets and Files\n",
    "There are four `.csv` files provided in the competition.\n",
    "- `train.csv` is the training set, which contains comments and their classification (with the use of binary labels)\n",
    "- `test.csv` is the test set, which contains comments and their corresponding IDs\n",
    "- `sample_submission.csv` contains the correct submission format for the competition\n",
    "- `test_labels.csv` was a file added after the competition closed\n",
    "\n",
    "However, to do the task, we would only need to load two of these files: (1) `train.csv`, and (2) `test.csv`. These two `.csv` files will be loaded into the notebook using the [`read_csv`](https://pandas.pydata.org/pandas-docs/stable/reference/api/pandas.read_csv.html) function."
   ]
  },
  {
   "cell_type": "code",
   "execution_count": 4,
   "id": "1f58f5b0-f288-40c3-b135-c585939721df",
   "metadata": {
    "jupyter": {
     "outputs_hidden": true
    }
   },
   "outputs": [],
   "source": [
    "train = pd.read_csv('data/train.csv')\n",
    "test  = pd.read_csv('data/test.csv')"
   ]
  },
  {
   "cell_type": "markdown",
   "id": "bbc3d52f",
   "metadata": {},
   "source": [
    "## Description of the Dataset\n",
    "\n",
    "To see the the number of rows and columns for the `train` and `test` data, the [`shape`](https://pandas.pydata.org/docs/reference/api/pandas.DataFrame.shape.html) property of the DataFrame is called."
   ]
  },
  {
   "cell_type": "code",
   "execution_count": 5,
   "id": "81bd93ee",
   "metadata": {
    "jupyter": {
     "outputs_hidden": true
    }
   },
   "outputs": [
    {
     "data": {
      "text/plain": [
       "(159571, 8)"
      ]
     },
     "execution_count": 5,
     "metadata": {},
     "output_type": "execute_result"
    }
   ],
   "source": [
    "train.shape"
   ]
  },
  {
   "cell_type": "markdown",
   "id": "1b578a0c",
   "metadata": {},
   "source": [
    "The `train` data has 159571 rows (instances) and eight (8) columns (features). An instance in our dataset represents a text and its categories. \n",
    "\n",
    "Next, the [`head`](https://pandas.pydata.org/docs/reference/api/pandas.DataFrame.head.html) function is called to check the first few rows of the dataset. This will let us quickly check the features of the dataset."
   ]
  },
  {
   "cell_type": "code",
   "execution_count": 6,
   "id": "5aa66668-ac4a-4abf-946e-22ee24aa6726",
   "metadata": {
    "jupyter": {
     "outputs_hidden": true
    }
   },
   "outputs": [
    {
     "data": {
      "text/html": [
       "<div>\n",
       "<style scoped>\n",
       "    .dataframe tbody tr th:only-of-type {\n",
       "        vertical-align: middle;\n",
       "    }\n",
       "\n",
       "    .dataframe tbody tr th {\n",
       "        vertical-align: top;\n",
       "    }\n",
       "\n",
       "    .dataframe thead th {\n",
       "        text-align: right;\n",
       "    }\n",
       "</style>\n",
       "<table border=\"1\" class=\"dataframe\">\n",
       "  <thead>\n",
       "    <tr style=\"text-align: right;\">\n",
       "      <th></th>\n",
       "      <th>id</th>\n",
       "      <th>comment_text</th>\n",
       "      <th>toxic</th>\n",
       "      <th>severe_toxic</th>\n",
       "      <th>obscene</th>\n",
       "      <th>threat</th>\n",
       "      <th>insult</th>\n",
       "      <th>identity_hate</th>\n",
       "    </tr>\n",
       "  </thead>\n",
       "  <tbody>\n",
       "    <tr>\n",
       "      <th>0</th>\n",
       "      <td>0000997932d777bf</td>\n",
       "      <td>Explanation\\r\\nWhy the edits made under my use...</td>\n",
       "      <td>0</td>\n",
       "      <td>0</td>\n",
       "      <td>0</td>\n",
       "      <td>0</td>\n",
       "      <td>0</td>\n",
       "      <td>0</td>\n",
       "    </tr>\n",
       "    <tr>\n",
       "      <th>1</th>\n",
       "      <td>000103f0d9cfb60f</td>\n",
       "      <td>D'aww! He matches this background colour I'm s...</td>\n",
       "      <td>0</td>\n",
       "      <td>0</td>\n",
       "      <td>0</td>\n",
       "      <td>0</td>\n",
       "      <td>0</td>\n",
       "      <td>0</td>\n",
       "    </tr>\n",
       "    <tr>\n",
       "      <th>2</th>\n",
       "      <td>000113f07ec002fd</td>\n",
       "      <td>Hey man, I'm really not trying to edit war. It...</td>\n",
       "      <td>0</td>\n",
       "      <td>0</td>\n",
       "      <td>0</td>\n",
       "      <td>0</td>\n",
       "      <td>0</td>\n",
       "      <td>0</td>\n",
       "    </tr>\n",
       "    <tr>\n",
       "      <th>3</th>\n",
       "      <td>0001b41b1c6bb37e</td>\n",
       "      <td>\"\\r\\nMore\\r\\nI can't make any real suggestions...</td>\n",
       "      <td>0</td>\n",
       "      <td>0</td>\n",
       "      <td>0</td>\n",
       "      <td>0</td>\n",
       "      <td>0</td>\n",
       "      <td>0</td>\n",
       "    </tr>\n",
       "    <tr>\n",
       "      <th>4</th>\n",
       "      <td>0001d958c54c6e35</td>\n",
       "      <td>You, sir, are my hero. Any chance you remember...</td>\n",
       "      <td>0</td>\n",
       "      <td>0</td>\n",
       "      <td>0</td>\n",
       "      <td>0</td>\n",
       "      <td>0</td>\n",
       "      <td>0</td>\n",
       "    </tr>\n",
       "  </tbody>\n",
       "</table>\n",
       "</div>"
      ],
      "text/plain": [
       "                 id                                       comment_text  toxic  \\\n",
       "0  0000997932d777bf  Explanation\\r\\nWhy the edits made under my use...      0   \n",
       "1  000103f0d9cfb60f  D'aww! He matches this background colour I'm s...      0   \n",
       "2  000113f07ec002fd  Hey man, I'm really not trying to edit war. It...      0   \n",
       "3  0001b41b1c6bb37e  \"\\r\\nMore\\r\\nI can't make any real suggestions...      0   \n",
       "4  0001d958c54c6e35  You, sir, are my hero. Any chance you remember...      0   \n",
       "\n",
       "   severe_toxic  obscene  threat  insult  identity_hate  \n",
       "0             0        0       0       0              0  \n",
       "1             0        0       0       0              0  \n",
       "2             0        0       0       0              0  \n",
       "3             0        0       0       0              0  \n",
       "4             0        0       0       0              0  "
      ]
     },
     "execution_count": 6,
     "metadata": {},
     "output_type": "execute_result"
    }
   ],
   "source": [
    "train.head()"
   ]
  },
  {
   "cell_type": "markdown",
   "id": "b96e673f",
   "metadata": {},
   "source": [
    "As seen by the function's output, the eight columns are: `id`, `comment_text`, `toxic`, `severe_toxic`, `obscene`, `threat`, `insult`, and `identity_hate`. \n",
    "\n",
    "The first column `id` is an object that contains a unique identifier for the row. This is followed by the `comment_text` column, which holds the text that we need to categorize into the different toxic categories. The next six (6) columns—`toxic`, `severe_toxic`, `obscene`, `threat`, `insult`, and `identity_hate`—are integer columns, with a value of either 0 or 1, which represents `True` or `False`, respectively. These six columns represent the different categories. If the value for a specific column is 1, it means that the `comment_text` can be classified as this category.\n",
    "\n",
    "It is important to note, however, that each `comment_text` can be classified under more than one toxic category (e.g. a comment can fall under both `toxic` and `severe_toxic` as denoted by the multiple values of 1 per row)."
   ]
  },
  {
   "cell_type": "code",
   "execution_count": 7,
   "id": "7427e85c",
   "metadata": {
    "jupyter": {
     "outputs_hidden": true
    }
   },
   "outputs": [
    {
     "data": {
      "text/plain": [
       "(153164, 2)"
      ]
     },
     "execution_count": 7,
     "metadata": {},
     "output_type": "execute_result"
    }
   ],
   "source": [
    "test.shape"
   ]
  },
  {
   "cell_type": "markdown",
   "id": "5d722576-8ca6-4d33-aa8c-4558efe35b38",
   "metadata": {},
   "source": [
    "On the other hand, the `test` dataset has 153164 rows and two (2) columns."
   ]
  },
  {
   "cell_type": "code",
   "execution_count": 8,
   "id": "0c88077a-c301-4031-800d-6549c0083f34",
   "metadata": {
    "jupyter": {
     "outputs_hidden": true
    }
   },
   "outputs": [
    {
     "data": {
      "text/html": [
       "<div>\n",
       "<style scoped>\n",
       "    .dataframe tbody tr th:only-of-type {\n",
       "        vertical-align: middle;\n",
       "    }\n",
       "\n",
       "    .dataframe tbody tr th {\n",
       "        vertical-align: top;\n",
       "    }\n",
       "\n",
       "    .dataframe thead th {\n",
       "        text-align: right;\n",
       "    }\n",
       "</style>\n",
       "<table border=\"1\" class=\"dataframe\">\n",
       "  <thead>\n",
       "    <tr style=\"text-align: right;\">\n",
       "      <th></th>\n",
       "      <th>id</th>\n",
       "      <th>comment_text</th>\n",
       "    </tr>\n",
       "  </thead>\n",
       "  <tbody>\n",
       "    <tr>\n",
       "      <th>0</th>\n",
       "      <td>00001cee341fdb12</td>\n",
       "      <td>Yo bitch Ja Rule is more succesful then you'll...</td>\n",
       "    </tr>\n",
       "    <tr>\n",
       "      <th>1</th>\n",
       "      <td>0000247867823ef7</td>\n",
       "      <td>== From RfC == \\r\\n\\r\\n The title is fine as i...</td>\n",
       "    </tr>\n",
       "    <tr>\n",
       "      <th>2</th>\n",
       "      <td>00013b17ad220c46</td>\n",
       "      <td>\" \\r\\n\\r\\n == Sources == \\r\\n\\r\\n * Zawe Ashto...</td>\n",
       "    </tr>\n",
       "    <tr>\n",
       "      <th>3</th>\n",
       "      <td>00017563c3f7919a</td>\n",
       "      <td>:If you have a look back at the source, the in...</td>\n",
       "    </tr>\n",
       "    <tr>\n",
       "      <th>4</th>\n",
       "      <td>00017695ad8997eb</td>\n",
       "      <td>I don't anonymously edit articles at all.</td>\n",
       "    </tr>\n",
       "  </tbody>\n",
       "</table>\n",
       "</div>"
      ],
      "text/plain": [
       "                 id                                       comment_text\n",
       "0  00001cee341fdb12  Yo bitch Ja Rule is more succesful then you'll...\n",
       "1  0000247867823ef7  == From RfC == \\r\\n\\r\\n The title is fine as i...\n",
       "2  00013b17ad220c46  \" \\r\\n\\r\\n == Sources == \\r\\n\\r\\n * Zawe Ashto...\n",
       "3  00017563c3f7919a  :If you have a look back at the source, the in...\n",
       "4  00017695ad8997eb          I don't anonymously edit articles at all."
      ]
     },
     "execution_count": 8,
     "metadata": {},
     "output_type": "execute_result"
    }
   ],
   "source": [
    "test.head()"
   ]
  },
  {
   "cell_type": "markdown",
   "id": "475a74d4",
   "metadata": {},
   "source": [
    "Each instance represents a comment that we have to compute for its probaility for the different categories mentioned. Like the `train` data, the first column is the `id`, which is a unique identifier. After this is the `comment_text`, which holds the text that our model needs as input. "
   ]
  },
  {
   "cell_type": "markdown",
   "id": "7d0ed4bc",
   "metadata": {},
   "source": [
    "## Exploratory Data Analysis (EDA)\n",
    "In order to determine which model would fit our dataset, we would need to explore the given data. \n",
    "\n",
    "**Three exploratory data analysis questions have been identified and formulated:**\n",
    "1. Which words occur most frequently in the `train` data?\n",
    "2. Based on the `train` data, how correlated are the given categories?\n",
    "3. What is the range of lengths of the `comment_text`?\n",
    "\n",
    "To answer these questions, we used numerical summaries. Additionally, we used visualization techiniques in order to present and illustrate relationships in the data."
   ]
  },
  {
   "cell_type": "markdown",
   "id": "1f729ef9-9208-4f15-bc07-56d4e9cac427",
   "metadata": {},
   "source": [
    "### Which words occur most frequently in the `train` data?"
   ]
  },
  {
   "cell_type": "markdown",
   "id": "0d5a2230",
   "metadata": {},
   "source": [
    "As a preliminary step in answering this question, all of the comments should be processed using tokenization, which is the process of separating pieces of text into words. \n",
    "\n",
    "For this, NLTK's [`RegexpTokenizer`](https://www.nltk.org/api/nltk.tokenize.regexp.html) is used to tokenize the text using RegEx. More specifically, the RegEx used is `\\w+`, which retrieves all words (i.e. words with alphanumeric & underscore characters) from the text. Moreover, stopwords based on NLTK's Stopword corpus and single letters were filtered out of the tokens for a more accurate count of relevant words. \n",
    "\n",
    "It should be noted that tokenization was done for each toxic classification and for all comments as a whole, to contrast the differences of the frequently seen words in each category."
   ]
  },
  {
   "cell_type": "code",
   "execution_count": 9,
   "id": "a10e51f4",
   "metadata": {
    "tags": []
   },
   "outputs": [
    {
     "name": "stderr",
     "output_type": "stream",
     "text": [
      "[nltk_data] Downloading package stopwords to\n",
      "[nltk_data]     C:\\Users\\User\\AppData\\Roaming\\nltk_data...\n",
      "[nltk_data]   Package stopwords is already up-to-date!\n"
     ]
    }
   ],
   "source": [
    "nltk.download('stopwords')\n",
    "\n",
    "words = []\n",
    "obscene = []\n",
    "insult = [] \n",
    "toxic = []\n",
    "severe_toxic = [] \n",
    "identity_hate = [] \n",
    "threat = []\n",
    "tokenizer = nltk.RegexpTokenizer(r'\\w+')\n",
    "for index, x in train.iterrows():\n",
    "    text = x ['comment_text']\n",
    "    words += tokenizer.tokenize(text.lower())\n",
    "    \n",
    "    if x ['obscene'] == 1:\n",
    "        obscene += tokenizer.tokenize(text.lower())\n",
    "    if x ['insult'] == 1:\n",
    "        insult += tokenizer.tokenize(text.lower())\n",
    "    if x ['toxic'] == 1:\n",
    "        toxic += tokenizer.tokenize(text.lower())\n",
    "    if x ['severe_toxic'] == 1:\n",
    "        severe_toxic += tokenizer.tokenize(text.lower())\n",
    "    if x ['identity_hate'] == 1:\n",
    "        identity_hate += tokenizer.tokenize(text.lower())\n",
    "    if x ['threat'] == 1:\n",
    "        threat += tokenizer.tokenize(text.lower())\n",
    "        \n",
    "all_words = Counter(words)\n",
    "all_obscene = Counter(obscene)\n",
    "all_insult = Counter(insult)\n",
    "all_toxic = Counter(toxic)\n",
    "all_severe_toxic = Counter(severe_toxic)\n",
    "all_identity_hate = Counter(identity_hate)\n",
    "all_threat = Counter(threat)\n",
    "\n",
    "for stopword in stopwords.words(\"english\"): \n",
    "    all_words.pop(stopword, None)\n",
    "    all_obscene.pop(stopword, None)\n",
    "    all_insult.pop(stopword, None)\n",
    "    all_toxic.pop(stopword, None)\n",
    "    all_severe_toxic.pop(stopword, None)\n",
    "    all_identity_hate.pop(stopword, None)\n",
    "    all_threat.pop(stopword, None)\n",
    "\n",
    "for alpha_char in list(string.ascii_lowercase + string.ascii_uppercase):\n",
    "    all_words.pop(alpha_char, None)\n",
    "    all_obscene.pop(alpha_char, None)\n",
    "    all_insult.pop(alpha_char, None)\n",
    "    all_toxic.pop(alpha_char, None)\n",
    "    all_severe_toxic.pop(alpha_char, None)\n",
    "    all_identity_hate.pop(alpha_char, None)\n",
    "    all_threat.pop(alpha_char, None)"
   ]
  },
  {
   "cell_type": "markdown",
   "id": "3a2795b1",
   "metadata": {},
   "source": [
    "To count the tokenized characters, Python's `Counter()` object was used to automatically count the number of tokens in the list of words retrieved above. The output for all the comments, arranged by total count in descending order, is as follows:"
   ]
  },
  {
   "cell_type": "code",
   "execution_count": 10,
   "id": "09df5a33",
   "metadata": {
    "jupyter": {
     "outputs_hidden": true
    },
    "scrolled": true,
    "tags": []
   },
   "outputs": [
    {
     "name": "stdout",
     "output_type": "stream",
     "text": [
      "\n",
      "Token (All Comments)          Count\n",
      "article                       57661\n",
      "wikipedia                     48427\n",
      "page                          46460\n",
      "talk                          37094\n",
      "please                        29794\n",
      "would                         29323\n",
      "one                           29179\n",
      "like                          28008\n",
      "see                           21603\n",
      "also                          20641\n",
      "think                         20084\n",
      "know                          19144\n",
      "people                        18468\n",
      "edit                          18288\n",
      "articles                      16712\n",
      "use                           16594\n",
      "time                          15885\n",
      "may                           15611\n",
      "user                          14101\n",
      "thanks                        13904\n"
     ]
    }
   ],
   "source": [
    "print('\\n{}{}'.format('Token (All Comments)'.ljust(30), 'Count'))\n",
    "for value, count in all_words.most_common(20):\n",
    "    print('{}{}'.format(value.ljust(30), count))"
   ]
  },
  {
   "cell_type": "markdown",
   "id": "12a13de2",
   "metadata": {},
   "source": [
    "Next, the tokens for each toxic category will be shown below, arranged by total count in descending order."
   ]
  },
  {
   "cell_type": "code",
   "execution_count": 11,
   "id": "4f67a2a9",
   "metadata": {},
   "outputs": [
    {
     "name": "stdout",
     "output_type": "stream",
     "text": [
      "\n",
      "Token (Insult)                Count\n",
      "fuck                          7925\n",
      "fucking                       2799\n",
      "suck                          2792\n",
      "nigger                        2781\n",
      "go                            2235\n",
      "ass                           2211\n",
      "fat                           1926\n",
      "faggot                        1867\n",
      "bitch                         1733\n",
      "shit                          1689\n",
      "\n",
      "Token (Obscene)               Count\n",
      "fuck                          9860\n",
      "shit                          3212\n",
      "fucking                       3192\n",
      "suck                          3021\n",
      "ass                           2846\n",
      "nigger                        2727\n",
      "go                            2147\n",
      "wikipedia                     1905\n",
      "bitch                         1795\n",
      "like                          1541\n",
      "\n",
      "Token (Toxic)                 Count\n",
      "fuck                          9934\n",
      "wikipedia                     3678\n",
      "shit                          3622\n",
      "like                          3512\n",
      "nigger                        3300\n",
      "fucking                       3289\n",
      "suck                          3235\n",
      "ass                           2939\n",
      "go                            2865\n",
      "hate                          2631\n",
      "\n",
      "Token (Severe Toxic)          Count\n",
      "fuck                          7303\n",
      "suck                          2535\n",
      "ass                           2114\n",
      "shit                          1884\n",
      "faggot                        1571\n",
      "fucking                       1456\n",
      "go                            1240\n",
      "die                           1156\n",
      "bitch                         1113\n",
      "nigger                        1012\n",
      "\n",
      "Token (Identity Hate)         Count\n",
      "nigger                        2969\n",
      "fat                           1322\n",
      "jew                           1314\n",
      "gay                           918\n",
      "fuck                          880\n",
      "die                           879\n",
      "faggot                        742\n",
      "fucking                       518\n",
      "huge                          430\n",
      "suck                          427\n",
      "\n",
      "Token (Threat)                Count\n",
      "die                           1168\n",
      "ass                           772\n",
      "kill                          504\n",
      "going                         294\n",
      "wikipedia                     200\n",
      "block                         170\n",
      "must                          167\n",
      "fuck                          166\n",
      "jim                           158\n",
      "wales                         157\n"
     ]
    }
   ],
   "source": [
    "print('\\n{}{}'.format('Token (Insult)'.ljust(30), 'Count'))\n",
    "for value, count in all_insult.most_common(10):\n",
    "    print('{}{}'.format(value.ljust(30), count))\n",
    "\n",
    "print('\\n{}{}'.format('Token (Obscene)'.ljust(30), 'Count'))\n",
    "for value, count in all_obscene.most_common(10):\n",
    "    print('{}{}'.format(value.ljust(30), count))\n",
    "    \n",
    "print('\\n{}{}'.format('Token (Toxic)'.ljust(30), 'Count'))\n",
    "for value, count in all_toxic.most_common(10):\n",
    "    print('{}{}'.format(value.ljust(30), count))\n",
    "    \n",
    "print('\\n{}{}'.format('Token (Severe Toxic)'.ljust(30), 'Count'))\n",
    "for value, count in all_severe_toxic.most_common(10):\n",
    "    print('{}{}'.format(value.ljust(30), count))\n",
    "    \n",
    "print('\\n{}{}'.format('Token (Identity Hate)'.ljust(30), 'Count'))\n",
    "for value, count in all_identity_hate.most_common(10):\n",
    "    print('{}{}'.format(value.ljust(30), count))\n",
    "    \n",
    "print('\\n{}{}'.format('Token (Threat)'.ljust(30), 'Count'))\n",
    "for value, count in all_threat.most_common(10):\n",
    "    print('{}{}'.format(value.ljust(30), count))"
   ]
  },
  {
   "cell_type": "markdown",
   "id": "7d4f42ab",
   "metadata": {},
   "source": [
    "For a better visual representation of the frequency of these words, these words may be displayed in a wordcloud. Wordclouds are apt for this task as they give prominence to words based on their frequency.\n",
    "\n",
    "A [`WordCloud()`](https://amueller.github.io/word_cloud/generated/wordcloud.WordCloud.html) object is generated below, using the tokens from all comments."
   ]
  },
  {
   "cell_type": "code",
   "execution_count": 12,
   "id": "feb52aeb-ec30-40ce-bc0e-441d57566d48",
   "metadata": {
    "scrolled": true,
    "tags": []
   },
   "outputs": [
    {
     "data": {
      "image/png": "[encoded data removed]",
      "text/plain": [
       "<Figure size 432x288 with 1 Axes>"
      ]
     },
     "metadata": {
      "needs_background": "light"
     },
     "output_type": "display_data"
    }
   ],
   "source": [
    "wordcloud = WordCloud(min_word_length = 3, background_color='white')\n",
    "wordcloud.generate_from_frequencies(all_words)\n",
    "plt.imshow(wordcloud, interpolation='bilinear')\n",
    "plt.title('All Data')\n",
    "plt.axis('off')\n",
    "plt.show()"
   ]
  },
  {
   "cell_type": "markdown",
   "id": "66736efb",
   "metadata": {},
   "source": [
    "Next, several [`WordCloud()`](https://amueller.github.io/word_cloud/generated/wordcloud.WordCloud.html) objects are generated using the tokens from each toxic category as follows:"
   ]
  },
  {
   "cell_type": "markdown",
   "id": "8061fbf3-4360-40b9-ae0a-25f99b0170bd",
   "metadata": {},
   "source": [
    "#### Figure 1. Wordcloud of the Word Frequency of All of the Data"
   ]
  },
  {
   "cell_type": "code",
   "execution_count": 13,
   "id": "733bb09e-196e-49e9-92c4-5d385cac2fe2",
   "metadata": {
    "scrolled": true
   },
   "outputs": [
    {
     "data": {
      "image/png": "[encoded data removed]",
      "text/plain": [
       "<Figure size 432x288 with 6 Axes>"
      ]
     },
     "metadata": {
      "needs_background": "light"
     },
     "output_type": "display_data"
    }
   ],
   "source": [
    "fig = plt.figure()\n",
    "\n",
    "ax2 = fig.add_subplot(231)\n",
    "wordcloud1 = WordCloud(min_word_length = 3, background_color='white')\n",
    "wordcloud1.generate_from_frequencies(all_insult)\n",
    "plt.imshow(wordcloud1)\n",
    "plt.title('Insults')\n",
    "plt.axis('off')\n",
    "\n",
    "ax3 = fig.add_subplot(232)\n",
    "wordcloud2 = WordCloud(min_word_length = 3, background_color='white')\n",
    "wordcloud2.generate_from_frequencies(all_obscene)\n",
    "plt.imshow(wordcloud2)\n",
    "plt.title('Obscene')\n",
    "plt.axis('off')\n",
    "\n",
    "ax4 = fig.add_subplot(233)\n",
    "wordcloud3 = WordCloud(min_word_length = 3, background_color='white')\n",
    "wordcloud3.generate_from_frequencies(all_toxic)\n",
    "plt.imshow(wordcloud3)\n",
    "plt.title('Toxic')\n",
    "plt.axis('off')\n",
    "\n",
    "ax5 = fig.add_subplot(234)\n",
    "wordcloud4 = WordCloud(min_word_length = 3, background_color='white')\n",
    "wordcloud4.generate_from_frequencies(all_severe_toxic)\n",
    "plt.imshow(wordcloud4)\n",
    "plt.title('Severe Toxic')\n",
    "plt.axis('off')\n",
    "\n",
    "ax6 = fig.add_subplot(235)\n",
    "wordcloud5 = WordCloud(min_word_length = 3, background_color='white')\n",
    "wordcloud5.generate_from_frequencies(all_identity_hate)\n",
    "plt.imshow(wordcloud5)\n",
    "plt.title('Identity Hate')\n",
    "plt.axis('off')\n",
    "\n",
    "ax7 = fig.add_subplot(236)\n",
    "wordcloud6 = WordCloud(min_word_length = 3, background_color='white')\n",
    "wordcloud6.generate_from_frequencies(all_threat)\n",
    "plt.imshow(wordcloud6)\n",
    "plt.title('Threats')\n",
    "plt.axis('off')\n",
    "\n",
    "plt.show()"
   ]
  },
  {
   "cell_type": "markdown",
   "id": "7679730d-1bea-4952-b19d-7bf807ea715f",
   "metadata": {},
   "source": [
    "#### Figure 2. Wordcloud of the Word Frequency of Each of the Categories"
   ]
  },
  {
   "cell_type": "markdown",
   "id": "d83a508e",
   "metadata": {},
   "source": [
    "From the list of frequent words outputted earlier and the wordclouds generated above (Figure 1 and 2), there are several things to note.\n",
    "\n",
    "As expected of comments retrieved from Wikipedia's talk page edits, many of the words relate to Wikipedia itself (`article`, `articles`, `wikipedia`, `talk`, `page`, `edit`) and some words involve collaboration and communication between users for edits (`user`, `would`, `like`, `think`, `know`). Words such as `please` and `thanks` can be seen, indicating that many comments are civil and respectful.\n",
    "\n",
    "However, most of the frequently appearing words coming from comments that fall under the various toxic categories are considered profane. Interestingly enough, specific types of words appear more frequently in some categories compared to others. For example, the category `identity_hate` has a higher frequency of various slurs, `threat` contains words relating to physical harm (e.g. `kill`, `die`), and `obscene` contains indecent words related to sexual acts or parts. Furthermore, the word `fuck` consistently appears as part of the ten most frequently seen words for all categories, even appearing as the most frequent word for `insult`, `obscene`, `toxic`, and `severe_toxic`."
   ]
  },
  {
   "cell_type": "markdown",
   "id": "5c11d083-6baa-4a10-b22f-d132ed340d1f",
   "metadata": {},
   "source": [
    "### Based on the `train` data, how correlated are the given categories?\n",
    "Since this challenge mainly focuses on determining the probability of a comment belonging to a specific category, we want to explore the correlations among the different categories. The correlation of each of the categories is computed using Pandas' [`corr`](https://pandas.pydata.org/docs/reference/api/pandas.DataFrame.corr.html) function. \n",
    "\n",
    "It should be noted that since there are only two values—0 and 1—possible for each of the categories, we would not have to worry for outliers."
   ]
  },
  {
   "cell_type": "code",
   "execution_count": 14,
   "id": "17fd8d79-8a32-4b36-8f88-c94602782841",
   "metadata": {
    "jupyter": {
     "outputs_hidden": true
    }
   },
   "outputs": [
    {
     "data": {
      "text/html": [
       "<div>\n",
       "<style scoped>\n",
       "    .dataframe tbody tr th:only-of-type {\n",
       "        vertical-align: middle;\n",
       "    }\n",
       "\n",
       "    .dataframe tbody tr th {\n",
       "        vertical-align: top;\n",
       "    }\n",
       "\n",
       "    .dataframe thead th {\n",
       "        text-align: right;\n",
       "    }\n",
       "</style>\n",
       "<table border=\"1\" class=\"dataframe\">\n",
       "  <thead>\n",
       "    <tr style=\"text-align: right;\">\n",
       "      <th></th>\n",
       "      <th>toxic</th>\n",
       "      <th>severe_toxic</th>\n",
       "      <th>obscene</th>\n",
       "      <th>threat</th>\n",
       "      <th>insult</th>\n",
       "      <th>identity_hate</th>\n",
       "    </tr>\n",
       "  </thead>\n",
       "  <tbody>\n",
       "    <tr>\n",
       "      <th>toxic</th>\n",
       "      <td>1.000000</td>\n",
       "      <td>0.308619</td>\n",
       "      <td>0.676515</td>\n",
       "      <td>0.157058</td>\n",
       "      <td>0.647518</td>\n",
       "      <td>0.266009</td>\n",
       "    </tr>\n",
       "    <tr>\n",
       "      <th>severe_toxic</th>\n",
       "      <td>0.308619</td>\n",
       "      <td>1.000000</td>\n",
       "      <td>0.403014</td>\n",
       "      <td>0.123601</td>\n",
       "      <td>0.375807</td>\n",
       "      <td>0.201600</td>\n",
       "    </tr>\n",
       "    <tr>\n",
       "      <th>obscene</th>\n",
       "      <td>0.676515</td>\n",
       "      <td>0.403014</td>\n",
       "      <td>1.000000</td>\n",
       "      <td>0.141179</td>\n",
       "      <td>0.741272</td>\n",
       "      <td>0.286867</td>\n",
       "    </tr>\n",
       "    <tr>\n",
       "      <th>threat</th>\n",
       "      <td>0.157058</td>\n",
       "      <td>0.123601</td>\n",
       "      <td>0.141179</td>\n",
       "      <td>1.000000</td>\n",
       "      <td>0.150022</td>\n",
       "      <td>0.115128</td>\n",
       "    </tr>\n",
       "    <tr>\n",
       "      <th>insult</th>\n",
       "      <td>0.647518</td>\n",
       "      <td>0.375807</td>\n",
       "      <td>0.741272</td>\n",
       "      <td>0.150022</td>\n",
       "      <td>1.000000</td>\n",
       "      <td>0.337736</td>\n",
       "    </tr>\n",
       "    <tr>\n",
       "      <th>identity_hate</th>\n",
       "      <td>0.266009</td>\n",
       "      <td>0.201600</td>\n",
       "      <td>0.286867</td>\n",
       "      <td>0.115128</td>\n",
       "      <td>0.337736</td>\n",
       "      <td>1.000000</td>\n",
       "    </tr>\n",
       "  </tbody>\n",
       "</table>\n",
       "</div>"
      ],
      "text/plain": [
       "                  toxic  severe_toxic   obscene    threat    insult  \\\n",
       "toxic          1.000000      0.308619  0.676515  0.157058  0.647518   \n",
       "severe_toxic   0.308619      1.000000  0.403014  0.123601  0.375807   \n",
       "obscene        0.676515      0.403014  1.000000  0.141179  0.741272   \n",
       "threat         0.157058      0.123601  0.141179  1.000000  0.150022   \n",
       "insult         0.647518      0.375807  0.741272  0.150022  1.000000   \n",
       "identity_hate  0.266009      0.201600  0.286867  0.115128  0.337736   \n",
       "\n",
       "               identity_hate  \n",
       "toxic               0.266009  \n",
       "severe_toxic        0.201600  \n",
       "obscene             0.286867  \n",
       "threat              0.115128  \n",
       "insult              0.337736  \n",
       "identity_hate       1.000000  "
      ]
     },
     "execution_count": 14,
     "metadata": {},
     "output_type": "execute_result"
    }
   ],
   "source": [
    "correlation = train.corr()\n",
    "correlation"
   ]
  },
  {
   "cell_type": "markdown",
   "id": "924c8305-1960-496e-89dc-ac5f5acf579f",
   "metadata": {},
   "source": [
    "Since it is hard to determine the correlation of the categories using just numbers, we can visualize these numbers using a [`heatmap`](https://seaborn.pydata.org/generated/seaborn.heatmap.html)."
   ]
  },
  {
   "cell_type": "code",
   "execution_count": 15,
   "id": "95ba26d6-1184-46cd-8962-c6ef530a8b4e",
   "metadata": {
    "jupyter": {
     "outputs_hidden": true
    }
   },
   "outputs": [
    {
     "data": {
      "text/plain": [
       "<AxesSubplot:>"
      ]
     },
     "execution_count": 15,
     "metadata": {},
     "output_type": "execute_result"
    },
    {
     "data": {
      "image/png": "[encoded data removed]",
      "text/plain": [
       "<Figure size 360x360 with 2 Axes>"
      ]
     },
     "metadata": {
      "needs_background": "light"
     },
     "output_type": "display_data"
    }
   ],
   "source": [
    "plt.figure (figsize = (5, 5))\n",
    "sns.heatmap (data = correlation, xticklabels = correlation.columns.values, yticklabels = correlation.columns.values, cmap = 'viridis', annot=True)"
   ]
  },
  {
   "cell_type": "markdown",
   "id": "8af50cf8-3806-484c-a3da-c0154b1e72a3",
   "metadata": {},
   "source": [
    "#### Figure 3. Correlation Heatmap of the categories\n",
    "From Figure 3, we can see that there is a low correlation between `threat` and all of the other categories. Additionally, `insult` and `obscene` has the highest correlation among the categories with a 0.74 or 74% correlation."
   ]
  },
  {
   "cell_type": "markdown",
   "id": "fd9a8579-c857-4463-93d0-c6d5b179982d",
   "metadata": {},
   "source": [
    "### What is the range of length of `comment_text`?\n",
    "\n",
    "Determining the range of the length of the string `comment_text` could help us in determining on how long are the words, phrases or sentences our model needs to handle. The length of the longest string can be determined through the use of the [`len`](https://pandas.pydata.org/docs/reference/api/pandas.Series.str.len.html) and [`describe`](https://pandas.pydata.org/docs/reference/api/pandas.DataFrame.describe.html) functions."
   ]
  },
  {
   "cell_type": "code",
   "execution_count": 16,
   "id": "84f44217-e374-4c16-b83c-6174ddf55975",
   "metadata": {
    "tags": []
   },
   "outputs": [
    {
     "data": {
      "text/plain": [
       "count    159571.000000\n",
       "mean        396.593961\n",
       "std         594.387869\n",
       "min           6.000000\n",
       "25%          97.000000\n",
       "50%         207.000000\n",
       "75%         438.000000\n",
       "max        5000.000000\n",
       "Name: comment_text, dtype: float64"
      ]
     },
     "execution_count": 16,
     "metadata": {},
     "output_type": "execute_result"
    }
   ],
   "source": [
    "train['comment_text'].str.len().describe()"
   ]
  },
  {
   "cell_type": "markdown",
   "id": "56223e52-dd9a-4a22-9ec2-f1d656d0e274",
   "metadata": {},
   "source": [
    "From this, we can see that there is at least one string in the `comment_text` column with a length of 5000. This is far from the mean length, which is only 396.\n",
    "\n",
    "To effectively analyze the length of the comments, we can sort our data frame (i.e., using the [`sort_values`](https://pandas.pydata.org/docs/reference/api/pandas.DataFrame.sort_values.html) function) based on the length of the `comment_text` column, from the longest to the shortest."
   ]
  },
  {
   "cell_type": "code",
   "execution_count": 17,
   "id": "590a6582-ad80-40c9-84a4-a26d82159424",
   "metadata": {
    "tags": []
   },
   "outputs": [
    {
     "data": {
      "text/html": [
       "<div>\n",
       "<style scoped>\n",
       "    .dataframe tbody tr th:only-of-type {\n",
       "        vertical-align: middle;\n",
       "    }\n",
       "\n",
       "    .dataframe tbody tr th {\n",
       "        vertical-align: top;\n",
       "    }\n",
       "\n",
       "    .dataframe thead th {\n",
       "        text-align: right;\n",
       "    }\n",
       "</style>\n",
       "<table border=\"1\" class=\"dataframe\">\n",
       "  <thead>\n",
       "    <tr style=\"text-align: right;\">\n",
       "      <th></th>\n",
       "      <th>id</th>\n",
       "      <th>comment_text</th>\n",
       "      <th>toxic</th>\n",
       "      <th>severe_toxic</th>\n",
       "      <th>obscene</th>\n",
       "      <th>threat</th>\n",
       "      <th>insult</th>\n",
       "      <th>identity_hate</th>\n",
       "      <th>string_length</th>\n",
       "    </tr>\n",
       "  </thead>\n",
       "  <tbody>\n",
       "    <tr>\n",
       "      <th>131729</th>\n",
       "      <td>c0e076f0011acaa6</td>\n",
       "      <td>\"FFFFF UUUUUU CCCCCC KKKKKK ===== YOU! F UU C ...</td>\n",
       "      <td>1</td>\n",
       "      <td>1</td>\n",
       "      <td>1</td>\n",
       "      <td>0</td>\n",
       "      <td>1</td>\n",
       "      <td>0</td>\n",
       "      <td>5000</td>\n",
       "    </tr>\n",
       "    <tr>\n",
       "      <th>133254</th>\n",
       "      <td>c8f01ac90c4adc27</td>\n",
       "      <td>FUCK YOU ALL!!  FUCK YOU ALL!!  FUCK YOU ALL!!...</td>\n",
       "      <td>1</td>\n",
       "      <td>1</td>\n",
       "      <td>1</td>\n",
       "      <td>0</td>\n",
       "      <td>1</td>\n",
       "      <td>0</td>\n",
       "      <td>5000</td>\n",
       "    </tr>\n",
       "    <tr>\n",
       "      <th>4174</th>\n",
       "      <td>0b2055f13934a41e</td>\n",
       "      <td>ii CAN STILL POST WITH THIS COMPUTER...I SAID ...</td>\n",
       "      <td>1</td>\n",
       "      <td>0</td>\n",
       "      <td>1</td>\n",
       "      <td>0</td>\n",
       "      <td>1</td>\n",
       "      <td>0</td>\n",
       "      <td>5000</td>\n",
       "    </tr>\n",
       "    <tr>\n",
       "      <th>56834</th>\n",
       "      <td>97e695cfd71944ed</td>\n",
       "      <td>i CAN STILL POST WITH THIS COMPUTER...I SAID B...</td>\n",
       "      <td>1</td>\n",
       "      <td>1</td>\n",
       "      <td>1</td>\n",
       "      <td>0</td>\n",
       "      <td>1</td>\n",
       "      <td>0</td>\n",
       "      <td>5000</td>\n",
       "    </tr>\n",
       "    <tr>\n",
       "      <th>156437</th>\n",
       "      <td>ce2d7821188dd30f</td>\n",
       "      <td>HUGE FAGGOT HUGE FAGGOT HUGE FAGGOT HUGE FAGGO...</td>\n",
       "      <td>1</td>\n",
       "      <td>1</td>\n",
       "      <td>1</td>\n",
       "      <td>0</td>\n",
       "      <td>1</td>\n",
       "      <td>1</td>\n",
       "      <td>5000</td>\n",
       "    </tr>\n",
       "    <tr>\n",
       "      <th>...</th>\n",
       "      <td>...</td>\n",
       "      <td>...</td>\n",
       "      <td>...</td>\n",
       "      <td>...</td>\n",
       "      <td>...</td>\n",
       "      <td>...</td>\n",
       "      <td>...</td>\n",
       "      <td>...</td>\n",
       "      <td>...</td>\n",
       "    </tr>\n",
       "    <tr>\n",
       "      <th>118850</th>\n",
       "      <td>7b3d18857df782cf</td>\n",
       "      <td>FUCK YOU</td>\n",
       "      <td>1</td>\n",
       "      <td>1</td>\n",
       "      <td>1</td>\n",
       "      <td>0</td>\n",
       "      <td>1</td>\n",
       "      <td>0</td>\n",
       "      <td>8</td>\n",
       "    </tr>\n",
       "    <tr>\n",
       "      <th>121074</th>\n",
       "      <td>87c06f935f2c6559</td>\n",
       "      <td>you suck</td>\n",
       "      <td>1</td>\n",
       "      <td>0</td>\n",
       "      <td>1</td>\n",
       "      <td>0</td>\n",
       "      <td>1</td>\n",
       "      <td>0</td>\n",
       "      <td>8</td>\n",
       "    </tr>\n",
       "    <tr>\n",
       "      <th>109985</th>\n",
       "      <td>4c5cde3ab1a618c9</td>\n",
       "      <td>{{unbloc</td>\n",
       "      <td>0</td>\n",
       "      <td>0</td>\n",
       "      <td>0</td>\n",
       "      <td>0</td>\n",
       "      <td>0</td>\n",
       "      <td>0</td>\n",
       "      <td>8</td>\n",
       "    </tr>\n",
       "    <tr>\n",
       "      <th>52442</th>\n",
       "      <td>8c4c53001134f290</td>\n",
       "      <td>14:53,</td>\n",
       "      <td>0</td>\n",
       "      <td>0</td>\n",
       "      <td>0</td>\n",
       "      <td>0</td>\n",
       "      <td>0</td>\n",
       "      <td>0</td>\n",
       "      <td>6</td>\n",
       "    </tr>\n",
       "    <tr>\n",
       "      <th>137062</th>\n",
       "      <td>dd5ac2c49ec34efa</td>\n",
       "      <td>~ J.Lo</td>\n",
       "      <td>0</td>\n",
       "      <td>0</td>\n",
       "      <td>0</td>\n",
       "      <td>0</td>\n",
       "      <td>0</td>\n",
       "      <td>0</td>\n",
       "      <td>6</td>\n",
       "    </tr>\n",
       "  </tbody>\n",
       "</table>\n",
       "<p>159571 rows × 9 columns</p>\n",
       "</div>"
      ],
      "text/plain": [
       "                      id                                       comment_text  \\\n",
       "131729  c0e076f0011acaa6  \"FFFFF UUUUUU CCCCCC KKKKKK ===== YOU! F UU C ...   \n",
       "133254  c8f01ac90c4adc27  FUCK YOU ALL!!  FUCK YOU ALL!!  FUCK YOU ALL!!...   \n",
       "4174    0b2055f13934a41e  ii CAN STILL POST WITH THIS COMPUTER...I SAID ...   \n",
       "56834   97e695cfd71944ed  i CAN STILL POST WITH THIS COMPUTER...I SAID B...   \n",
       "156437  ce2d7821188dd30f  HUGE FAGGOT HUGE FAGGOT HUGE FAGGOT HUGE FAGGO...   \n",
       "...                  ...                                                ...   \n",
       "118850  7b3d18857df782cf                                           FUCK YOU   \n",
       "121074  87c06f935f2c6559                                           you suck   \n",
       "109985  4c5cde3ab1a618c9                                           {{unbloc   \n",
       "52442   8c4c53001134f290                                             14:53,   \n",
       "137062  dd5ac2c49ec34efa                                             ~ J.Lo   \n",
       "\n",
       "        toxic  severe_toxic  obscene  threat  insult  identity_hate  \\\n",
       "131729      1             1        1       0       1              0   \n",
       "133254      1             1        1       0       1              0   \n",
       "4174        1             0        1       0       1              0   \n",
       "56834       1             1        1       0       1              0   \n",
       "156437      1             1        1       0       1              1   \n",
       "...       ...           ...      ...     ...     ...            ...   \n",
       "118850      1             1        1       0       1              0   \n",
       "121074      1             0        1       0       1              0   \n",
       "109985      0             0        0       0       0              0   \n",
       "52442       0             0        0       0       0              0   \n",
       "137062      0             0        0       0       0              0   \n",
       "\n",
       "        string_length  \n",
       "131729           5000  \n",
       "133254           5000  \n",
       "4174             5000  \n",
       "56834            5000  \n",
       "156437           5000  \n",
       "...               ...  \n",
       "118850              8  \n",
       "121074              8  \n",
       "109985              8  \n",
       "52442               6  \n",
       "137062              6  \n",
       "\n",
       "[159571 rows x 9 columns]"
      ]
     },
     "execution_count": 17,
     "metadata": {},
     "output_type": "execute_result"
    }
   ],
   "source": [
    "arranged_index  = train['comment_text'].str.len().sort_values(ascending = False).index\n",
    "arranged_length = train.reindex (arranged_index)\n",
    "\n",
    "length = train['comment_text'].str.len().sort_values(ascending = False)\n",
    "arranged_length ['string_length'] = length\n",
    "arranged_length"
   ]
  },
  {
   "cell_type": "markdown",
   "id": "9d8ceb10-1c2d-4a76-838f-50d89026928f",
   "metadata": {},
   "source": [
    "As we can see, there are several rows with a string length of 5000. From the five comments shown, we can see that it is mostly made up of uppercase characters and copypasted words.\n",
    "\n",
    "Additionally, we can see that there are **42 rows** that has a string length of 5000 for the `comment_text` column. "
   ]
  },
  {
   "cell_type": "code",
   "execution_count": 18,
   "id": "42013730-6cfd-4b57-b0ae-f6925726e376",
   "metadata": {
    "tags": []
   },
   "outputs": [
    {
     "data": {
      "text/plain": [
       "42"
      ]
     },
     "execution_count": 18,
     "metadata": {},
     "output_type": "execute_result"
    }
   ],
   "source": [
    "len(arranged_length [arranged_length ['string_length'] == 5000])"
   ]
  },
  {
   "cell_type": "markdown",
   "id": "ae4a1181-d2b8-4e8f-9985-1df4e5816de8",
   "metadata": {},
   "source": [
    "Through the use of a [`box`](https://matplotlib.org/3.5.0/api/_as_gen/matplotlib.pyplot.box.html) plot, we can see how dispersed our data is."
   ]
  },
  {
   "cell_type": "code",
   "execution_count": 19,
   "id": "8bf680ff-a224-4aff-bf7f-6525775597c1",
   "metadata": {
    "tags": []
   },
   "outputs": [
    {
     "data": {
      "text/plain": [
       "<AxesSubplot:>"
      ]
     },
     "execution_count": 19,
     "metadata": {},
     "output_type": "execute_result"
    },
    {
     "data": {
      "image/png": "[encoded data removed]",
      "text/plain": [
       "<Figure size 360x576 with 1 Axes>"
      ]
     },
     "metadata": {
      "needs_background": "light"
     },
     "output_type": "display_data"
    }
   ],
   "source": [
    "arranged_length ['string_length'].plot.box(grid='True', figsize=(5, 8))"
   ]
  },
  {
   "cell_type": "markdown",
   "id": "e6588de3-c4a1-4bd0-898b-8b94b4e1efac",
   "metadata": {},
   "source": [
    "#### Figure 4. Box Plot of the Length of `comment_text`\n",
    "Using Figure 4, we can see that there are outliers in the length of the `comment_text` as there are comments with lengths that are higher than the upper whisker. Additionally, this boxplot visually complements what we have learned in the output of the [`describe`](https://pandas.pydata.org/docs/reference/api/pandas.DataFrame.describe.html) function: 50% of the length of the `comment_text` column can be found within the range of 97 and 438, with an Interquartile range (IQR) of 341."
   ]
  },
  {
   "cell_type": "markdown",
   "id": "bec66c5f",
   "metadata": {},
   "source": [
    "## Data Pre-Processing and Cleaning\n",
    "For the data cleaning, we would check if the test and train data: (1) has the correct data type, (2) has **NaN** values, and (3) has duplicate rows. \n",
    "\n",
    "Once we have checked and fix these, we would expand the contractions found in `comment_text`, and remove other non-word characters. This is because we need the words to be a single word and not a combination of words, as we would be utilizing **TF-IFD** (Term Frequency–Inverse Document Frequency) in the later parts of the notebook. "
   ]
  },
  {
   "cell_type": "markdown",
   "id": "23d430df",
   "metadata": {},
   "source": [
    "### Data Types of the Variables\n",
    "For the data types of the columns, we are expecting that the `id` and the `comment_text` columns (for both the `train` and `test` data) are object types as these columns are made up of alphanumeric characters. For the succeeding columns of the `train` data, as these works as boolean flags that indicate the classification of the `comment_text`, these columns should be integers."
   ]
  },
  {
   "cell_type": "code",
   "execution_count": 20,
   "id": "f433b619",
   "metadata": {
    "scrolled": true
   },
   "outputs": [
    {
     "data": {
      "text/plain": [
       "id               object\n",
       "comment_text     object\n",
       "toxic             int64\n",
       "severe_toxic      int64\n",
       "obscene           int64\n",
       "threat            int64\n",
       "insult            int64\n",
       "identity_hate     int64\n",
       "dtype: object"
      ]
     },
     "execution_count": 20,
     "metadata": {},
     "output_type": "execute_result"
    }
   ],
   "source": [
    "train.dtypes"
   ]
  },
  {
   "cell_type": "code",
   "execution_count": 21,
   "id": "f5394a39",
   "metadata": {
    "scrolled": true
   },
   "outputs": [
    {
     "data": {
      "text/plain": [
       "id              object\n",
       "comment_text    object\n",
       "dtype: object"
      ]
     },
     "execution_count": 21,
     "metadata": {},
     "output_type": "execute_result"
    }
   ],
   "source": [
    "test.dtypes"
   ]
  },
  {
   "cell_type": "markdown",
   "id": "c115b51e",
   "metadata": {},
   "source": [
    "As the data types of the column are what we expected, we do not need to perform any cleaning on their data types."
   ]
  },
  {
   "cell_type": "markdown",
   "id": "0e9cd239",
   "metadata": {},
   "source": [
    "### Checking for `NaN`\n",
    "Additionally, we also need to check if there are rows with **NaN** value for any of the columns. This is because having a **NaN** value for any of the columns are not allowed as it might affect the learning or prediction of our model.\n",
    "\n",
    "The combination of the [`isna`](https://pandas.pydata.org/docs/reference/api/pandas.isna.html) and [`sum`](https://pandas.pydata.org/docs/reference/api/pandas.DataFrame.sum.html) functions would allow us to see how many rows have **NaN** values for each of the columns."
   ]
  },
  {
   "cell_type": "code",
   "execution_count": 22,
   "id": "dcbadc5b",
   "metadata": {},
   "outputs": [
    {
     "data": {
      "text/plain": [
       "id               0\n",
       "comment_text     0\n",
       "toxic            0\n",
       "severe_toxic     0\n",
       "obscene          0\n",
       "threat           0\n",
       "insult           0\n",
       "identity_hate    0\n",
       "dtype: int64"
      ]
     },
     "execution_count": 22,
     "metadata": {},
     "output_type": "execute_result"
    }
   ],
   "source": [
    "train.isna().sum()"
   ]
  },
  {
   "cell_type": "code",
   "execution_count": 23,
   "id": "c7876a60",
   "metadata": {
    "scrolled": true
   },
   "outputs": [
    {
     "data": {
      "text/plain": [
       "id              0\n",
       "comment_text    0\n",
       "dtype: int64"
      ]
     },
     "execution_count": 23,
     "metadata": {},
     "output_type": "execute_result"
    }
   ],
   "source": [
    "test.isna().sum()"
   ]
  },
  {
   "cell_type": "markdown",
   "id": "2bd46199",
   "metadata": {},
   "source": [
    "With this, we are sure that all of the rows have values for each of the columns."
   ]
  },
  {
   "cell_type": "markdown",
   "id": "72139524",
   "metadata": {},
   "source": [
    "### Checking for Duplicate Rows\n",
    "Then, we also have to check if there are rows that are duplicated. In the case that there are duplicated rows, they should be dropped as it might bias the models towards these duplicated rows.\n",
    "\n",
    "We can check for duplicates using the [`duplicated`](https://pandas.pydata.org/docs/reference/api/pandas.DataFrame.duplicated.html) function."
   ]
  },
  {
   "cell_type": "code",
   "execution_count": 24,
   "id": "badd5719",
   "metadata": {},
   "outputs": [
    {
     "data": {
      "text/html": [
       "<div>\n",
       "<style scoped>\n",
       "    .dataframe tbody tr th:only-of-type {\n",
       "        vertical-align: middle;\n",
       "    }\n",
       "\n",
       "    .dataframe tbody tr th {\n",
       "        vertical-align: top;\n",
       "    }\n",
       "\n",
       "    .dataframe thead th {\n",
       "        text-align: right;\n",
       "    }\n",
       "</style>\n",
       "<table border=\"1\" class=\"dataframe\">\n",
       "  <thead>\n",
       "    <tr style=\"text-align: right;\">\n",
       "      <th></th>\n",
       "      <th>id</th>\n",
       "      <th>comment_text</th>\n",
       "      <th>toxic</th>\n",
       "      <th>severe_toxic</th>\n",
       "      <th>obscene</th>\n",
       "      <th>threat</th>\n",
       "      <th>insult</th>\n",
       "      <th>identity_hate</th>\n",
       "    </tr>\n",
       "  </thead>\n",
       "  <tbody>\n",
       "  </tbody>\n",
       "</table>\n",
       "</div>"
      ],
      "text/plain": [
       "Empty DataFrame\n",
       "Columns: [id, comment_text, toxic, severe_toxic, obscene, threat, insult, identity_hate]\n",
       "Index: []"
      ]
     },
     "execution_count": 24,
     "metadata": {},
     "output_type": "execute_result"
    }
   ],
   "source": [
    "train [train.duplicated()]"
   ]
  },
  {
   "cell_type": "code",
   "execution_count": 25,
   "id": "d388a559",
   "metadata": {},
   "outputs": [
    {
     "data": {
      "text/html": [
       "<div>\n",
       "<style scoped>\n",
       "    .dataframe tbody tr th:only-of-type {\n",
       "        vertical-align: middle;\n",
       "    }\n",
       "\n",
       "    .dataframe tbody tr th {\n",
       "        vertical-align: top;\n",
       "    }\n",
       "\n",
       "    .dataframe thead th {\n",
       "        text-align: right;\n",
       "    }\n",
       "</style>\n",
       "<table border=\"1\" class=\"dataframe\">\n",
       "  <thead>\n",
       "    <tr style=\"text-align: right;\">\n",
       "      <th></th>\n",
       "      <th>id</th>\n",
       "      <th>comment_text</th>\n",
       "    </tr>\n",
       "  </thead>\n",
       "  <tbody>\n",
       "  </tbody>\n",
       "</table>\n",
       "</div>"
      ],
      "text/plain": [
       "Empty DataFrame\n",
       "Columns: [id, comment_text]\n",
       "Index: []"
      ]
     },
     "execution_count": 25,
     "metadata": {},
     "output_type": "execute_result"
    }
   ],
   "source": [
    "test [test.duplicated()]"
   ]
  },
  {
   "cell_type": "markdown",
   "id": "4cc30ca8",
   "metadata": {},
   "source": [
    "Since we are now certain that there are no duplicates, we can now proceed with cleaning the content of the `comment_text` column."
   ]
  },
  {
   "cell_type": "markdown",
   "id": "82025dcc",
   "metadata": {},
   "source": [
    "### Expanding the Contractions\n",
    "In Natural Language Processing, the `contractions` is one of the libraries that is used to expand contractions. However, even though this library worked for the train data, an *IndexError* was raised in the testing data. Upon researching, this stemmed from the fact that the `fix` function of this library can only handle UTF-8 characters. Due to this, a function that can handle this expansion was created."
   ]
  },
  {
   "cell_type": "code",
   "execution_count": 26,
   "id": "7b634bf7",
   "metadata": {},
   "outputs": [],
   "source": [
    "def expand_contractions (comment_text):\n",
    "    comment_text = re.sub(r\"won\\'t\", \"will not\", comment_text)\n",
    "    comment_text = re.sub(r\"can\\'t\", \"can not\", comment_text)\n",
    "\n",
    "    comment_text = re.sub(r\"n\\'t\", \" not\", comment_text)\n",
    "    comment_text = re.sub(r\"\\'re\", \" are\", comment_text)\n",
    "    comment_text = re.sub(r\"what's\", \" is\", comment_text)\n",
    "    comment_text = re.sub(r\"\\'s\", \" \", comment_text) # to remove 's in possessive noun's\n",
    "    comment_text = re.sub(r\"\\'d\", \" would\", comment_text)\n",
    "    comment_text = re.sub(r\"\\'ll\", \" will\", comment_text)\n",
    "    comment_text = re.sub(r\"\\'t\", \" not\", comment_text)\n",
    "    comment_text = re.sub(r\"\\'ve\", \" have\", comment_text)\n",
    "    comment_text = re.sub(r\"\\'m\", \" am\", comment_text)\n",
    "    return comment_text.strip ()"
   ]
  },
  {
   "cell_type": "markdown",
   "id": "cf097694",
   "metadata": {},
   "source": [
    "The `comment_text` column of both the `train` and `test` data would be mapped to the words returned by this function. Take note that the value of the `comment_text` column would be made into lowercase in order to lessen the vocabulary, which in turn would lower the dimension of the TF-IDF vector."
   ]
  },
  {
   "cell_type": "code",
   "execution_count": 27,
   "id": "71784bb0",
   "metadata": {},
   "outputs": [
    {
     "data": {
      "text/html": [
       "<div>\n",
       "<style scoped>\n",
       "    .dataframe tbody tr th:only-of-type {\n",
       "        vertical-align: middle;\n",
       "    }\n",
       "\n",
       "    .dataframe tbody tr th {\n",
       "        vertical-align: top;\n",
       "    }\n",
       "\n",
       "    .dataframe thead th {\n",
       "        text-align: right;\n",
       "    }\n",
       "</style>\n",
       "<table border=\"1\" class=\"dataframe\">\n",
       "  <thead>\n",
       "    <tr style=\"text-align: right;\">\n",
       "      <th></th>\n",
       "      <th>id</th>\n",
       "      <th>comment_text</th>\n",
       "      <th>toxic</th>\n",
       "      <th>severe_toxic</th>\n",
       "      <th>obscene</th>\n",
       "      <th>threat</th>\n",
       "      <th>insult</th>\n",
       "      <th>identity_hate</th>\n",
       "    </tr>\n",
       "  </thead>\n",
       "  <tbody>\n",
       "    <tr>\n",
       "      <th>0</th>\n",
       "      <td>0000997932d777bf</td>\n",
       "      <td>explanation\\r\\nwhy the edits made under my use...</td>\n",
       "      <td>0</td>\n",
       "      <td>0</td>\n",
       "      <td>0</td>\n",
       "      <td>0</td>\n",
       "      <td>0</td>\n",
       "      <td>0</td>\n",
       "    </tr>\n",
       "    <tr>\n",
       "      <th>1</th>\n",
       "      <td>000103f0d9cfb60f</td>\n",
       "      <td>d'aww! he matches this background colour i am ...</td>\n",
       "      <td>0</td>\n",
       "      <td>0</td>\n",
       "      <td>0</td>\n",
       "      <td>0</td>\n",
       "      <td>0</td>\n",
       "      <td>0</td>\n",
       "    </tr>\n",
       "    <tr>\n",
       "      <th>2</th>\n",
       "      <td>000113f07ec002fd</td>\n",
       "      <td>hey man, i am really not trying to edit war. i...</td>\n",
       "      <td>0</td>\n",
       "      <td>0</td>\n",
       "      <td>0</td>\n",
       "      <td>0</td>\n",
       "      <td>0</td>\n",
       "      <td>0</td>\n",
       "    </tr>\n",
       "    <tr>\n",
       "      <th>3</th>\n",
       "      <td>0001b41b1c6bb37e</td>\n",
       "      <td>\"\\r\\nmore\\r\\ni can not make any real suggestio...</td>\n",
       "      <td>0</td>\n",
       "      <td>0</td>\n",
       "      <td>0</td>\n",
       "      <td>0</td>\n",
       "      <td>0</td>\n",
       "      <td>0</td>\n",
       "    </tr>\n",
       "    <tr>\n",
       "      <th>4</th>\n",
       "      <td>0001d958c54c6e35</td>\n",
       "      <td>you, sir, are my hero. any chance you remember...</td>\n",
       "      <td>0</td>\n",
       "      <td>0</td>\n",
       "      <td>0</td>\n",
       "      <td>0</td>\n",
       "      <td>0</td>\n",
       "      <td>0</td>\n",
       "    </tr>\n",
       "    <tr>\n",
       "      <th>...</th>\n",
       "      <td>...</td>\n",
       "      <td>...</td>\n",
       "      <td>...</td>\n",
       "      <td>...</td>\n",
       "      <td>...</td>\n",
       "      <td>...</td>\n",
       "      <td>...</td>\n",
       "      <td>...</td>\n",
       "    </tr>\n",
       "    <tr>\n",
       "      <th>159566</th>\n",
       "      <td>ffe987279560d7ff</td>\n",
       "      <td>\":::::and for the second time of asking, when ...</td>\n",
       "      <td>0</td>\n",
       "      <td>0</td>\n",
       "      <td>0</td>\n",
       "      <td>0</td>\n",
       "      <td>0</td>\n",
       "      <td>0</td>\n",
       "    </tr>\n",
       "    <tr>\n",
       "      <th>159567</th>\n",
       "      <td>ffea4adeee384e90</td>\n",
       "      <td>you should be ashamed of yourself \\r\\n\\r\\nthat...</td>\n",
       "      <td>0</td>\n",
       "      <td>0</td>\n",
       "      <td>0</td>\n",
       "      <td>0</td>\n",
       "      <td>0</td>\n",
       "      <td>0</td>\n",
       "    </tr>\n",
       "    <tr>\n",
       "      <th>159568</th>\n",
       "      <td>ffee36eab5c267c9</td>\n",
       "      <td>spitzer \\r\\n\\r\\numm, theres no actual article ...</td>\n",
       "      <td>0</td>\n",
       "      <td>0</td>\n",
       "      <td>0</td>\n",
       "      <td>0</td>\n",
       "      <td>0</td>\n",
       "      <td>0</td>\n",
       "    </tr>\n",
       "    <tr>\n",
       "      <th>159569</th>\n",
       "      <td>fff125370e4aaaf3</td>\n",
       "      <td>and it looks like it was actually you who put ...</td>\n",
       "      <td>0</td>\n",
       "      <td>0</td>\n",
       "      <td>0</td>\n",
       "      <td>0</td>\n",
       "      <td>0</td>\n",
       "      <td>0</td>\n",
       "    </tr>\n",
       "    <tr>\n",
       "      <th>159570</th>\n",
       "      <td>fff46fc426af1f9a</td>\n",
       "      <td>\"\\r\\nand ... i really do not think you underst...</td>\n",
       "      <td>0</td>\n",
       "      <td>0</td>\n",
       "      <td>0</td>\n",
       "      <td>0</td>\n",
       "      <td>0</td>\n",
       "      <td>0</td>\n",
       "    </tr>\n",
       "  </tbody>\n",
       "</table>\n",
       "<p>159571 rows × 8 columns</p>\n",
       "</div>"
      ],
      "text/plain": [
       "                      id                                       comment_text  \\\n",
       "0       0000997932d777bf  explanation\\r\\nwhy the edits made under my use...   \n",
       "1       000103f0d9cfb60f  d'aww! he matches this background colour i am ...   \n",
       "2       000113f07ec002fd  hey man, i am really not trying to edit war. i...   \n",
       "3       0001b41b1c6bb37e  \"\\r\\nmore\\r\\ni can not make any real suggestio...   \n",
       "4       0001d958c54c6e35  you, sir, are my hero. any chance you remember...   \n",
       "...                  ...                                                ...   \n",
       "159566  ffe987279560d7ff  \":::::and for the second time of asking, when ...   \n",
       "159567  ffea4adeee384e90  you should be ashamed of yourself \\r\\n\\r\\nthat...   \n",
       "159568  ffee36eab5c267c9  spitzer \\r\\n\\r\\numm, theres no actual article ...   \n",
       "159569  fff125370e4aaaf3  and it looks like it was actually you who put ...   \n",
       "159570  fff46fc426af1f9a  \"\\r\\nand ... i really do not think you underst...   \n",
       "\n",
       "        toxic  severe_toxic  obscene  threat  insult  identity_hate  \n",
       "0           0             0        0       0       0              0  \n",
       "1           0             0        0       0       0              0  \n",
       "2           0             0        0       0       0              0  \n",
       "3           0             0        0       0       0              0  \n",
       "4           0             0        0       0       0              0  \n",
       "...       ...           ...      ...     ...     ...            ...  \n",
       "159566      0             0        0       0       0              0  \n",
       "159567      0             0        0       0       0              0  \n",
       "159568      0             0        0       0       0              0  \n",
       "159569      0             0        0       0       0              0  \n",
       "159570      0             0        0       0       0              0  \n",
       "\n",
       "[159571 rows x 8 columns]"
      ]
     },
     "execution_count": 27,
     "metadata": {},
     "output_type": "execute_result"
    }
   ],
   "source": [
    "train ['comment_text'] = train ['comment_text'].map (lambda text : expand_contractions (text.lower ()))\n",
    "train"
   ]
  },
  {
   "cell_type": "code",
   "execution_count": 28,
   "id": "7b12f3a8",
   "metadata": {},
   "outputs": [
    {
     "data": {
      "text/html": [
       "<div>\n",
       "<style scoped>\n",
       "    .dataframe tbody tr th:only-of-type {\n",
       "        vertical-align: middle;\n",
       "    }\n",
       "\n",
       "    .dataframe tbody tr th {\n",
       "        vertical-align: top;\n",
       "    }\n",
       "\n",
       "    .dataframe thead th {\n",
       "        text-align: right;\n",
       "    }\n",
       "</style>\n",
       "<table border=\"1\" class=\"dataframe\">\n",
       "  <thead>\n",
       "    <tr style=\"text-align: right;\">\n",
       "      <th></th>\n",
       "      <th>id</th>\n",
       "      <th>comment_text</th>\n",
       "    </tr>\n",
       "  </thead>\n",
       "  <tbody>\n",
       "    <tr>\n",
       "      <th>0</th>\n",
       "      <td>00001cee341fdb12</td>\n",
       "      <td>yo bitch ja rule is more succesful then you wi...</td>\n",
       "    </tr>\n",
       "    <tr>\n",
       "      <th>1</th>\n",
       "      <td>0000247867823ef7</td>\n",
       "      <td>== from rfc == \\r\\n\\r\\n the title is fine as i...</td>\n",
       "    </tr>\n",
       "    <tr>\n",
       "      <th>2</th>\n",
       "      <td>00013b17ad220c46</td>\n",
       "      <td>\" \\r\\n\\r\\n == sources == \\r\\n\\r\\n * zawe ashto...</td>\n",
       "    </tr>\n",
       "    <tr>\n",
       "      <th>3</th>\n",
       "      <td>00017563c3f7919a</td>\n",
       "      <td>:if you have a look back at the source, the in...</td>\n",
       "    </tr>\n",
       "    <tr>\n",
       "      <th>4</th>\n",
       "      <td>00017695ad8997eb</td>\n",
       "      <td>i do not anonymously edit articles at all.</td>\n",
       "    </tr>\n",
       "    <tr>\n",
       "      <th>...</th>\n",
       "      <td>...</td>\n",
       "      <td>...</td>\n",
       "    </tr>\n",
       "    <tr>\n",
       "      <th>153159</th>\n",
       "      <td>fffcd0960ee309b5</td>\n",
       "      <td>. \\r\\n i totally agree, this stuff is nothing ...</td>\n",
       "    </tr>\n",
       "    <tr>\n",
       "      <th>153160</th>\n",
       "      <td>fffd7a9a6eb32c16</td>\n",
       "      <td>== throw from out field to home plate. == \\r\\n...</td>\n",
       "    </tr>\n",
       "    <tr>\n",
       "      <th>153161</th>\n",
       "      <td>fffda9e8d6fafa9e</td>\n",
       "      <td>\" \\r\\n\\r\\n == okinotorishima categories == \\r\\...</td>\n",
       "    </tr>\n",
       "    <tr>\n",
       "      <th>153162</th>\n",
       "      <td>fffe8f1340a79fc2</td>\n",
       "      <td>\" \\r\\n\\r\\n == \"\"one of the founding nations of...</td>\n",
       "    </tr>\n",
       "    <tr>\n",
       "      <th>153163</th>\n",
       "      <td>ffffce3fb183ee80</td>\n",
       "      <td>\" \\r\\n :::stop already. your bullshit is not w...</td>\n",
       "    </tr>\n",
       "  </tbody>\n",
       "</table>\n",
       "<p>153164 rows × 2 columns</p>\n",
       "</div>"
      ],
      "text/plain": [
       "                      id                                       comment_text\n",
       "0       00001cee341fdb12  yo bitch ja rule is more succesful then you wi...\n",
       "1       0000247867823ef7  == from rfc == \\r\\n\\r\\n the title is fine as i...\n",
       "2       00013b17ad220c46  \" \\r\\n\\r\\n == sources == \\r\\n\\r\\n * zawe ashto...\n",
       "3       00017563c3f7919a  :if you have a look back at the source, the in...\n",
       "4       00017695ad8997eb         i do not anonymously edit articles at all.\n",
       "...                  ...                                                ...\n",
       "153159  fffcd0960ee309b5  . \\r\\n i totally agree, this stuff is nothing ...\n",
       "153160  fffd7a9a6eb32c16  == throw from out field to home plate. == \\r\\n...\n",
       "153161  fffda9e8d6fafa9e  \" \\r\\n\\r\\n == okinotorishima categories == \\r\\...\n",
       "153162  fffe8f1340a79fc2  \" \\r\\n\\r\\n == \"\"one of the founding nations of...\n",
       "153163  ffffce3fb183ee80  \" \\r\\n :::stop already. your bullshit is not w...\n",
       "\n",
       "[153164 rows x 2 columns]"
      ]
     },
     "execution_count": 28,
     "metadata": {},
     "output_type": "execute_result"
    }
   ],
   "source": [
    "test ['comment_text'] = test ['comment_text'].map (lambda text : expand_contractions (text.lower ()))\n",
    "test"
   ]
  },
  {
   "cell_type": "markdown",
   "id": "e80e080b",
   "metadata": {},
   "source": [
    "However, from the current `test` and `train` data, we can see that if we make used TF-IDF on terms above, we would still see problems with whitespaces (e.g., new line characters, tab characters) and non-alphanumeric characters (e.g., equals sign, ellipses, repeated punctuation marks)."
   ]
  },
  {
   "cell_type": "markdown",
   "id": "0945a9c9",
   "metadata": {},
   "source": [
    "### Removing Non-word Characters\n",
    "To remove the problem regarding white spaces and non-alphanumeric characters, we would be utilizing regular expressions to easily remove these two types of characters. To do this easily, we defined a function that would return a string that only has alphanumeric characters. "
   ]
  },
  {
   "cell_type": "code",
   "execution_count": 29,
   "id": "1e4b7207",
   "metadata": {},
   "outputs": [],
   "source": [
    "def remove_other_chars (comment_text):\n",
    "    comment_text = re.sub ('\\W', ' ', comment_text)\n",
    "    comment_text = re.sub ('\\s+', ' ', comment_text)\n",
    "    return comment_text.strip ()"
   ]
  },
  {
   "cell_type": "markdown",
   "id": "9090d377",
   "metadata": {},
   "source": [
    "Next, we would apply this function to the `comment_text` column of both the `train` and `test` data."
   ]
  },
  {
   "cell_type": "code",
   "execution_count": 30,
   "id": "4883321d",
   "metadata": {},
   "outputs": [
    {
     "data": {
      "text/html": [
       "<div>\n",
       "<style scoped>\n",
       "    .dataframe tbody tr th:only-of-type {\n",
       "        vertical-align: middle;\n",
       "    }\n",
       "\n",
       "    .dataframe tbody tr th {\n",
       "        vertical-align: top;\n",
       "    }\n",
       "\n",
       "    .dataframe thead th {\n",
       "        text-align: right;\n",
       "    }\n",
       "</style>\n",
       "<table border=\"1\" class=\"dataframe\">\n",
       "  <thead>\n",
       "    <tr style=\"text-align: right;\">\n",
       "      <th></th>\n",
       "      <th>id</th>\n",
       "      <th>comment_text</th>\n",
       "      <th>toxic</th>\n",
       "      <th>severe_toxic</th>\n",
       "      <th>obscene</th>\n",
       "      <th>threat</th>\n",
       "      <th>insult</th>\n",
       "      <th>identity_hate</th>\n",
       "    </tr>\n",
       "  </thead>\n",
       "  <tbody>\n",
       "    <tr>\n",
       "      <th>0</th>\n",
       "      <td>0000997932d777bf</td>\n",
       "      <td>explanation why the edits made under my userna...</td>\n",
       "      <td>0</td>\n",
       "      <td>0</td>\n",
       "      <td>0</td>\n",
       "      <td>0</td>\n",
       "      <td>0</td>\n",
       "      <td>0</td>\n",
       "    </tr>\n",
       "    <tr>\n",
       "      <th>1</th>\n",
       "      <td>000103f0d9cfb60f</td>\n",
       "      <td>d aww he matches this background colour i am s...</td>\n",
       "      <td>0</td>\n",
       "      <td>0</td>\n",
       "      <td>0</td>\n",
       "      <td>0</td>\n",
       "      <td>0</td>\n",
       "      <td>0</td>\n",
       "    </tr>\n",
       "    <tr>\n",
       "      <th>2</th>\n",
       "      <td>000113f07ec002fd</td>\n",
       "      <td>hey man i am really not trying to edit war it ...</td>\n",
       "      <td>0</td>\n",
       "      <td>0</td>\n",
       "      <td>0</td>\n",
       "      <td>0</td>\n",
       "      <td>0</td>\n",
       "      <td>0</td>\n",
       "    </tr>\n",
       "    <tr>\n",
       "      <th>3</th>\n",
       "      <td>0001b41b1c6bb37e</td>\n",
       "      <td>more i can not make any real suggestions on im...</td>\n",
       "      <td>0</td>\n",
       "      <td>0</td>\n",
       "      <td>0</td>\n",
       "      <td>0</td>\n",
       "      <td>0</td>\n",
       "      <td>0</td>\n",
       "    </tr>\n",
       "    <tr>\n",
       "      <th>4</th>\n",
       "      <td>0001d958c54c6e35</td>\n",
       "      <td>you sir are my hero any chance you remember wh...</td>\n",
       "      <td>0</td>\n",
       "      <td>0</td>\n",
       "      <td>0</td>\n",
       "      <td>0</td>\n",
       "      <td>0</td>\n",
       "      <td>0</td>\n",
       "    </tr>\n",
       "    <tr>\n",
       "      <th>...</th>\n",
       "      <td>...</td>\n",
       "      <td>...</td>\n",
       "      <td>...</td>\n",
       "      <td>...</td>\n",
       "      <td>...</td>\n",
       "      <td>...</td>\n",
       "      <td>...</td>\n",
       "      <td>...</td>\n",
       "    </tr>\n",
       "    <tr>\n",
       "      <th>159566</th>\n",
       "      <td>ffe987279560d7ff</td>\n",
       "      <td>and for the second time of asking when your vi...</td>\n",
       "      <td>0</td>\n",
       "      <td>0</td>\n",
       "      <td>0</td>\n",
       "      <td>0</td>\n",
       "      <td>0</td>\n",
       "      <td>0</td>\n",
       "    </tr>\n",
       "    <tr>\n",
       "      <th>159567</th>\n",
       "      <td>ffea4adeee384e90</td>\n",
       "      <td>you should be ashamed of yourself that is a ho...</td>\n",
       "      <td>0</td>\n",
       "      <td>0</td>\n",
       "      <td>0</td>\n",
       "      <td>0</td>\n",
       "      <td>0</td>\n",
       "      <td>0</td>\n",
       "    </tr>\n",
       "    <tr>\n",
       "      <th>159568</th>\n",
       "      <td>ffee36eab5c267c9</td>\n",
       "      <td>spitzer umm theres no actual article for prost...</td>\n",
       "      <td>0</td>\n",
       "      <td>0</td>\n",
       "      <td>0</td>\n",
       "      <td>0</td>\n",
       "      <td>0</td>\n",
       "      <td>0</td>\n",
       "    </tr>\n",
       "    <tr>\n",
       "      <th>159569</th>\n",
       "      <td>fff125370e4aaaf3</td>\n",
       "      <td>and it looks like it was actually you who put ...</td>\n",
       "      <td>0</td>\n",
       "      <td>0</td>\n",
       "      <td>0</td>\n",
       "      <td>0</td>\n",
       "      <td>0</td>\n",
       "      <td>0</td>\n",
       "    </tr>\n",
       "    <tr>\n",
       "      <th>159570</th>\n",
       "      <td>fff46fc426af1f9a</td>\n",
       "      <td>and i really do not think you understand i cam...</td>\n",
       "      <td>0</td>\n",
       "      <td>0</td>\n",
       "      <td>0</td>\n",
       "      <td>0</td>\n",
       "      <td>0</td>\n",
       "      <td>0</td>\n",
       "    </tr>\n",
       "  </tbody>\n",
       "</table>\n",
       "<p>159571 rows × 8 columns</p>\n",
       "</div>"
      ],
      "text/plain": [
       "                      id                                       comment_text  \\\n",
       "0       0000997932d777bf  explanation why the edits made under my userna...   \n",
       "1       000103f0d9cfb60f  d aww he matches this background colour i am s...   \n",
       "2       000113f07ec002fd  hey man i am really not trying to edit war it ...   \n",
       "3       0001b41b1c6bb37e  more i can not make any real suggestions on im...   \n",
       "4       0001d958c54c6e35  you sir are my hero any chance you remember wh...   \n",
       "...                  ...                                                ...   \n",
       "159566  ffe987279560d7ff  and for the second time of asking when your vi...   \n",
       "159567  ffea4adeee384e90  you should be ashamed of yourself that is a ho...   \n",
       "159568  ffee36eab5c267c9  spitzer umm theres no actual article for prost...   \n",
       "159569  fff125370e4aaaf3  and it looks like it was actually you who put ...   \n",
       "159570  fff46fc426af1f9a  and i really do not think you understand i cam...   \n",
       "\n",
       "        toxic  severe_toxic  obscene  threat  insult  identity_hate  \n",
       "0           0             0        0       0       0              0  \n",
       "1           0             0        0       0       0              0  \n",
       "2           0             0        0       0       0              0  \n",
       "3           0             0        0       0       0              0  \n",
       "4           0             0        0       0       0              0  \n",
       "...       ...           ...      ...     ...     ...            ...  \n",
       "159566      0             0        0       0       0              0  \n",
       "159567      0             0        0       0       0              0  \n",
       "159568      0             0        0       0       0              0  \n",
       "159569      0             0        0       0       0              0  \n",
       "159570      0             0        0       0       0              0  \n",
       "\n",
       "[159571 rows x 8 columns]"
      ]
     },
     "execution_count": 30,
     "metadata": {},
     "output_type": "execute_result"
    }
   ],
   "source": [
    "train ['comment_text'] = train ['comment_text'].map (lambda text : remove_other_chars (text.lower ()))\n",
    "train"
   ]
  },
  {
   "cell_type": "code",
   "execution_count": 31,
   "id": "ca99566e",
   "metadata": {
    "scrolled": true
   },
   "outputs": [
    {
     "data": {
      "text/html": [
       "<div>\n",
       "<style scoped>\n",
       "    .dataframe tbody tr th:only-of-type {\n",
       "        vertical-align: middle;\n",
       "    }\n",
       "\n",
       "    .dataframe tbody tr th {\n",
       "        vertical-align: top;\n",
       "    }\n",
       "\n",
       "    .dataframe thead th {\n",
       "        text-align: right;\n",
       "    }\n",
       "</style>\n",
       "<table border=\"1\" class=\"dataframe\">\n",
       "  <thead>\n",
       "    <tr style=\"text-align: right;\">\n",
       "      <th></th>\n",
       "      <th>id</th>\n",
       "      <th>comment_text</th>\n",
       "    </tr>\n",
       "  </thead>\n",
       "  <tbody>\n",
       "    <tr>\n",
       "      <th>0</th>\n",
       "      <td>00001cee341fdb12</td>\n",
       "      <td>yo bitch ja rule is more succesful then you wi...</td>\n",
       "    </tr>\n",
       "    <tr>\n",
       "      <th>1</th>\n",
       "      <td>0000247867823ef7</td>\n",
       "      <td>from rfc the title is fine as it is imo</td>\n",
       "    </tr>\n",
       "    <tr>\n",
       "      <th>2</th>\n",
       "      <td>00013b17ad220c46</td>\n",
       "      <td>sources zawe ashton on lapland</td>\n",
       "    </tr>\n",
       "    <tr>\n",
       "      <th>3</th>\n",
       "      <td>00017563c3f7919a</td>\n",
       "      <td>if you have a look back at the source the info...</td>\n",
       "    </tr>\n",
       "    <tr>\n",
       "      <th>4</th>\n",
       "      <td>00017695ad8997eb</td>\n",
       "      <td>i do not anonymously edit articles at all</td>\n",
       "    </tr>\n",
       "    <tr>\n",
       "      <th>...</th>\n",
       "      <td>...</td>\n",
       "      <td>...</td>\n",
       "    </tr>\n",
       "    <tr>\n",
       "      <th>153159</th>\n",
       "      <td>fffcd0960ee309b5</td>\n",
       "      <td>i totally agree this stuff is nothing but too ...</td>\n",
       "    </tr>\n",
       "    <tr>\n",
       "      <th>153160</th>\n",
       "      <td>fffd7a9a6eb32c16</td>\n",
       "      <td>throw from out field to home plate does it get...</td>\n",
       "    </tr>\n",
       "    <tr>\n",
       "      <th>153161</th>\n",
       "      <td>fffda9e8d6fafa9e</td>\n",
       "      <td>okinotorishima categories i see your changes a...</td>\n",
       "    </tr>\n",
       "    <tr>\n",
       "      <th>153162</th>\n",
       "      <td>fffe8f1340a79fc2</td>\n",
       "      <td>one of the founding nations of the eu germany ...</td>\n",
       "    </tr>\n",
       "    <tr>\n",
       "      <th>153163</th>\n",
       "      <td>ffffce3fb183ee80</td>\n",
       "      <td>stop already your bullshit is not welcome here...</td>\n",
       "    </tr>\n",
       "  </tbody>\n",
       "</table>\n",
       "<p>153164 rows × 2 columns</p>\n",
       "</div>"
      ],
      "text/plain": [
       "                      id                                       comment_text\n",
       "0       00001cee341fdb12  yo bitch ja rule is more succesful then you wi...\n",
       "1       0000247867823ef7            from rfc the title is fine as it is imo\n",
       "2       00013b17ad220c46                     sources zawe ashton on lapland\n",
       "3       00017563c3f7919a  if you have a look back at the source the info...\n",
       "4       00017695ad8997eb          i do not anonymously edit articles at all\n",
       "...                  ...                                                ...\n",
       "153159  fffcd0960ee309b5  i totally agree this stuff is nothing but too ...\n",
       "153160  fffd7a9a6eb32c16  throw from out field to home plate does it get...\n",
       "153161  fffda9e8d6fafa9e  okinotorishima categories i see your changes a...\n",
       "153162  fffe8f1340a79fc2  one of the founding nations of the eu germany ...\n",
       "153163  ffffce3fb183ee80  stop already your bullshit is not welcome here...\n",
       "\n",
       "[153164 rows x 2 columns]"
      ]
     },
     "execution_count": 31,
     "metadata": {},
     "output_type": "execute_result"
    }
   ],
   "source": [
    "test ['comment_text'] = test ['comment_text'].map (lambda text : remove_other_chars (text.lower ()))\n",
    "test"
   ]
  },
  {
   "cell_type": "markdown",
   "id": "8cb62dd3",
   "metadata": {},
   "source": [
    "As we can see, the repetitive punctuations and the white space characters in the `comment_text` for both `test` and `train` data are now gone. We can say that our data is now clean. \n",
    "\n",
    "Although, we can see that there are still misspellings, this would not be cleaned. "
   ]
  },
  {
   "cell_type": "markdown",
   "id": "ce5a1735",
   "metadata": {},
   "source": [
    "## Feature Engineering"
   ]
  },
  {
   "cell_type": "code",
   "execution_count": 32,
   "id": "e70cc4a3",
   "metadata": {},
   "outputs": [],
   "source": []
  },
  {
   "cell_type": "markdown",
   "id": "8b820db4",
   "metadata": {},
   "source": [
    "## Model Training"
   ]
  },
  {
   "cell_type": "code",
   "execution_count": 64,
   "id": "2dfe3777",
   "metadata": {},
   "outputs": [
    {
     "name": "stdout",
     "output_type": "stream",
     "text": [
      "Collecting scikit-multilearn\n",
      "  Downloading scikit_multilearn-0.2.0-py3-none-any.whl (89 kB)\n",
      "Installing collected packages: scikit-multilearn\n",
      "Successfully installed scikit-multilearn-0.2.0\n"
     ]
    }
   ],
   "source": [
    "import sys\n",
    "!{sys.executable} -m pip install scikit-multilearn"
   ]
  },
  {
   "cell_type": "code",
   "execution_count": 320,
   "id": "f90b436e",
   "metadata": {},
   "outputs": [],
   "source": [
    "from skmultilearn.problem_transform import ClassifierChain\n",
    "from sklearn.naive_bayes import MultinomialNB\n",
    "\n",
    "model = ClassifierChain(MultinomialNB())"
   ]
  },
  {
   "cell_type": "code",
   "execution_count": 321,
   "id": "557b8e6b",
   "metadata": {},
   "outputs": [],
   "source": [
    "X_train = train ['comment_text']\n",
    "X_test = test ['comment_text']"
   ]
  },
  {
   "cell_type": "code",
   "execution_count": 322,
   "id": "b991ccf0",
   "metadata": {},
   "outputs": [],
   "source": [
    "vectorizer = TfidfVectorizer(stop_words = 'english', max_features = 5000)\n",
    "# we need to put max_features or if the test set have different length from the train set, ERROR"
   ]
  },
  {
   "cell_type": "code",
   "execution_count": 323,
   "id": "4f490df0",
   "metadata": {},
   "outputs": [],
   "source": [
    "tf_idf_test = vectorizer.fit_transform(X_test)"
   ]
  },
  {
   "cell_type": "code",
   "execution_count": 324,
   "id": "0ffcd5ce",
   "metadata": {},
   "outputs": [],
   "source": [
    "import numpy as np\n",
    "\n",
    "class DataLoader(object):\n",
    "    def __init__(self, X, y, batch_size):\n",
    "        self.X = X\n",
    "        self.y = y\n",
    "        self.batch_size = batch_size\n",
    "\n",
    "        self.indices = np.array([i for i in range(self.X.shape[0])])\n",
    "        np.random.seed(1)\n",
    "\n",
    "    def shuffle(self):\n",
    "        np.random.shuffle(self.indices)\n",
    "\n",
    "    def get_batch(self, mode='train'):\n",
    "        X_batch = []\n",
    "        y_batch = []\n",
    "\n",
    "        if mode == 'train':\n",
    "            self.shuffle ()\n",
    "        elif mode == 'test':\n",
    "            self.indices = np.array([i for i in range(self.X.shape[0])])\n",
    "\n",
    "        for i in range(0, len(self.indices), self.batch_size):\n",
    "            if i + self.batch_size < len(self.indices):\n",
    "                indices = self.indices[i:i + self.batch_size]\n",
    "            else:\n",
    "                indices = self.indices[i:]\n",
    "\n",
    "            X_batch.append(self.X[indices])\n",
    "            y_batch.append(self.y.values[indices])\n",
    "                # X_batch.append(self.X[i])\n",
    "                \n",
    "        return X_batch, y_batch"
   ]
  },
  {
   "cell_type": "code",
   "execution_count": 325,
   "id": "8a3ad757",
   "metadata": {},
   "outputs": [],
   "source": [
    "data_loader = DataLoader(X_train, y_train, 10000)\n",
    "max_epochs = 50"
   ]
  },
  {
   "cell_type": "code",
   "execution_count": 326,
   "id": "525a46db",
   "metadata": {},
   "outputs": [
    {
     "name": "stdout",
     "output_type": "stream",
     "text": [
      "[[1 1 1 0 1 0]\n",
      " [0 0 0 0 0 0]\n",
      " [0 0 0 0 0 0]\n",
      " ...\n",
      " [0 0 0 0 0 0]\n",
      " [0 0 0 0 0 0]\n",
      " [0 0 0 0 0 0]]\n",
      "y_pred [[2.65917330e-01 2.29458431e-02 1.39041677e-01 1.95845004e-03\n",
      "  1.30911353e-01 7.21183349e-03]\n",
      " [1.47244964e-03 2.70124296e-05 1.52011038e-04 1.03800946e-05\n",
      "  6.34601967e-05 3.02677956e-05]\n",
      " [1.80163714e-02 3.23483468e-04 4.06206354e-03 8.67198320e-05\n",
      "  3.08411658e-03 3.20699938e-04]\n",
      " ...\n",
      " [4.41234612e-02 1.84684237e-03 1.36823762e-02 3.98659519e-04\n",
      "  9.18704614e-03 1.44333106e-03]\n",
      " [6.53508633e-02 2.38395910e-03 1.67000176e-02 8.20478467e-04\n",
      "  1.56034325e-02 1.99006977e-03]\n",
      " [8.20303116e-03 2.16794934e-04 2.41654366e-03 5.58694330e-05\n",
      "  1.55801228e-03 1.68604669e-04]]\n",
      "[[0 0 0 0 0 0]\n",
      " [0 0 0 0 0 0]\n",
      " [0 0 0 0 0 0]\n",
      " ...\n",
      " [0 0 0 0 0 0]\n",
      " [1 1 1 0 1 0]\n",
      " [0 0 0 0 0 0]]\n",
      "y_pred [[9.36634915e-03 1.78860039e-04 2.53628514e-03 7.58289457e-05\n",
      "  2.18282666e-03 2.70089258e-04]\n",
      " [3.06039346e-02 1.80490786e-03 9.91985672e-03 9.42337608e-04\n",
      "  5.24634620e-03 2.36136753e-03]\n",
      " [9.52417228e-03 5.52175639e-04 4.11306303e-03 2.19077685e-04\n",
      "  2.78162576e-03 6.53045174e-04]\n",
      " ...\n",
      " [2.23328998e-02 5.87656262e-04 6.72078408e-03 2.68621998e-04\n",
      "  5.59376584e-03 9.03011303e-04]\n",
      " [6.90808530e-01 1.05897190e-02 8.23585142e-01 2.56654809e-04\n",
      "  9.62244979e-01 1.76081810e-02]\n",
      " [4.42335012e-02 2.65975067e-03 1.30953576e-02 1.13089002e-03\n",
      "  9.07068855e-03 2.39881438e-03]]\n",
      "[[0 0 0 0 0 0]\n",
      " [0 0 0 0 0 0]\n",
      " [0 0 0 0 0 0]\n",
      " ...\n",
      " [0 0 0 0 0 0]\n",
      " [0 0 0 0 0 0]\n",
      " [0 0 0 0 0 0]]\n",
      "y_pred [[4.42658127e-03 6.97554257e-05 6.37231251e-04 2.24119342e-05\n",
      "  4.87405896e-04 6.68971558e-05]\n",
      " [8.47661502e-03 1.51424485e-04 1.30282301e-03 4.73927171e-05\n",
      "  1.15387688e-03 1.72669880e-04]\n",
      " [2.27478646e-02 1.17892043e-03 1.08213429e-02 3.98096201e-04\n",
      "  8.56468209e-03 9.74087264e-04]\n",
      " ...\n",
      " [4.85009216e-02 2.09631605e-03 1.88914698e-02 6.29029814e-04\n",
      "  1.30009170e-02 1.77171295e-03]\n",
      " [6.55647005e-03 5.29671838e-04 2.63576838e-03 1.70037462e-04\n",
      "  1.87912365e-03 3.82477072e-04]\n",
      " [5.87283368e-02 4.22529479e-03 2.47109629e-02 1.45611124e-03\n",
      "  2.12946194e-02 3.58652966e-03]]\n",
      "[[0 0 0 0 0 0]\n",
      " [0 0 0 0 0 0]\n",
      " [0 0 0 0 0 0]\n",
      " ...\n",
      " [0 0 0 0 0 0]\n",
      " [0 0 0 0 0 0]\n",
      " [0 0 0 0 0 0]]\n",
      "y_pred [[6.50309277e-02 9.46620373e-03 2.59114009e-02 4.27814837e-03\n",
      "  2.68755592e-02 1.10816231e-02]\n",
      " [6.14900063e-02 2.80656323e-03 1.55762778e-02 8.68871787e-04\n",
      "  1.10157475e-02 2.76464372e-03]\n",
      " [5.22607064e-02 3.99952004e-04 1.01039179e-02 1.00543126e-04\n",
      "  5.91207545e-03 3.10675996e-04]\n",
      " ...\n",
      " [1.06230446e-02 5.41696801e-04 2.51436592e-03 1.62751967e-04\n",
      "  1.59878992e-03 4.72492885e-04]\n",
      " [3.81792342e-02 1.23527771e-03 8.72469122e-03 3.95750316e-04\n",
      "  7.18477697e-03 1.42893821e-03]\n",
      " [1.07922805e-01 1.57922832e-02 4.92607573e-02 5.60184001e-03\n",
      "  3.76277544e-02 1.30524005e-02]]\n",
      "[[0 0 0 0 0 0]\n",
      " [0 0 0 0 0 0]\n",
      " [0 0 0 0 0 0]\n",
      " ...\n",
      " [0 0 0 0 0 0]\n",
      " [0 0 0 0 0 0]\n",
      " [0 0 0 0 0 0]]\n",
      "y_pred [[2.28187877e-01 1.87130629e-02 1.15252539e-01 4.09132055e-03\n",
      "  7.42689739e-02 1.46236067e-02]\n",
      " [1.47095138e-02 3.96210570e-04 3.10326670e-03 9.54526269e-05\n",
      "  2.23608006e-03 4.60746497e-04]\n",
      " [1.23171211e-01 1.64495354e-02 5.99676571e-02 3.98396513e-03\n",
      "  4.59714407e-02 1.31459007e-02]\n",
      " ...\n",
      " [2.91211463e-02 3.68696798e-03 1.70981695e-02 8.65183367e-04\n",
      "  1.27604072e-02 2.64462311e-03]\n",
      " [3.60328671e-02 3.51563933e-03 1.60337760e-02 9.31249434e-04\n",
      "  1.59133220e-02 2.09262801e-03]\n",
      " [3.33785300e-02 3.00201243e-03 1.37676567e-02 8.06062891e-04\n",
      "  1.20942430e-02 2.81268581e-03]]\n",
      "[[0 0 0 0 0 0]\n",
      " [0 0 0 0 0 0]\n",
      " [0 0 0 0 0 0]\n",
      " ...\n",
      " [0 0 0 0 0 0]\n",
      " [0 0 0 0 0 0]\n",
      " [0 0 0 0 0 0]]\n",
      "y_pred [[6.15844708e-03 5.30090090e-04 2.26006355e-03 1.57301248e-04\n",
      "  1.56261867e-03 4.23614163e-04]\n",
      " [1.49459258e-02 1.33291777e-03 5.70351837e-03 3.56623973e-04\n",
      "  4.06381168e-03 1.26596398e-03]\n",
      " [3.43688611e-03 2.88137442e-05 5.09693144e-04 6.17788663e-06\n",
      "  3.22374764e-04 1.87126421e-05]\n",
      " ...\n",
      " [1.62511695e-02 9.77660609e-04 4.56083286e-03 2.84010269e-04\n",
      "  3.57655537e-03 8.13455105e-04]\n",
      " [4.94947756e-02 3.50795362e-03 2.16964216e-02 7.09466838e-04\n",
      "  1.74181679e-02 2.98039549e-03]\n",
      " [1.23057209e-01 3.01547113e-02 7.53229543e-02 9.82031404e-03\n",
      "  6.63874194e-02 2.67068409e-02]]\n",
      "[[0 0 0 0 0 0]\n",
      " [0 0 0 0 0 0]\n",
      " [0 0 0 0 0 0]\n",
      " ...\n",
      " [0 0 0 0 0 0]\n",
      " [0 0 0 0 0 0]\n",
      " [0 0 0 0 0 0]]\n",
      "y_pred [[5.21305593e-02 3.02340321e-03 1.60551992e-02 8.72680313e-04\n",
      "  1.30141894e-02 2.50041947e-03]\n",
      " [2.29132648e-02 5.56099575e-04 5.46738821e-03 1.09925721e-04\n",
      "  4.11038081e-03 4.36772076e-04]\n",
      " [1.31028410e-02 2.52669363e-04 3.89872264e-03 7.73654041e-05\n",
      "  2.32126402e-03 2.40629766e-04]\n",
      " ...\n",
      " [4.40329473e-02 5.77726780e-04 8.11546688e-03 1.20786391e-04\n",
      "  6.94912433e-03 4.69762314e-04]\n",
      " [1.19018280e-02 1.00962219e-03 4.41740976e-03 3.20271467e-04\n",
      "  3.03244487e-03 8.24082253e-04]\n",
      " [8.04718947e-02 1.67164376e-02 5.03970047e-02 4.77124848e-03\n",
      "  4.32867932e-02 1.29807266e-02]]\n",
      "[[0 0 0 0 0 0]\n",
      " [0 0 0 0 0 0]\n",
      " [0 0 0 0 0 0]\n",
      " ...\n",
      " [0 0 0 0 0 0]\n",
      " [1 0 0 0 0 0]\n",
      " [0 0 0 0 0 0]]\n",
      "y_pred [[1.06849927e-01 8.80403482e-03 4.38782284e-02 2.36098186e-03\n",
      "  3.57358164e-02 6.10577307e-03]\n",
      " [1.13214085e-02 1.06783750e-03 4.34724372e-03 3.35521527e-04\n",
      "  3.22540935e-03 8.53692253e-04]\n",
      " [8.99942140e-02 1.20414422e-02 4.17160819e-02 3.85296679e-03\n",
      "  3.77736166e-02 9.78450701e-03]\n",
      " ...\n",
      " [2.97059121e-02 9.05787604e-04 7.20973167e-03 1.67779197e-04\n",
      "  5.84171083e-03 4.33375964e-04]\n",
      " [1.10262171e-01 7.55265222e-04 1.25467869e-02 1.90958148e-04\n",
      "  1.24493192e-02 6.48873801e-04]\n",
      " [2.15202353e-01 3.77723084e-02 9.49453418e-02 1.54642369e-02\n",
      "  5.97728128e-02 3.20449589e-02]]\n",
      "[[0 0 0 0 0 0]\n",
      " [0 0 0 0 0 0]\n",
      " [0 0 0 0 0 0]\n",
      " ...\n",
      " [0 0 0 0 0 0]\n",
      " [0 0 0 0 0 0]\n",
      " [0 0 0 0 0 0]]\n",
      "y_pred [[9.20422875e-03 2.19844011e-04 4.49663201e-03 8.01273376e-05\n",
      "  1.75943637e-03 2.54218091e-04]\n",
      " [6.38193891e-02 6.62575818e-03 2.08988106e-02 2.60859078e-03\n",
      "  9.87971831e-03 6.28359503e-03]\n",
      " [4.86194392e-02 6.21688723e-03 2.72132569e-02 2.35739417e-03\n",
      "  2.40364472e-02 6.37179276e-03]\n",
      " ...\n",
      " [5.06909630e-02 7.92421253e-04 1.32688796e-02 2.45933864e-04\n",
      "  6.78449781e-03 9.80862892e-04]\n",
      " [1.13422442e-02 6.73538735e-04 4.28592115e-03 2.62605554e-04\n",
      "  2.45270816e-03 7.60950912e-04]\n",
      " [6.55014503e-02 4.46274612e-03 1.98556669e-02 1.79299208e-03\n",
      "  1.64642363e-02 5.21264740e-03]]\n",
      "[[0 0 0 0 0 0]\n",
      " [0 0 0 0 0 0]\n",
      " [0 0 0 0 0 0]\n",
      " ...\n",
      " [0 0 0 0 0 0]\n",
      " [0 0 0 0 0 0]\n",
      " [0 0 0 0 0 0]]\n",
      "y_pred [[1.57246801e-02 3.68908759e-04 2.28904942e-03 1.13691112e-04\n",
      "  2.07615561e-03 2.90369025e-04]\n",
      " [1.93132587e-01 1.98484163e-03 2.08537953e-02 5.25385685e-04\n",
      "  1.57586806e-02 1.70204345e-03]\n",
      " [1.64421360e-02 3.17996345e-04 3.05500387e-03 8.96764397e-05\n",
      "  2.93643949e-03 2.51292713e-04]\n",
      " ...\n",
      " [1.45314523e-02 8.68605858e-04 6.45244458e-03 2.92220664e-04\n",
      "  4.19739751e-03 6.70328817e-04]\n",
      " [7.61901547e-03 1.50093376e-04 2.56275665e-03 3.83419386e-05\n",
      "  1.87455206e-03 8.80077080e-05]\n",
      " [9.96007853e-03 3.41425101e-04 1.64203149e-03 1.11569297e-04\n",
      "  1.20686725e-03 2.88736117e-04]]\n",
      "[[0 0 0 0 0 0]\n",
      " [0 0 0 0 0 0]\n",
      " [1 0 0 0 0 0]\n",
      " ...\n",
      " [0 0 0 0 0 0]\n",
      " [0 0 0 0 0 0]\n",
      " [0 0 0 0 0 0]]\n",
      "y_pred [[5.83711872e-02 5.05300822e-03 2.12811117e-02 1.44765269e-03\n",
      "  1.48653413e-02 4.37234184e-03]\n",
      " [1.33015806e-02 1.07567361e-03 4.61059999e-03 2.38764775e-04\n",
      "  3.02864275e-03 8.15257658e-04]\n",
      " [2.67049422e-02 2.48013529e-04 1.95295015e-03 4.90416272e-05\n",
      "  1.31395865e-03 1.79647888e-04]\n",
      " ...\n",
      " [1.19138452e-02 1.26513885e-03 7.33466058e-03 3.54644930e-04\n",
      "  3.87673940e-03 1.19799596e-03]\n",
      " [1.30703018e-01 1.11060575e-02 2.71752676e-02 3.53615227e-03\n",
      "  2.12606759e-02 1.04693998e-02]\n",
      " [1.27178157e-02 4.46832588e-04 3.29664297e-03 9.67131324e-05\n",
      "  2.35529986e-03 2.90014260e-04]]\n",
      "[[0 0 0 0 0 0]\n",
      " [0 0 0 0 0 0]\n",
      " [0 0 0 0 0 0]\n",
      " ...\n",
      " [0 0 0 0 0 0]\n",
      " [0 0 1 0 0 0]\n",
      " [0 0 0 0 0 0]]\n",
      "y_pred [[1.17017685e-03 3.23877125e-05 6.07898020e-04 6.80293521e-06\n",
      "  2.14800023e-04 2.52528077e-05]\n",
      " [4.38583803e-02 4.22641986e-03 2.27678180e-02 1.11510443e-03\n",
      "  1.65090541e-02 3.71617630e-03]\n",
      " [5.78641844e-02 3.89261539e-03 1.52050224e-02 1.04627725e-03\n",
      "  1.06677885e-02 3.67460242e-03]\n",
      " ...\n",
      " [6.17767949e-02 8.16118737e-03 2.73599037e-02 2.25092577e-03\n",
      "  3.21815614e-02 7.95435872e-03]\n",
      " [6.17939607e-01 2.80212680e-02 8.86674364e-01 3.48184015e-04\n",
      "  9.43296706e-01 2.66343143e-02]\n",
      " [6.22177370e-02 5.34484178e-03 2.09006470e-02 1.11662244e-03\n",
      "  1.91263291e-02 3.50085798e-03]]\n",
      "[[0 0 0 0 0 0]\n",
      " [0 0 0 0 0 0]\n",
      " [0 0 0 0 0 0]\n",
      " ...\n",
      " [0 0 0 0 0 0]\n",
      " [0 0 0 0 0 0]\n",
      " [0 0 0 0 0 0]]\n"
     ]
    },
    {
     "name": "stdout",
     "output_type": "stream",
     "text": [
      "y_pred [[6.79779894e-03 1.85353450e-04 2.57938300e-03 4.06452307e-05\n",
      "  1.13336787e-03 1.20705362e-04]\n",
      " [1.79590767e-04 5.19585620e-06 4.60595424e-05 1.36268397e-06\n",
      "  3.04565313e-05 4.18474895e-06]\n",
      " [4.79516794e-02 6.37231991e-03 2.08061819e-02 1.73890613e-03\n",
      "  1.62875623e-02 5.11984105e-03]\n",
      " ...\n",
      " [1.37945233e-01 1.93937004e-02 7.68185468e-02 5.57238800e-03\n",
      "  6.90671407e-02 1.59021839e-02]\n",
      " [3.09028448e-03 4.26003864e-05 5.77078730e-04 1.13562904e-05\n",
      "  3.14002472e-04 4.00216191e-05]\n",
      " [5.85711924e-03 4.71273318e-04 2.69379015e-03 1.52610283e-04\n",
      "  1.89945534e-03 4.09141117e-04]]\n",
      "[[0 0 0 0 0 0]\n",
      " [0 0 0 0 0 0]\n",
      " [0 0 0 0 0 0]\n",
      " ...\n",
      " [0 0 0 0 0 0]\n",
      " [0 0 0 0 0 0]\n",
      " [0 0 0 0 0 0]]\n",
      "y_pred [[0.06421551 0.00295389 0.01941456 0.00083097 0.01541506 0.0031153 ]\n",
      " [0.02379988 0.00069824 0.00616821 0.00024742 0.00493404 0.00084357]\n",
      " [0.08892168 0.00234636 0.01401022 0.00098533 0.00845296 0.00327186]\n",
      " ...\n",
      " [0.01701805 0.00063299 0.00434181 0.00022046 0.00307324 0.00055503]\n",
      " [0.04198288 0.00346535 0.0143571  0.00126831 0.01622704 0.00312969]\n",
      " [0.19299992 0.00626769 0.0638482  0.00288281 0.03400856 0.00662834]]\n",
      "[[0 0 0 0 0 0]\n",
      " [0 0 0 0 0 0]\n",
      " [0 0 0 0 0 0]\n",
      " ...\n",
      " [0 0 0 0 0 0]\n",
      " [1 0 0 0 0 0]\n",
      " [0 0 0 0 0 0]]\n",
      "y_pred [[3.37444249e-02 1.51154932e-03 1.48576490e-02 5.38552397e-04\n",
      "  1.06225786e-02 1.76851371e-03]\n",
      " [1.54708841e-02 4.54407824e-04 4.80097709e-03 1.79976112e-04\n",
      "  3.23518155e-03 4.65700762e-04]\n",
      " [1.39642586e-01 8.75018349e-03 5.52555129e-02 3.09649877e-03\n",
      "  3.95059494e-02 8.28870762e-03]\n",
      " ...\n",
      " [3.05079766e-02 5.03507929e-03 1.53386481e-02 2.02691114e-03\n",
      "  1.13989761e-02 4.48256210e-03]\n",
      " [2.10405174e-02 7.00153072e-05 2.07901814e-03 2.13667373e-05\n",
      "  1.37222751e-03 9.78252499e-05]\n",
      " [2.95022283e-02 8.03143535e-04 9.51542412e-03 2.38843876e-04\n",
      "  9.88628173e-03 7.27077162e-04]]\n",
      "[[0 0 0 0 0 0]\n",
      " [0 0 0 0 0 0]\n",
      " [0 0 0 0 0 0]\n",
      " ...\n",
      " [0 0 0 0 0 0]\n",
      " [0 0 0 0 0 0]\n",
      " [1 1 1 0 0 0]]\n",
      "y_pred [[6.51310228e-02 1.65993461e-03 1.48285891e-02 5.77832170e-04\n",
      "  1.39686092e-02 1.72314919e-03]\n",
      " [6.77345354e-02 4.80629089e-03 3.30052304e-02 1.53537696e-03\n",
      "  2.64557925e-02 4.72998358e-03]\n",
      " [1.96114266e-02 3.44056240e-03 1.35074101e-02 1.35359731e-03\n",
      "  9.89553629e-03 3.37402098e-03]\n",
      " ...\n",
      " [5.25019166e-02 2.28809268e-03 2.09903875e-02 7.98492962e-04\n",
      "  1.58402235e-02 2.07580392e-03]\n",
      " [4.14994329e-02 1.54931785e-03 9.61941878e-03 5.74498469e-04\n",
      "  1.00744350e-02 2.01028905e-03]\n",
      " [6.10685373e-01 6.25420802e-03 6.95542079e-01 2.85745467e-05\n",
      "  8.35025321e-01 1.71576622e-03]]\n",
      "Epoch: 1 \tLoss: 0.30523308991221937\n"
     ]
    }
   ],
   "source": [
    "from sklearn.metrics import log_loss\n",
    "\n",
    "e = 0\n",
    "is_converged = False\n",
    "previous_loss = 0\n",
    "labels = train.columns [2 : ]\n",
    "\n",
    "while e < max_epochs and is_converged is not True:\n",
    "    loss = 0\n",
    "    X_batch, y_batch = data_loader.get_batch()\n",
    "    \n",
    "    for i in range (len(X_batch)):\n",
    "        tf_idf_train = vectorizer.fit_transform(X_batch [i])\n",
    "        y =  y_batch [i]\n",
    "        print(y)\n",
    "        y = pd.DataFrame(y)\n",
    "        y.columns = labels\n",
    "        model.fit(tf_idf_train, y)\n",
    "        y_pred = model.predict_proba(tf_idf_train)\n",
    "        print('y_pred', y_pred.toarray())\n",
    "        loss += log_loss(y, y_pred.toarray())\n",
    "\n",
    "    print('Epoch:', e + 1, '\\tLoss:', (loss / len(X_batch)))\n",
    "    \n",
    "    if abs(previous_loss - loss) < 0.05:\n",
    "        is_converged = True\n",
    "    else:\n",
    "        previous_loss = loss\n",
    "        e += 1"
   ]
  },
  {
   "cell_type": "markdown",
   "id": "ccbec650",
   "metadata": {},
   "source": [
    "## Feature Selection and Hyperparameter tuning"
   ]
  },
  {
   "cell_type": "code",
   "execution_count": null,
   "id": "b58eb93c",
   "metadata": {},
   "outputs": [],
   "source": []
  },
  {
   "cell_type": "markdown",
   "id": "d5a380cb",
   "metadata": {},
   "source": [
    "## Model Selection"
   ]
  },
  {
   "cell_type": "code",
   "execution_count": null,
   "id": "45482b1b",
   "metadata": {
    "jupyter": {
     "outputs_hidden": true
    }
   },
   "outputs": [],
   "source": []
  },
  {
   "cell_type": "markdown",
   "id": "7fc5da26",
   "metadata": {},
   "source": [
    "## Insights and Conclusions"
   ]
  },
  {
   "cell_type": "code",
   "execution_count": null,
   "id": "0199ad1e",
   "metadata": {
    "jupyter": {
     "outputs_hidden": true
    }
   },
   "outputs": [],
   "source": []
  },
  {
   "cell_type": "markdown",
   "id": "92eec215",
   "metadata": {},
   "source": [
    "## Testing the Model"
   ]
  },
  {
   "cell_type": "code",
   "execution_count": null,
   "id": "75dd5e98",
   "metadata": {
    "jupyter": {
     "outputs_hidden": true
    }
   },
   "outputs": [],
   "source": []
  },
  {
   "cell_type": "markdown",
   "id": "7d90eea3",
   "metadata": {},
   "source": [
    "## References\n",
    "Dickinson, B. (2021, February 12). *Generate meaningful word clouds in Python*. Medium. Retrieved May 30, 2022, from https://towardsdatascience.com/generate-meaningful-word-clouds-in-python-5b85f5668eeb \n",
    "\n",
    "Lukei. (2019, December 4). *Dealing with contractions in NLP*. Medium. Retrieved May 30, 2022, from https://medium.com/@lukei_3514/dealing-with-contractions-in-nlp-d6174300876b \n",
    "\n",
    "Raghunathan, D. (2020, June 9). *NLP in Python-Data Cleaning*. Medium. Retrieved May 30, 2022, from https://towardsdatascience.com/nlp-in-python-data-cleaning-6313a404a470 "
   ]
  }
 ],
 "metadata": {
  "kernelspec": {
   "display_name": "Python 3",
   "language": "python",
   "name": "python3"
  },
  "language_info": {
   "codemirror_mode": {
    "name": "ipython",
    "version": 3
   },
   "file_extension": ".py",
   "mimetype": "text/x-python",
   "name": "python",
   "nbconvert_exporter": "python",
   "pygments_lexer": "ipython3",
   "version": "3.8.8"
  }
 },
 "nbformat": 4,
 "nbformat_minor": 5
}
