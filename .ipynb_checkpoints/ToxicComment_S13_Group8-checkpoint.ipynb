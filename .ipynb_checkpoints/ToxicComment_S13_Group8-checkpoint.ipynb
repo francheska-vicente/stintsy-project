{
 "cells": [
  {
   "cell_type": "markdown",
   "id": "392124ee",
   "metadata": {},
   "source": [
    "# You're Toxic, I'm Slippin' Under: Toxic Comment Classification Challenge\n",
    "\n",
    "#### STINTSY S13 Group 8\n",
    "- VICENTE, Francheska Josefa\n",
    "- VISTA, Sophia Danielle S."
   ]
  },
  {
   "cell_type": "markdown",
   "id": "7c2e1db3",
   "metadata": {},
   "source": [
    "## Introduction\n",
    "In digital communities and forums on the internet, users often choose to remain anonymous as real names are not required when conversing with strangers online. With this anonymity comes the freedom to express one's thoughts without fear of being judged or recognized, yet this might also mean that users are free to say abusive sentiments with little to no repercussions. While most online forums and social media sites have various ways to moderate (e.g. moderators and staff that manually review posts and comments, a report button under messages, voting for comments and posts), these methods are not enough to combat the significant number of toxic comments made.\n",
    "\n",
    "With this, ways to automate checking for toxicity in online text should be improved to foster a safe and respectful online environment."
   ]
  },
  {
   "cell_type": "markdown",
   "id": "357a3425",
   "metadata": {},
   "source": [
    "## Toxic Comment Classification Challenge\n",
    "\n",
    "The [`Toxic Comment Classification Challenge`](https://www.kaggle.com/competitions/jigsaw-toxic-comment-classification-challenge/overview) is a Kaggle challenge by the [`Conversation AI team`](https://conversationai.github.io/), which is composed of researchers from both [`Jigsaw`](https://jigsaw.google.com/) and `Google`. This challlenge invites participants to build a multi-headed model that can accurately detect the types of toxicity (i.e.,toxic, severe toxic, obscene, threat, insult, and identity hate) better than Perspective’s [current models](https://github.com/conversationai/unintended-ml-bias-analysis).\n",
    "\n",
    "The dataset given contains a large number of Wikipedia comments which have been labeled by human raters for toxic behavior."
   ]
  },
  {
   "cell_type": "markdown",
   "id": "b3688955",
   "metadata": {},
   "source": [
    "## Requirements and Imports\n",
    "Before starting, the relevant libraries and files in building and training the model should be loaded into the notebook first.\n",
    "\n",
    "### Import\n",
    "Several libraries are required to perform a thorough analysis of the dataset. Each of these libraries will be imported and described below:\n",
    "\n",
    "#### Basic Libraries \n",
    "Import `numpy` and `pandas`.\n",
    "- `numpy` contains a large collection of mathematical functions\n",
    "- `pandas` contains functions that are designed for data manipulation and data analysis"
   ]
  },
  {
   "cell_type": "code",
   "execution_count": 1,
   "id": "286b906d",
   "metadata": {
    "tags": []
   },
   "outputs": [],
   "source": [
    "import numpy as np\n",
    "import pandas as pd"
   ]
  },
  {
   "cell_type": "markdown",
   "id": "72d52cee",
   "metadata": {},
   "source": [
    "#### Visualization Libraries \n",
    "- `matplotlib.pyplot` contains functions to create interactive plots\n",
    "- `seaborn` is a library based on matplotlib that allows for data visualization\n",
    "- `wordcloud` contains functions for generating wordclouds from text data\n",
    "\n",
    "**NOTE:** `wordcloud` should be installed using `conda install -c conda-forge wordcloud`"
   ]
  },
  {
   "cell_type": "code",
   "execution_count": 2,
   "id": "b3c050bd",
   "metadata": {},
   "outputs": [],
   "source": [
    "import matplotlib.pyplot as plt\n",
    "import seaborn as sns\n",
    "from wordcloud import WordCloud\n",
    "from wordcloud import ImageColorGenerator"
   ]
  },
  {
   "cell_type": "markdown",
   "id": "8c050ac6",
   "metadata": {},
   "source": [
    "#### Natural Language Processing Libraries \n",
    "- `re` is a module that allows the use of regular expressions\n",
    "- `nltk` provides functions for processing text data\n",
    "- `stopwords` is a corpus from NLTK, which includes a compiled list of stopwords\n",
    "- `Counter` is from Python's `collections` module, which is helpful for tokenization\n",
    "- `string` contains functions for string operations"
   ]
  },
  {
   "cell_type": "code",
   "execution_count": 3,
   "id": "7cee8a33",
   "metadata": {},
   "outputs": [],
   "source": [
    "import re\n",
    "import nltk\n",
    "from nltk.corpus import stopwords\n",
    "from collections import Counter\n",
    "import string\n",
    "\n",
    "from sklearn.feature_extraction.text import TfidfVectorizer\n",
    "from sklearn.feature_extraction.text import CountVectorizer"
   ]
  },
  {
   "cell_type": "markdown",
   "id": "3ddf662a",
   "metadata": {},
   "source": [
    "#### Machine Learning Libraries"
   ]
  },
  {
   "cell_type": "code",
   "execution_count": 4,
   "id": "5973812e",
   "metadata": {},
   "outputs": [
    {
     "name": "stdout",
     "output_type": "stream",
     "text": [
      "Requirement already satisfied: scikit-multilearn in c:\\users\\user\\anaconda3\\lib\\site-packages (0.2.0)\n"
     ]
    }
   ],
   "source": [
    "import sys\n",
    "!{sys.executable} -m pip install scikit-multilearn\n",
    "\n",
    "from skmultilearn.problem_transform import ClassifierChain\n",
    "from sklearn.naive_bayes import MultinomialNB\n",
    "from sklearn.linear_model import LogisticRegression\n",
    "from sklearn.model_selection import ParameterGrid\n",
    "from sklearn.model_selection import train_test_split\n",
    "from sklearn.metrics import log_loss"
   ]
  },
  {
   "cell_type": "markdown",
   "id": "b04554b2-f9c5-4075-8e90-35858db2f5aa",
   "metadata": {},
   "source": [
    "### Datasets and Files\n",
    "There are four `.csv` files provided in the competition.\n",
    "- `train.csv` is the training set, which contains comments and their classification (with the use of binary labels)\n",
    "- `test.csv` is the test set, which contains comments and their corresponding IDs\n",
    "- `sample_submission.csv` contains the correct submission format for the competition\n",
    "- `test_labels.csv` was a file added after the competition closed\n",
    "\n",
    "However, to do the task, we would only need to load two of these files: (1) `train.csv`, and (2) `test.csv`. These two `.csv` files will be loaded into the notebook using the [`read_csv`](https://pandas.pydata.org/pandas-docs/stable/reference/api/pandas.read_csv.html) function."
   ]
  },
  {
   "cell_type": "code",
   "execution_count": 94,
   "id": "1f58f5b0-f288-40c3-b135-c585939721df",
   "metadata": {},
   "outputs": [],
   "source": [
    "train = pd.read_csv('data/train.csv')\n",
    "test  = pd.read_csv('data/test.csv')"
   ]
  },
  {
   "cell_type": "markdown",
   "id": "bbc3d52f",
   "metadata": {},
   "source": [
    "## Description of the Dataset\n",
    "\n",
    "To see the the number of rows and columns for the `train` and `test` data, the [`shape`](https://pandas.pydata.org/docs/reference/api/pandas.DataFrame.shape.html) property of the DataFrame is called."
   ]
  },
  {
   "cell_type": "code",
   "execution_count": 6,
   "id": "81bd93ee",
   "metadata": {},
   "outputs": [
    {
     "data": {
      "text/plain": [
       "(159571, 8)"
      ]
     },
     "execution_count": 6,
     "metadata": {},
     "output_type": "execute_result"
    }
   ],
   "source": [
    "train.shape"
   ]
  },
  {
   "cell_type": "markdown",
   "id": "1b578a0c",
   "metadata": {},
   "source": [
    "The `train` data has 159571 rows (instances) and eight (8) columns (features). An instance in our dataset represents a text and its categories. \n",
    "\n",
    "Next, the [`head`](https://pandas.pydata.org/docs/reference/api/pandas.DataFrame.head.html) function is called to check the first few rows of the dataset. This will let us quickly check the features of the dataset."
   ]
  },
  {
   "cell_type": "code",
   "execution_count": 7,
   "id": "5aa66668-ac4a-4abf-946e-22ee24aa6726",
   "metadata": {},
   "outputs": [
    {
     "data": {
      "text/html": [
       "<div>\n",
       "<style scoped>\n",
       "    .dataframe tbody tr th:only-of-type {\n",
       "        vertical-align: middle;\n",
       "    }\n",
       "\n",
       "    .dataframe tbody tr th {\n",
       "        vertical-align: top;\n",
       "    }\n",
       "\n",
       "    .dataframe thead th {\n",
       "        text-align: right;\n",
       "    }\n",
       "</style>\n",
       "<table border=\"1\" class=\"dataframe\">\n",
       "  <thead>\n",
       "    <tr style=\"text-align: right;\">\n",
       "      <th></th>\n",
       "      <th>id</th>\n",
       "      <th>comment_text</th>\n",
       "      <th>toxic</th>\n",
       "      <th>severe_toxic</th>\n",
       "      <th>obscene</th>\n",
       "      <th>threat</th>\n",
       "      <th>insult</th>\n",
       "      <th>identity_hate</th>\n",
       "    </tr>\n",
       "  </thead>\n",
       "  <tbody>\n",
       "    <tr>\n",
       "      <th>0</th>\n",
       "      <td>0000997932d777bf</td>\n",
       "      <td>Explanation\\r\\nWhy the edits made under my use...</td>\n",
       "      <td>0</td>\n",
       "      <td>0</td>\n",
       "      <td>0</td>\n",
       "      <td>0</td>\n",
       "      <td>0</td>\n",
       "      <td>0</td>\n",
       "    </tr>\n",
       "    <tr>\n",
       "      <th>1</th>\n",
       "      <td>000103f0d9cfb60f</td>\n",
       "      <td>D'aww! He matches this background colour I'm s...</td>\n",
       "      <td>0</td>\n",
       "      <td>0</td>\n",
       "      <td>0</td>\n",
       "      <td>0</td>\n",
       "      <td>0</td>\n",
       "      <td>0</td>\n",
       "    </tr>\n",
       "    <tr>\n",
       "      <th>2</th>\n",
       "      <td>000113f07ec002fd</td>\n",
       "      <td>Hey man, I'm really not trying to edit war. It...</td>\n",
       "      <td>0</td>\n",
       "      <td>0</td>\n",
       "      <td>0</td>\n",
       "      <td>0</td>\n",
       "      <td>0</td>\n",
       "      <td>0</td>\n",
       "    </tr>\n",
       "    <tr>\n",
       "      <th>3</th>\n",
       "      <td>0001b41b1c6bb37e</td>\n",
       "      <td>\"\\r\\nMore\\r\\nI can't make any real suggestions...</td>\n",
       "      <td>0</td>\n",
       "      <td>0</td>\n",
       "      <td>0</td>\n",
       "      <td>0</td>\n",
       "      <td>0</td>\n",
       "      <td>0</td>\n",
       "    </tr>\n",
       "    <tr>\n",
       "      <th>4</th>\n",
       "      <td>0001d958c54c6e35</td>\n",
       "      <td>You, sir, are my hero. Any chance you remember...</td>\n",
       "      <td>0</td>\n",
       "      <td>0</td>\n",
       "      <td>0</td>\n",
       "      <td>0</td>\n",
       "      <td>0</td>\n",
       "      <td>0</td>\n",
       "    </tr>\n",
       "  </tbody>\n",
       "</table>\n",
       "</div>"
      ],
      "text/plain": [
       "                 id                                       comment_text  toxic  \\\n",
       "0  0000997932d777bf  Explanation\\r\\nWhy the edits made under my use...      0   \n",
       "1  000103f0d9cfb60f  D'aww! He matches this background colour I'm s...      0   \n",
       "2  000113f07ec002fd  Hey man, I'm really not trying to edit war. It...      0   \n",
       "3  0001b41b1c6bb37e  \"\\r\\nMore\\r\\nI can't make any real suggestions...      0   \n",
       "4  0001d958c54c6e35  You, sir, are my hero. Any chance you remember...      0   \n",
       "\n",
       "   severe_toxic  obscene  threat  insult  identity_hate  \n",
       "0             0        0       0       0              0  \n",
       "1             0        0       0       0              0  \n",
       "2             0        0       0       0              0  \n",
       "3             0        0       0       0              0  \n",
       "4             0        0       0       0              0  "
      ]
     },
     "execution_count": 7,
     "metadata": {},
     "output_type": "execute_result"
    }
   ],
   "source": [
    "train.head()"
   ]
  },
  {
   "cell_type": "markdown",
   "id": "b96e673f",
   "metadata": {},
   "source": [
    "As seen by the function's output, the eight columns are: `id`, `comment_text`, `toxic`, `severe_toxic`, `obscene`, `threat`, `insult`, and `identity_hate`. \n",
    "\n",
    "The first column `id` is an object that contains a unique identifier for the row. This is followed by the `comment_text` column, which holds the text that we need to categorize into the different toxic categories. The next six (6) columns—`toxic`, `severe_toxic`, `obscene`, `threat`, `insult`, and `identity_hate`—are integer columns, with a value of either 0 or 1, which represents `True` or `False`, respectively. These six columns represent the different categories. If the value for a specific column is 1, it means that the `comment_text` can be classified as this category.\n",
    "\n",
    "It is important to note, however, that each `comment_text` can be classified under more than one toxic category (e.g. a comment can fall under both `toxic` and `severe_toxic` as denoted by the multiple values of 1 per row)."
   ]
  },
  {
   "cell_type": "code",
   "execution_count": 8,
   "id": "7427e85c",
   "metadata": {},
   "outputs": [
    {
     "data": {
      "text/plain": [
       "(153164, 2)"
      ]
     },
     "execution_count": 8,
     "metadata": {},
     "output_type": "execute_result"
    }
   ],
   "source": [
    "test.shape"
   ]
  },
  {
   "cell_type": "markdown",
   "id": "5d722576-8ca6-4d33-aa8c-4558efe35b38",
   "metadata": {},
   "source": [
    "On the other hand, the `test` dataset has 153164 rows and two (2) columns."
   ]
  },
  {
   "cell_type": "code",
   "execution_count": 9,
   "id": "0c88077a-c301-4031-800d-6549c0083f34",
   "metadata": {},
   "outputs": [
    {
     "data": {
      "text/html": [
       "<div>\n",
       "<style scoped>\n",
       "    .dataframe tbody tr th:only-of-type {\n",
       "        vertical-align: middle;\n",
       "    }\n",
       "\n",
       "    .dataframe tbody tr th {\n",
       "        vertical-align: top;\n",
       "    }\n",
       "\n",
       "    .dataframe thead th {\n",
       "        text-align: right;\n",
       "    }\n",
       "</style>\n",
       "<table border=\"1\" class=\"dataframe\">\n",
       "  <thead>\n",
       "    <tr style=\"text-align: right;\">\n",
       "      <th></th>\n",
       "      <th>id</th>\n",
       "      <th>comment_text</th>\n",
       "    </tr>\n",
       "  </thead>\n",
       "  <tbody>\n",
       "    <tr>\n",
       "      <th>0</th>\n",
       "      <td>00001cee341fdb12</td>\n",
       "      <td>Yo bitch Ja Rule is more succesful then you'll...</td>\n",
       "    </tr>\n",
       "    <tr>\n",
       "      <th>1</th>\n",
       "      <td>0000247867823ef7</td>\n",
       "      <td>== From RfC == \\r\\n\\r\\n The title is fine as i...</td>\n",
       "    </tr>\n",
       "    <tr>\n",
       "      <th>2</th>\n",
       "      <td>00013b17ad220c46</td>\n",
       "      <td>\" \\r\\n\\r\\n == Sources == \\r\\n\\r\\n * Zawe Ashto...</td>\n",
       "    </tr>\n",
       "    <tr>\n",
       "      <th>3</th>\n",
       "      <td>00017563c3f7919a</td>\n",
       "      <td>:If you have a look back at the source, the in...</td>\n",
       "    </tr>\n",
       "    <tr>\n",
       "      <th>4</th>\n",
       "      <td>00017695ad8997eb</td>\n",
       "      <td>I don't anonymously edit articles at all.</td>\n",
       "    </tr>\n",
       "  </tbody>\n",
       "</table>\n",
       "</div>"
      ],
      "text/plain": [
       "                 id                                       comment_text\n",
       "0  00001cee341fdb12  Yo bitch Ja Rule is more succesful then you'll...\n",
       "1  0000247867823ef7  == From RfC == \\r\\n\\r\\n The title is fine as i...\n",
       "2  00013b17ad220c46  \" \\r\\n\\r\\n == Sources == \\r\\n\\r\\n * Zawe Ashto...\n",
       "3  00017563c3f7919a  :If you have a look back at the source, the in...\n",
       "4  00017695ad8997eb          I don't anonymously edit articles at all."
      ]
     },
     "execution_count": 9,
     "metadata": {},
     "output_type": "execute_result"
    }
   ],
   "source": [
    "test.head()"
   ]
  },
  {
   "cell_type": "markdown",
   "id": "475a74d4",
   "metadata": {},
   "source": [
    "Each instance represents a comment that we have to compute for its probaility for the different categories mentioned. Like the `train` data, the first column is the `id`, which is a unique identifier. After this is the `comment_text`, which holds the text that our model needs as input. "
   ]
  },
  {
   "cell_type": "markdown",
   "id": "7d0ed4bc",
   "metadata": {},
   "source": [
    "## Exploratory Data Analysis (EDA)\n",
    "In order to determine which model would fit our dataset, we would need to explore the given data. \n",
    "\n",
    "**Three exploratory data analysis questions have been identified and formulated:**\n",
    "1. Which words occur most frequently in the `train` data?\n",
    "2. Based on the `train` data, how correlated are the given categories?\n",
    "3. What is the range of lengths of the `comment_text`?\n",
    "\n",
    "To answer these questions, we used numerical summaries. Additionally, we used visualization techiniques in order to present and illustrate relationships in the data."
   ]
  },
  {
   "cell_type": "markdown",
   "id": "1f729ef9-9208-4f15-bc07-56d4e9cac427",
   "metadata": {},
   "source": [
    "### Which words occur most frequently in the `train` data?"
   ]
  },
  {
   "cell_type": "markdown",
   "id": "0d5a2230",
   "metadata": {},
   "source": [
    "As a preliminary step in answering this question, all of the comments should be processed using tokenization, which is the process of separating pieces of text into words. \n",
    "\n",
    "For this, NLTK's [`RegexpTokenizer`](https://www.nltk.org/api/nltk.tokenize.regexp.html) is used to tokenize the text using RegEx. More specifically, the RegEx used is `\\w+`, which retrieves all words (i.e. words with alphanumeric & underscore characters) from the text. Moreover, stopwords based on NLTK's Stopword corpus and single letters were filtered out of the tokens for a more accurate count of relevant words. \n",
    "\n",
    "It should be noted that tokenization was done for each toxic classification and for all comments as a whole, to contrast the differences of the frequently seen words in each category."
   ]
  },
  {
   "cell_type": "code",
   "execution_count": 10,
   "id": "a10e51f4",
   "metadata": {
    "tags": []
   },
   "outputs": [
    {
     "name": "stderr",
     "output_type": "stream",
     "text": [
      "[nltk_data] Downloading package stopwords to\n",
      "[nltk_data]     C:\\Users\\User\\AppData\\Roaming\\nltk_data...\n",
      "[nltk_data]   Package stopwords is already up-to-date!\n"
     ]
    }
   ],
   "source": [
    "nltk.download('stopwords')\n",
    "\n",
    "words = []\n",
    "obscene = []\n",
    "insult = [] \n",
    "toxic = []\n",
    "severe_toxic = [] \n",
    "identity_hate = [] \n",
    "threat = []\n",
    "tokenizer = nltk.RegexpTokenizer(r'\\w+')\n",
    "for index, x in train.iterrows():\n",
    "    text = x ['comment_text']\n",
    "    words += tokenizer.tokenize(text.lower())\n",
    "    \n",
    "    if x ['obscene'] == 1:\n",
    "        obscene += tokenizer.tokenize(text.lower())\n",
    "    if x ['insult'] == 1:\n",
    "        insult += tokenizer.tokenize(text.lower())\n",
    "    if x ['toxic'] == 1:\n",
    "        toxic += tokenizer.tokenize(text.lower())\n",
    "    if x ['severe_toxic'] == 1:\n",
    "        severe_toxic += tokenizer.tokenize(text.lower())\n",
    "    if x ['identity_hate'] == 1:\n",
    "        identity_hate += tokenizer.tokenize(text.lower())\n",
    "    if x ['threat'] == 1:\n",
    "        threat += tokenizer.tokenize(text.lower())\n",
    "        \n",
    "all_words = Counter(words)\n",
    "all_obscene = Counter(obscene)\n",
    "all_insult = Counter(insult)\n",
    "all_toxic = Counter(toxic)\n",
    "all_severe_toxic = Counter(severe_toxic)\n",
    "all_identity_hate = Counter(identity_hate)\n",
    "all_threat = Counter(threat)\n",
    "\n",
    "for stopword in stopwords.words(\"english\"): \n",
    "    all_words.pop(stopword, None)\n",
    "    all_obscene.pop(stopword, None)\n",
    "    all_insult.pop(stopword, None)\n",
    "    all_toxic.pop(stopword, None)\n",
    "    all_severe_toxic.pop(stopword, None)\n",
    "    all_identity_hate.pop(stopword, None)\n",
    "    all_threat.pop(stopword, None)\n",
    "\n",
    "for alpha_char in list(string.ascii_lowercase + string.ascii_uppercase):\n",
    "    all_words.pop(alpha_char, None)\n",
    "    all_obscene.pop(alpha_char, None)\n",
    "    all_insult.pop(alpha_char, None)\n",
    "    all_toxic.pop(alpha_char, None)\n",
    "    all_severe_toxic.pop(alpha_char, None)\n",
    "    all_identity_hate.pop(alpha_char, None)\n",
    "    all_threat.pop(alpha_char, None)"
   ]
  },
  {
   "cell_type": "markdown",
   "id": "3a2795b1",
   "metadata": {},
   "source": [
    "To count the tokenized characters, Python's `Counter()` object was used to automatically count the number of tokens in the list of words retrieved above. The output for all the comments, arranged by total count in descending order, is as follows:"
   ]
  },
  {
   "cell_type": "code",
   "execution_count": 11,
   "id": "09df5a33",
   "metadata": {
    "scrolled": true,
    "tags": []
   },
   "outputs": [
    {
     "name": "stdout",
     "output_type": "stream",
     "text": [
      "\n",
      "Token (All Comments)          Count\n",
      "article                       57661\n",
      "wikipedia                     48427\n",
      "page                          46460\n",
      "talk                          37094\n",
      "please                        29794\n",
      "would                         29323\n",
      "one                           29179\n",
      "like                          28008\n",
      "see                           21603\n",
      "also                          20641\n",
      "think                         20084\n",
      "know                          19144\n",
      "people                        18468\n",
      "edit                          18288\n",
      "articles                      16712\n",
      "use                           16594\n",
      "time                          15885\n",
      "may                           15611\n",
      "user                          14101\n",
      "thanks                        13904\n"
     ]
    }
   ],
   "source": [
    "print('\\n{}{}'.format('Token (All Comments)'.ljust(30), 'Count'))\n",
    "for value, count in all_words.most_common(20):\n",
    "    print('{}{}'.format(value.ljust(30), count))"
   ]
  },
  {
   "cell_type": "markdown",
   "id": "12a13de2",
   "metadata": {},
   "source": [
    "Next, the tokens for each toxic category will be shown below, arranged by total count in descending order."
   ]
  },
  {
   "cell_type": "code",
   "execution_count": 12,
   "id": "4f67a2a9",
   "metadata": {},
   "outputs": [
    {
     "name": "stdout",
     "output_type": "stream",
     "text": [
      "\n",
      "Token (Insult)                Count\n",
      "fuck                          7925\n",
      "fucking                       2799\n",
      "suck                          2792\n",
      "nigger                        2781\n",
      "go                            2235\n",
      "ass                           2211\n",
      "fat                           1926\n",
      "faggot                        1867\n",
      "bitch                         1733\n",
      "shit                          1689\n",
      "\n",
      "Token (Obscene)               Count\n",
      "fuck                          9860\n",
      "shit                          3212\n",
      "fucking                       3192\n",
      "suck                          3021\n",
      "ass                           2846\n",
      "nigger                        2727\n",
      "go                            2147\n",
      "wikipedia                     1905\n",
      "bitch                         1795\n",
      "like                          1541\n",
      "\n",
      "Token (Toxic)                 Count\n",
      "fuck                          9934\n",
      "wikipedia                     3678\n",
      "shit                          3622\n",
      "like                          3512\n",
      "nigger                        3300\n",
      "fucking                       3289\n",
      "suck                          3235\n",
      "ass                           2939\n",
      "go                            2865\n",
      "hate                          2631\n",
      "\n",
      "Token (Severe Toxic)          Count\n",
      "fuck                          7303\n",
      "suck                          2535\n",
      "ass                           2114\n",
      "shit                          1884\n",
      "faggot                        1571\n",
      "fucking                       1456\n",
      "go                            1240\n",
      "die                           1156\n",
      "bitch                         1113\n",
      "nigger                        1012\n",
      "\n",
      "Token (Identity Hate)         Count\n",
      "nigger                        2969\n",
      "fat                           1322\n",
      "jew                           1314\n",
      "gay                           918\n",
      "fuck                          880\n",
      "die                           879\n",
      "faggot                        742\n",
      "fucking                       518\n",
      "huge                          430\n",
      "suck                          427\n",
      "\n",
      "Token (Threat)                Count\n",
      "die                           1168\n",
      "ass                           772\n",
      "kill                          504\n",
      "going                         294\n",
      "wikipedia                     200\n",
      "block                         170\n",
      "must                          167\n",
      "fuck                          166\n",
      "jim                           158\n",
      "wales                         157\n"
     ]
    }
   ],
   "source": [
    "print('\\n{}{}'.format('Token (Insult)'.ljust(30), 'Count'))\n",
    "for value, count in all_insult.most_common(10):\n",
    "    print('{}{}'.format(value.ljust(30), count))\n",
    "\n",
    "print('\\n{}{}'.format('Token (Obscene)'.ljust(30), 'Count'))\n",
    "for value, count in all_obscene.most_common(10):\n",
    "    print('{}{}'.format(value.ljust(30), count))\n",
    "    \n",
    "print('\\n{}{}'.format('Token (Toxic)'.ljust(30), 'Count'))\n",
    "for value, count in all_toxic.most_common(10):\n",
    "    print('{}{}'.format(value.ljust(30), count))\n",
    "    \n",
    "print('\\n{}{}'.format('Token (Severe Toxic)'.ljust(30), 'Count'))\n",
    "for value, count in all_severe_toxic.most_common(10):\n",
    "    print('{}{}'.format(value.ljust(30), count))\n",
    "    \n",
    "print('\\n{}{}'.format('Token (Identity Hate)'.ljust(30), 'Count'))\n",
    "for value, count in all_identity_hate.most_common(10):\n",
    "    print('{}{}'.format(value.ljust(30), count))\n",
    "    \n",
    "print('\\n{}{}'.format('Token (Threat)'.ljust(30), 'Count'))\n",
    "for value, count in all_threat.most_common(10):\n",
    "    print('{}{}'.format(value.ljust(30), count))"
   ]
  },
  {
   "cell_type": "markdown",
   "id": "7d4f42ab",
   "metadata": {},
   "source": [
    "For a better visual representation of the frequency of these words, these words may be displayed in a wordcloud. Wordclouds are apt for this task as they give prominence to words based on their frequency.\n",
    "\n",
    "A [`WordCloud()`](https://amueller.github.io/word_cloud/generated/wordcloud.WordCloud.html) object is generated below, using the tokens from all comments."
   ]
  },
  {
   "cell_type": "code",
   "execution_count": 13,
   "id": "feb52aeb-ec30-40ce-bc0e-441d57566d48",
   "metadata": {
    "scrolled": true,
    "tags": []
   },
   "outputs": [
    {
     "data": {
      "image/png": "[encoded data removed]",
      "text/plain": [
       "<Figure size 432x288 with 1 Axes>"
      ]
     },
     "metadata": {
      "needs_background": "light"
     },
     "output_type": "display_data"
    }
   ],
   "source": [
    "wordcloud = WordCloud(min_word_length = 3, background_color='white')\n",
    "wordcloud.generate_from_frequencies(all_words)\n",
    "plt.imshow(wordcloud, interpolation='bilinear')\n",
    "plt.title('All Data')\n",
    "plt.axis('off')\n",
    "plt.show()"
   ]
  },
  {
   "cell_type": "markdown",
   "id": "66736efb",
   "metadata": {},
   "source": [
    "Next, several [`WordCloud()`](https://amueller.github.io/word_cloud/generated/wordcloud.WordCloud.html) objects are generated using the tokens from each toxic category as follows:"
   ]
  },
  {
   "cell_type": "markdown",
   "id": "8061fbf3-4360-40b9-ae0a-25f99b0170bd",
   "metadata": {},
   "source": [
    "#### Figure 1. Wordcloud of the Word Frequency of All of the Data"
   ]
  },
  {
   "cell_type": "code",
   "execution_count": 14,
   "id": "733bb09e-196e-49e9-92c4-5d385cac2fe2",
   "metadata": {
    "scrolled": true
   },
   "outputs": [
    {
     "data": {
      "image/png": "[encoded data removed]",
      "text/plain": [
       "<Figure size 432x288 with 6 Axes>"
      ]
     },
     "metadata": {
      "needs_background": "light"
     },
     "output_type": "display_data"
    }
   ],
   "source": [
    "fig = plt.figure()\n",
    "\n",
    "ax2 = fig.add_subplot(231)\n",
    "wordcloud1 = WordCloud(min_word_length = 3, background_color='white')\n",
    "wordcloud1.generate_from_frequencies(all_insult)\n",
    "plt.imshow(wordcloud1)\n",
    "plt.title('Insults')\n",
    "plt.axis('off')\n",
    "\n",
    "ax3 = fig.add_subplot(232)\n",
    "wordcloud2 = WordCloud(min_word_length = 3, background_color='white')\n",
    "wordcloud2.generate_from_frequencies(all_obscene)\n",
    "plt.imshow(wordcloud2)\n",
    "plt.title('Obscene')\n",
    "plt.axis('off')\n",
    "\n",
    "ax4 = fig.add_subplot(233)\n",
    "wordcloud3 = WordCloud(min_word_length = 3, background_color='white')\n",
    "wordcloud3.generate_from_frequencies(all_toxic)\n",
    "plt.imshow(wordcloud3)\n",
    "plt.title('Toxic')\n",
    "plt.axis('off')\n",
    "\n",
    "ax5 = fig.add_subplot(234)\n",
    "wordcloud4 = WordCloud(min_word_length = 3, background_color='white')\n",
    "wordcloud4.generate_from_frequencies(all_severe_toxic)\n",
    "plt.imshow(wordcloud4)\n",
    "plt.title('Severe Toxic')\n",
    "plt.axis('off')\n",
    "\n",
    "ax6 = fig.add_subplot(235)\n",
    "wordcloud5 = WordCloud(min_word_length = 3, background_color='white')\n",
    "wordcloud5.generate_from_frequencies(all_identity_hate)\n",
    "plt.imshow(wordcloud5)\n",
    "plt.title('Identity Hate')\n",
    "plt.axis('off')\n",
    "\n",
    "ax7 = fig.add_subplot(236)\n",
    "wordcloud6 = WordCloud(min_word_length = 3, background_color='white')\n",
    "wordcloud6.generate_from_frequencies(all_threat)\n",
    "plt.imshow(wordcloud6)\n",
    "plt.title('Threats')\n",
    "plt.axis('off')\n",
    "\n",
    "plt.show()"
   ]
  },
  {
   "cell_type": "markdown",
   "id": "7679730d-1bea-4952-b19d-7bf807ea715f",
   "metadata": {},
   "source": [
    "#### Figure 2. Wordcloud of the Word Frequency of Each of the Categories"
   ]
  },
  {
   "cell_type": "markdown",
   "id": "d83a508e",
   "metadata": {},
   "source": [
    "From the list of frequent words outputted earlier and the wordclouds generated above (Figure 1 and 2), there are several things to note.\n",
    "\n",
    "As expected of comments retrieved from Wikipedia's talk page edits, many of the words relate to Wikipedia itself (`article`, `articles`, `wikipedia`, `talk`, `page`, `edit`) and some words involve collaboration and communication between users for edits (`user`, `would`, `like`, `think`, `know`). Words such as `please` and `thanks` can be seen, indicating that many comments are civil and respectful.\n",
    "\n",
    "However, most of the frequently appearing words coming from comments that fall under the various toxic categories are considered profane. Interestingly enough, specific types of words appear more frequently in some categories compared to others. For example, the category `identity_hate` has a higher frequency of various slurs, `threat` contains words relating to physical harm (e.g. `kill`, `die`), and `obscene` contains indecent words related to sexual acts or parts. Furthermore, the word `fuck` consistently appears as part of the ten most frequently seen words for all categories, even appearing as the most frequent word for `insult`, `obscene`, `toxic`, and `severe_toxic`."
   ]
  },
  {
   "cell_type": "markdown",
   "id": "5c11d083-6baa-4a10-b22f-d132ed340d1f",
   "metadata": {},
   "source": [
    "### Based on the `train` data, how correlated are the given categories?\n",
    "Since this challenge mainly focuses on determining the probability of a comment belonging to a specific category, we want to explore the correlations among the different categories. The correlation of each of the categories is computed using Pandas' [`corr`](https://pandas.pydata.org/docs/reference/api/pandas.DataFrame.corr.html) function. \n",
    "\n",
    "It should be noted that since there are only two values—0 and 1—possible for each of the categories, we would not have to worry for outliers."
   ]
  },
  {
   "cell_type": "code",
   "execution_count": 15,
   "id": "17fd8d79-8a32-4b36-8f88-c94602782841",
   "metadata": {},
   "outputs": [
    {
     "data": {
      "text/html": [
       "<div>\n",
       "<style scoped>\n",
       "    .dataframe tbody tr th:only-of-type {\n",
       "        vertical-align: middle;\n",
       "    }\n",
       "\n",
       "    .dataframe tbody tr th {\n",
       "        vertical-align: top;\n",
       "    }\n",
       "\n",
       "    .dataframe thead th {\n",
       "        text-align: right;\n",
       "    }\n",
       "</style>\n",
       "<table border=\"1\" class=\"dataframe\">\n",
       "  <thead>\n",
       "    <tr style=\"text-align: right;\">\n",
       "      <th></th>\n",
       "      <th>toxic</th>\n",
       "      <th>severe_toxic</th>\n",
       "      <th>obscene</th>\n",
       "      <th>threat</th>\n",
       "      <th>insult</th>\n",
       "      <th>identity_hate</th>\n",
       "    </tr>\n",
       "  </thead>\n",
       "  <tbody>\n",
       "    <tr>\n",
       "      <th>toxic</th>\n",
       "      <td>1.000000</td>\n",
       "      <td>0.308619</td>\n",
       "      <td>0.676515</td>\n",
       "      <td>0.157058</td>\n",
       "      <td>0.647518</td>\n",
       "      <td>0.266009</td>\n",
       "    </tr>\n",
       "    <tr>\n",
       "      <th>severe_toxic</th>\n",
       "      <td>0.308619</td>\n",
       "      <td>1.000000</td>\n",
       "      <td>0.403014</td>\n",
       "      <td>0.123601</td>\n",
       "      <td>0.375807</td>\n",
       "      <td>0.201600</td>\n",
       "    </tr>\n",
       "    <tr>\n",
       "      <th>obscene</th>\n",
       "      <td>0.676515</td>\n",
       "      <td>0.403014</td>\n",
       "      <td>1.000000</td>\n",
       "      <td>0.141179</td>\n",
       "      <td>0.741272</td>\n",
       "      <td>0.286867</td>\n",
       "    </tr>\n",
       "    <tr>\n",
       "      <th>threat</th>\n",
       "      <td>0.157058</td>\n",
       "      <td>0.123601</td>\n",
       "      <td>0.141179</td>\n",
       "      <td>1.000000</td>\n",
       "      <td>0.150022</td>\n",
       "      <td>0.115128</td>\n",
       "    </tr>\n",
       "    <tr>\n",
       "      <th>insult</th>\n",
       "      <td>0.647518</td>\n",
       "      <td>0.375807</td>\n",
       "      <td>0.741272</td>\n",
       "      <td>0.150022</td>\n",
       "      <td>1.000000</td>\n",
       "      <td>0.337736</td>\n",
       "    </tr>\n",
       "    <tr>\n",
       "      <th>identity_hate</th>\n",
       "      <td>0.266009</td>\n",
       "      <td>0.201600</td>\n",
       "      <td>0.286867</td>\n",
       "      <td>0.115128</td>\n",
       "      <td>0.337736</td>\n",
       "      <td>1.000000</td>\n",
       "    </tr>\n",
       "  </tbody>\n",
       "</table>\n",
       "</div>"
      ],
      "text/plain": [
       "                  toxic  severe_toxic   obscene    threat    insult  \\\n",
       "toxic          1.000000      0.308619  0.676515  0.157058  0.647518   \n",
       "severe_toxic   0.308619      1.000000  0.403014  0.123601  0.375807   \n",
       "obscene        0.676515      0.403014  1.000000  0.141179  0.741272   \n",
       "threat         0.157058      0.123601  0.141179  1.000000  0.150022   \n",
       "insult         0.647518      0.375807  0.741272  0.150022  1.000000   \n",
       "identity_hate  0.266009      0.201600  0.286867  0.115128  0.337736   \n",
       "\n",
       "               identity_hate  \n",
       "toxic               0.266009  \n",
       "severe_toxic        0.201600  \n",
       "obscene             0.286867  \n",
       "threat              0.115128  \n",
       "insult              0.337736  \n",
       "identity_hate       1.000000  "
      ]
     },
     "execution_count": 15,
     "metadata": {},
     "output_type": "execute_result"
    }
   ],
   "source": [
    "correlation = train.corr()\n",
    "correlation"
   ]
  },
  {
   "cell_type": "markdown",
   "id": "924c8305-1960-496e-89dc-ac5f5acf579f",
   "metadata": {},
   "source": [
    "Since it is hard to determine the correlation of the categories using just numbers, we can visualize these numbers using a [`heatmap`](https://seaborn.pydata.org/generated/seaborn.heatmap.html)."
   ]
  },
  {
   "cell_type": "code",
   "execution_count": 16,
   "id": "95ba26d6-1184-46cd-8962-c6ef530a8b4e",
   "metadata": {},
   "outputs": [
    {
     "data": {
      "text/plain": [
       "<AxesSubplot:>"
      ]
     },
     "execution_count": 16,
     "metadata": {},
     "output_type": "execute_result"
    },
    {
     "data": {
      "image/png": "[encoded data removed]",
      "text/plain": [
       "<Figure size 360x360 with 2 Axes>"
      ]
     },
     "metadata": {
      "needs_background": "light"
     },
     "output_type": "display_data"
    }
   ],
   "source": [
    "plt.figure (figsize = (5, 5))\n",
    "sns.heatmap (data = correlation, xticklabels = correlation.columns.values, yticklabels = correlation.columns.values, cmap = 'viridis', annot=True)"
   ]
  },
  {
   "cell_type": "markdown",
   "id": "8af50cf8-3806-484c-a3da-c0154b1e72a3",
   "metadata": {},
   "source": [
    "#### Figure 3. Correlation Heatmap of the categories\n",
    "From Figure 3, we can see that there is a low correlation between `threat` and all of the other categories. Additionally, `insult` and `obscene` has the highest correlation among the categories with a 0.74 or 74% correlation."
   ]
  },
  {
   "cell_type": "markdown",
   "id": "fd9a8579-c857-4463-93d0-c6d5b179982d",
   "metadata": {},
   "source": [
    "### What is the range of length of `comment_text`?\n",
    "\n",
    "Determining the range of the length of the string `comment_text` could help us in determining on how long are the words, phrases or sentences our model needs to handle. The length of the longest string can be determined through the use of the [`len`](https://pandas.pydata.org/docs/reference/api/pandas.Series.str.len.html) and [`describe`](https://pandas.pydata.org/docs/reference/api/pandas.DataFrame.describe.html) functions."
   ]
  },
  {
   "cell_type": "code",
   "execution_count": 17,
   "id": "84f44217-e374-4c16-b83c-6174ddf55975",
   "metadata": {
    "tags": []
   },
   "outputs": [
    {
     "data": {
      "text/plain": [
       "count    159571.000000\n",
       "mean        396.593961\n",
       "std         594.387869\n",
       "min           6.000000\n",
       "25%          97.000000\n",
       "50%         207.000000\n",
       "75%         438.000000\n",
       "max        5000.000000\n",
       "Name: comment_text, dtype: float64"
      ]
     },
     "execution_count": 17,
     "metadata": {},
     "output_type": "execute_result"
    }
   ],
   "source": [
    "train['comment_text'].str.len().describe()"
   ]
  },
  {
   "cell_type": "markdown",
   "id": "56223e52-dd9a-4a22-9ec2-f1d656d0e274",
   "metadata": {},
   "source": [
    "From this, we can see that there is at least one string in the `comment_text` column with a length of 5000. This is far from the mean length, which is only 396.\n",
    "\n",
    "To effectively analyze the length of the comments, we can sort our data frame (i.e., using the [`sort_values`](https://pandas.pydata.org/docs/reference/api/pandas.DataFrame.sort_values.html) function) based on the length of the `comment_text` column, from the longest to the shortest."
   ]
  },
  {
   "cell_type": "code",
   "execution_count": 18,
   "id": "590a6582-ad80-40c9-84a4-a26d82159424",
   "metadata": {
    "tags": []
   },
   "outputs": [
    {
     "data": {
      "text/html": [
       "<div>\n",
       "<style scoped>\n",
       "    .dataframe tbody tr th:only-of-type {\n",
       "        vertical-align: middle;\n",
       "    }\n",
       "\n",
       "    .dataframe tbody tr th {\n",
       "        vertical-align: top;\n",
       "    }\n",
       "\n",
       "    .dataframe thead th {\n",
       "        text-align: right;\n",
       "    }\n",
       "</style>\n",
       "<table border=\"1\" class=\"dataframe\">\n",
       "  <thead>\n",
       "    <tr style=\"text-align: right;\">\n",
       "      <th></th>\n",
       "      <th>id</th>\n",
       "      <th>comment_text</th>\n",
       "      <th>toxic</th>\n",
       "      <th>severe_toxic</th>\n",
       "      <th>obscene</th>\n",
       "      <th>threat</th>\n",
       "      <th>insult</th>\n",
       "      <th>identity_hate</th>\n",
       "      <th>string_length</th>\n",
       "    </tr>\n",
       "  </thead>\n",
       "  <tbody>\n",
       "    <tr>\n",
       "      <th>131729</th>\n",
       "      <td>c0e076f0011acaa6</td>\n",
       "      <td>\"FFFFF UUUUUU CCCCCC KKKKKK ===== YOU! F UU C ...</td>\n",
       "      <td>1</td>\n",
       "      <td>1</td>\n",
       "      <td>1</td>\n",
       "      <td>0</td>\n",
       "      <td>1</td>\n",
       "      <td>0</td>\n",
       "      <td>5000</td>\n",
       "    </tr>\n",
       "    <tr>\n",
       "      <th>133254</th>\n",
       "      <td>c8f01ac90c4adc27</td>\n",
       "      <td>FUCK YOU ALL!!  FUCK YOU ALL!!  FUCK YOU ALL!!...</td>\n",
       "      <td>1</td>\n",
       "      <td>1</td>\n",
       "      <td>1</td>\n",
       "      <td>0</td>\n",
       "      <td>1</td>\n",
       "      <td>0</td>\n",
       "      <td>5000</td>\n",
       "    </tr>\n",
       "    <tr>\n",
       "      <th>4174</th>\n",
       "      <td>0b2055f13934a41e</td>\n",
       "      <td>ii CAN STILL POST WITH THIS COMPUTER...I SAID ...</td>\n",
       "      <td>1</td>\n",
       "      <td>0</td>\n",
       "      <td>1</td>\n",
       "      <td>0</td>\n",
       "      <td>1</td>\n",
       "      <td>0</td>\n",
       "      <td>5000</td>\n",
       "    </tr>\n",
       "    <tr>\n",
       "      <th>56834</th>\n",
       "      <td>97e695cfd71944ed</td>\n",
       "      <td>i CAN STILL POST WITH THIS COMPUTER...I SAID B...</td>\n",
       "      <td>1</td>\n",
       "      <td>1</td>\n",
       "      <td>1</td>\n",
       "      <td>0</td>\n",
       "      <td>1</td>\n",
       "      <td>0</td>\n",
       "      <td>5000</td>\n",
       "    </tr>\n",
       "    <tr>\n",
       "      <th>156437</th>\n",
       "      <td>ce2d7821188dd30f</td>\n",
       "      <td>HUGE FAGGOT HUGE FAGGOT HUGE FAGGOT HUGE FAGGO...</td>\n",
       "      <td>1</td>\n",
       "      <td>1</td>\n",
       "      <td>1</td>\n",
       "      <td>0</td>\n",
       "      <td>1</td>\n",
       "      <td>1</td>\n",
       "      <td>5000</td>\n",
       "    </tr>\n",
       "    <tr>\n",
       "      <th>...</th>\n",
       "      <td>...</td>\n",
       "      <td>...</td>\n",
       "      <td>...</td>\n",
       "      <td>...</td>\n",
       "      <td>...</td>\n",
       "      <td>...</td>\n",
       "      <td>...</td>\n",
       "      <td>...</td>\n",
       "      <td>...</td>\n",
       "    </tr>\n",
       "    <tr>\n",
       "      <th>118850</th>\n",
       "      <td>7b3d18857df782cf</td>\n",
       "      <td>FUCK YOU</td>\n",
       "      <td>1</td>\n",
       "      <td>1</td>\n",
       "      <td>1</td>\n",
       "      <td>0</td>\n",
       "      <td>1</td>\n",
       "      <td>0</td>\n",
       "      <td>8</td>\n",
       "    </tr>\n",
       "    <tr>\n",
       "      <th>121074</th>\n",
       "      <td>87c06f935f2c6559</td>\n",
       "      <td>you suck</td>\n",
       "      <td>1</td>\n",
       "      <td>0</td>\n",
       "      <td>1</td>\n",
       "      <td>0</td>\n",
       "      <td>1</td>\n",
       "      <td>0</td>\n",
       "      <td>8</td>\n",
       "    </tr>\n",
       "    <tr>\n",
       "      <th>109985</th>\n",
       "      <td>4c5cde3ab1a618c9</td>\n",
       "      <td>{{unbloc</td>\n",
       "      <td>0</td>\n",
       "      <td>0</td>\n",
       "      <td>0</td>\n",
       "      <td>0</td>\n",
       "      <td>0</td>\n",
       "      <td>0</td>\n",
       "      <td>8</td>\n",
       "    </tr>\n",
       "    <tr>\n",
       "      <th>52442</th>\n",
       "      <td>8c4c53001134f290</td>\n",
       "      <td>14:53,</td>\n",
       "      <td>0</td>\n",
       "      <td>0</td>\n",
       "      <td>0</td>\n",
       "      <td>0</td>\n",
       "      <td>0</td>\n",
       "      <td>0</td>\n",
       "      <td>6</td>\n",
       "    </tr>\n",
       "    <tr>\n",
       "      <th>137062</th>\n",
       "      <td>dd5ac2c49ec34efa</td>\n",
       "      <td>~ J.Lo</td>\n",
       "      <td>0</td>\n",
       "      <td>0</td>\n",
       "      <td>0</td>\n",
       "      <td>0</td>\n",
       "      <td>0</td>\n",
       "      <td>0</td>\n",
       "      <td>6</td>\n",
       "    </tr>\n",
       "  </tbody>\n",
       "</table>\n",
       "<p>159571 rows × 9 columns</p>\n",
       "</div>"
      ],
      "text/plain": [
       "                      id                                       comment_text  \\\n",
       "131729  c0e076f0011acaa6  \"FFFFF UUUUUU CCCCCC KKKKKK ===== YOU! F UU C ...   \n",
       "133254  c8f01ac90c4adc27  FUCK YOU ALL!!  FUCK YOU ALL!!  FUCK YOU ALL!!...   \n",
       "4174    0b2055f13934a41e  ii CAN STILL POST WITH THIS COMPUTER...I SAID ...   \n",
       "56834   97e695cfd71944ed  i CAN STILL POST WITH THIS COMPUTER...I SAID B...   \n",
       "156437  ce2d7821188dd30f  HUGE FAGGOT HUGE FAGGOT HUGE FAGGOT HUGE FAGGO...   \n",
       "...                  ...                                                ...   \n",
       "118850  7b3d18857df782cf                                           FUCK YOU   \n",
       "121074  87c06f935f2c6559                                           you suck   \n",
       "109985  4c5cde3ab1a618c9                                           {{unbloc   \n",
       "52442   8c4c53001134f290                                             14:53,   \n",
       "137062  dd5ac2c49ec34efa                                             ~ J.Lo   \n",
       "\n",
       "        toxic  severe_toxic  obscene  threat  insult  identity_hate  \\\n",
       "131729      1             1        1       0       1              0   \n",
       "133254      1             1        1       0       1              0   \n",
       "4174        1             0        1       0       1              0   \n",
       "56834       1             1        1       0       1              0   \n",
       "156437      1             1        1       0       1              1   \n",
       "...       ...           ...      ...     ...     ...            ...   \n",
       "118850      1             1        1       0       1              0   \n",
       "121074      1             0        1       0       1              0   \n",
       "109985      0             0        0       0       0              0   \n",
       "52442       0             0        0       0       0              0   \n",
       "137062      0             0        0       0       0              0   \n",
       "\n",
       "        string_length  \n",
       "131729           5000  \n",
       "133254           5000  \n",
       "4174             5000  \n",
       "56834            5000  \n",
       "156437           5000  \n",
       "...               ...  \n",
       "118850              8  \n",
       "121074              8  \n",
       "109985              8  \n",
       "52442               6  \n",
       "137062              6  \n",
       "\n",
       "[159571 rows x 9 columns]"
      ]
     },
     "execution_count": 18,
     "metadata": {},
     "output_type": "execute_result"
    }
   ],
   "source": [
    "arranged_index  = train['comment_text'].str.len().sort_values(ascending = False).index\n",
    "arranged_length = train.reindex (arranged_index)\n",
    "\n",
    "length = train['comment_text'].str.len().sort_values(ascending = False)\n",
    "arranged_length ['string_length'] = length\n",
    "arranged_length"
   ]
  },
  {
   "cell_type": "markdown",
   "id": "9d8ceb10-1c2d-4a76-838f-50d89026928f",
   "metadata": {},
   "source": [
    "As we can see, there are several rows with a string length of 5000. From the five comments shown, we can see that it is mostly made up of uppercase characters and copypasted words.\n",
    "\n",
    "Additionally, we can see that there are **42 rows** that has a string length of 5000 for the `comment_text` column. "
   ]
  },
  {
   "cell_type": "code",
   "execution_count": 19,
   "id": "42013730-6cfd-4b57-b0ae-f6925726e376",
   "metadata": {
    "tags": []
   },
   "outputs": [
    {
     "data": {
      "text/plain": [
       "42"
      ]
     },
     "execution_count": 19,
     "metadata": {},
     "output_type": "execute_result"
    }
   ],
   "source": [
    "len(arranged_length [arranged_length ['string_length'] == 5000])"
   ]
  },
  {
   "cell_type": "markdown",
   "id": "ae4a1181-d2b8-4e8f-9985-1df4e5816de8",
   "metadata": {},
   "source": [
    "Through the use of a [`box`](https://matplotlib.org/3.5.0/api/_as_gen/matplotlib.pyplot.box.html) plot, we can see how dispersed our data is."
   ]
  },
  {
   "cell_type": "code",
   "execution_count": 20,
   "id": "8bf680ff-a224-4aff-bf7f-6525775597c1",
   "metadata": {
    "tags": []
   },
   "outputs": [
    {
     "data": {
      "text/plain": [
       "<AxesSubplot:>"
      ]
     },
     "execution_count": 20,
     "metadata": {},
     "output_type": "execute_result"
    },
    {
     "data": {
      "image/png": "[encoded data removed]",
      "text/plain": [
       "<Figure size 360x576 with 1 Axes>"
      ]
     },
     "metadata": {
      "needs_background": "light"
     },
     "output_type": "display_data"
    }
   ],
   "source": [
    "arranged_length ['string_length'].plot.box(grid='True', figsize=(5, 8))"
   ]
  },
  {
   "cell_type": "markdown",
   "id": "e6588de3-c4a1-4bd0-898b-8b94b4e1efac",
   "metadata": {},
   "source": [
    "#### Figure 4. Box Plot of the Length of `comment_text`\n",
    "Using Figure 4, we can see that there are outliers in the length of the `comment_text` as there are comments with lengths that are higher than the upper whisker. Additionally, this boxplot visually complements what we have learned in the output of the [`describe`](https://pandas.pydata.org/docs/reference/api/pandas.DataFrame.describe.html) function: 50% of the length of the `comment_text` column can be found within the range of 97 and 438, with an Interquartile range (IQR) of 341."
   ]
  },
  {
   "cell_type": "markdown",
   "id": "bec66c5f",
   "metadata": {},
   "source": [
    "## Data Pre-Processing and Cleaning\n",
    "For the data cleaning, we would check if the test and train data: (1) has the correct data type, (2) has **NaN** values, and (3) has duplicate rows. \n",
    "\n",
    "Once we have checked and fix these, we would expand the contractions found in `comment_text`, and remove other non-word characters. This is because we need the words to be a single word and not a combination of words, as we would be utilizing **TF-IFD** (Term Frequency–Inverse Document Frequency) in the later parts of the notebook. "
   ]
  },
  {
   "cell_type": "markdown",
   "id": "23d430df",
   "metadata": {},
   "source": [
    "### Data Types of the Variables\n",
    "For the data types of the columns, we are expecting that the `id` and the `comment_text` columns (for both the `train` and `test` data) are object types as these columns are made up of alphanumeric characters. For the succeeding columns of the `train` data, as these works as boolean flags that indicate the classification of the `comment_text`, these columns should be integers."
   ]
  },
  {
   "cell_type": "code",
   "execution_count": 21,
   "id": "f433b619",
   "metadata": {
    "scrolled": true
   },
   "outputs": [
    {
     "data": {
      "text/plain": [
       "id               object\n",
       "comment_text     object\n",
       "toxic             int64\n",
       "severe_toxic      int64\n",
       "obscene           int64\n",
       "threat            int64\n",
       "insult            int64\n",
       "identity_hate     int64\n",
       "dtype: object"
      ]
     },
     "execution_count": 21,
     "metadata": {},
     "output_type": "execute_result"
    }
   ],
   "source": [
    "train.dtypes"
   ]
  },
  {
   "cell_type": "code",
   "execution_count": 22,
   "id": "f5394a39",
   "metadata": {
    "scrolled": true
   },
   "outputs": [
    {
     "data": {
      "text/plain": [
       "id              object\n",
       "comment_text    object\n",
       "dtype: object"
      ]
     },
     "execution_count": 22,
     "metadata": {},
     "output_type": "execute_result"
    }
   ],
   "source": [
    "test.dtypes"
   ]
  },
  {
   "cell_type": "markdown",
   "id": "c115b51e",
   "metadata": {},
   "source": [
    "As the data types of the column are what we expected, we do not need to perform any cleaning on their data types."
   ]
  },
  {
   "cell_type": "markdown",
   "id": "0e9cd239",
   "metadata": {},
   "source": [
    "### Checking for `NaN`\n",
    "Additionally, we also need to check if there are rows with **NaN** value for any of the columns. This is because having a **NaN** value for any of the columns are not allowed as it might affect the learning or prediction of our model.\n",
    "\n",
    "The combination of the [`isna`](https://pandas.pydata.org/docs/reference/api/pandas.isna.html) and [`sum`](https://pandas.pydata.org/docs/reference/api/pandas.DataFrame.sum.html) functions would allow us to see how many rows have **NaN** values for each of the columns."
   ]
  },
  {
   "cell_type": "code",
   "execution_count": 23,
   "id": "dcbadc5b",
   "metadata": {},
   "outputs": [
    {
     "data": {
      "text/plain": [
       "id               0\n",
       "comment_text     0\n",
       "toxic            0\n",
       "severe_toxic     0\n",
       "obscene          0\n",
       "threat           0\n",
       "insult           0\n",
       "identity_hate    0\n",
       "dtype: int64"
      ]
     },
     "execution_count": 23,
     "metadata": {},
     "output_type": "execute_result"
    }
   ],
   "source": [
    "train.isna().sum()"
   ]
  },
  {
   "cell_type": "code",
   "execution_count": 24,
   "id": "c7876a60",
   "metadata": {
    "scrolled": true
   },
   "outputs": [
    {
     "data": {
      "text/plain": [
       "id              0\n",
       "comment_text    0\n",
       "dtype: int64"
      ]
     },
     "execution_count": 24,
     "metadata": {},
     "output_type": "execute_result"
    }
   ],
   "source": [
    "test.isna().sum()"
   ]
  },
  {
   "cell_type": "markdown",
   "id": "2bd46199",
   "metadata": {},
   "source": [
    "With this, we are sure that all of the rows have values for each of the columns."
   ]
  },
  {
   "cell_type": "markdown",
   "id": "72139524",
   "metadata": {},
   "source": [
    "### Checking for Duplicate Rows\n",
    "Then, we also have to check if there are rows that are duplicated. In the case that there are duplicated rows, they should be dropped as it might bias the models towards these duplicated rows.\n",
    "\n",
    "We can check for duplicates using the [`duplicated`](https://pandas.pydata.org/docs/reference/api/pandas.DataFrame.duplicated.html) function."
   ]
  },
  {
   "cell_type": "code",
   "execution_count": 25,
   "id": "badd5719",
   "metadata": {},
   "outputs": [
    {
     "data": {
      "text/html": [
       "<div>\n",
       "<style scoped>\n",
       "    .dataframe tbody tr th:only-of-type {\n",
       "        vertical-align: middle;\n",
       "    }\n",
       "\n",
       "    .dataframe tbody tr th {\n",
       "        vertical-align: top;\n",
       "    }\n",
       "\n",
       "    .dataframe thead th {\n",
       "        text-align: right;\n",
       "    }\n",
       "</style>\n",
       "<table border=\"1\" class=\"dataframe\">\n",
       "  <thead>\n",
       "    <tr style=\"text-align: right;\">\n",
       "      <th></th>\n",
       "      <th>id</th>\n",
       "      <th>comment_text</th>\n",
       "      <th>toxic</th>\n",
       "      <th>severe_toxic</th>\n",
       "      <th>obscene</th>\n",
       "      <th>threat</th>\n",
       "      <th>insult</th>\n",
       "      <th>identity_hate</th>\n",
       "    </tr>\n",
       "  </thead>\n",
       "  <tbody>\n",
       "  </tbody>\n",
       "</table>\n",
       "</div>"
      ],
      "text/plain": [
       "Empty DataFrame\n",
       "Columns: [id, comment_text, toxic, severe_toxic, obscene, threat, insult, identity_hate]\n",
       "Index: []"
      ]
     },
     "execution_count": 25,
     "metadata": {},
     "output_type": "execute_result"
    }
   ],
   "source": [
    "train [train.duplicated()]"
   ]
  },
  {
   "cell_type": "code",
   "execution_count": 26,
   "id": "d388a559",
   "metadata": {},
   "outputs": [
    {
     "data": {
      "text/html": [
       "<div>\n",
       "<style scoped>\n",
       "    .dataframe tbody tr th:only-of-type {\n",
       "        vertical-align: middle;\n",
       "    }\n",
       "\n",
       "    .dataframe tbody tr th {\n",
       "        vertical-align: top;\n",
       "    }\n",
       "\n",
       "    .dataframe thead th {\n",
       "        text-align: right;\n",
       "    }\n",
       "</style>\n",
       "<table border=\"1\" class=\"dataframe\">\n",
       "  <thead>\n",
       "    <tr style=\"text-align: right;\">\n",
       "      <th></th>\n",
       "      <th>id</th>\n",
       "      <th>comment_text</th>\n",
       "    </tr>\n",
       "  </thead>\n",
       "  <tbody>\n",
       "  </tbody>\n",
       "</table>\n",
       "</div>"
      ],
      "text/plain": [
       "Empty DataFrame\n",
       "Columns: [id, comment_text]\n",
       "Index: []"
      ]
     },
     "execution_count": 26,
     "metadata": {},
     "output_type": "execute_result"
    }
   ],
   "source": [
    "test [test.duplicated()]"
   ]
  },
  {
   "cell_type": "markdown",
   "id": "4cc30ca8",
   "metadata": {},
   "source": [
    "Since we are now certain that there are no duplicates, we can now proceed with cleaning the content of the `comment_text` column."
   ]
  },
  {
   "cell_type": "markdown",
   "id": "82025dcc",
   "metadata": {},
   "source": [
    "### Expanding the Contractions\n",
    "In Natural Language Processing, the `contractions` is one of the libraries that is used to expand contractions. However, even though this library worked for the train data, an *IndexError* was raised in the testing data. Upon researching, this stemmed from the fact that the `fix` function of this library can only handle UTF-8 characters. Due to this, a function that can handle this expansion was created."
   ]
  },
  {
   "cell_type": "code",
   "execution_count": 27,
   "id": "7b634bf7",
   "metadata": {},
   "outputs": [],
   "source": [
    "def expand_contractions (comment_text):\n",
    "    comment_text = re.sub(r\"won\\'t\", \"will not\", comment_text)\n",
    "    comment_text = re.sub(r\"can\\'t\", \"can not\", comment_text)\n",
    "\n",
    "    comment_text = re.sub(r\"n\\'t\", \" not\", comment_text)\n",
    "    comment_text = re.sub(r\"\\'re\", \" are\", comment_text)\n",
    "    comment_text = re.sub(r\"what's\", \" is\", comment_text)\n",
    "    comment_text = re.sub(r\"\\'s\", \" \", comment_text) # to remove 's in possessive noun's\n",
    "    comment_text = re.sub(r\"\\'d\", \" would\", comment_text)\n",
    "    comment_text = re.sub(r\"\\'ll\", \" will\", comment_text)\n",
    "    comment_text = re.sub(r\"\\'t\", \" not\", comment_text)\n",
    "    comment_text = re.sub(r\"\\'ve\", \" have\", comment_text)\n",
    "    comment_text = re.sub(r\"\\'m\", \" am\", comment_text)\n",
    "    return comment_text.strip ()"
   ]
  },
  {
   "cell_type": "markdown",
   "id": "cf097694",
   "metadata": {},
   "source": [
    "The `comment_text` column of both the `train` and `test` data would be mapped to the words returned by this function. Take note that the value of the `comment_text` column would be made into lowercase in order to lessen the vocabulary, which in turn would lower the dimension of the TF-IDF vector."
   ]
  },
  {
   "cell_type": "code",
   "execution_count": 28,
   "id": "71784bb0",
   "metadata": {},
   "outputs": [
    {
     "data": {
      "text/html": [
       "<div>\n",
       "<style scoped>\n",
       "    .dataframe tbody tr th:only-of-type {\n",
       "        vertical-align: middle;\n",
       "    }\n",
       "\n",
       "    .dataframe tbody tr th {\n",
       "        vertical-align: top;\n",
       "    }\n",
       "\n",
       "    .dataframe thead th {\n",
       "        text-align: right;\n",
       "    }\n",
       "</style>\n",
       "<table border=\"1\" class=\"dataframe\">\n",
       "  <thead>\n",
       "    <tr style=\"text-align: right;\">\n",
       "      <th></th>\n",
       "      <th>id</th>\n",
       "      <th>comment_text</th>\n",
       "      <th>toxic</th>\n",
       "      <th>severe_toxic</th>\n",
       "      <th>obscene</th>\n",
       "      <th>threat</th>\n",
       "      <th>insult</th>\n",
       "      <th>identity_hate</th>\n",
       "    </tr>\n",
       "  </thead>\n",
       "  <tbody>\n",
       "    <tr>\n",
       "      <th>0</th>\n",
       "      <td>0000997932d777bf</td>\n",
       "      <td>explanation\\r\\nwhy the edits made under my use...</td>\n",
       "      <td>0</td>\n",
       "      <td>0</td>\n",
       "      <td>0</td>\n",
       "      <td>0</td>\n",
       "      <td>0</td>\n",
       "      <td>0</td>\n",
       "    </tr>\n",
       "    <tr>\n",
       "      <th>1</th>\n",
       "      <td>000103f0d9cfb60f</td>\n",
       "      <td>d'aww! he matches this background colour i am ...</td>\n",
       "      <td>0</td>\n",
       "      <td>0</td>\n",
       "      <td>0</td>\n",
       "      <td>0</td>\n",
       "      <td>0</td>\n",
       "      <td>0</td>\n",
       "    </tr>\n",
       "    <tr>\n",
       "      <th>2</th>\n",
       "      <td>000113f07ec002fd</td>\n",
       "      <td>hey man, i am really not trying to edit war. i...</td>\n",
       "      <td>0</td>\n",
       "      <td>0</td>\n",
       "      <td>0</td>\n",
       "      <td>0</td>\n",
       "      <td>0</td>\n",
       "      <td>0</td>\n",
       "    </tr>\n",
       "    <tr>\n",
       "      <th>3</th>\n",
       "      <td>0001b41b1c6bb37e</td>\n",
       "      <td>\"\\r\\nmore\\r\\ni can not make any real suggestio...</td>\n",
       "      <td>0</td>\n",
       "      <td>0</td>\n",
       "      <td>0</td>\n",
       "      <td>0</td>\n",
       "      <td>0</td>\n",
       "      <td>0</td>\n",
       "    </tr>\n",
       "    <tr>\n",
       "      <th>4</th>\n",
       "      <td>0001d958c54c6e35</td>\n",
       "      <td>you, sir, are my hero. any chance you remember...</td>\n",
       "      <td>0</td>\n",
       "      <td>0</td>\n",
       "      <td>0</td>\n",
       "      <td>0</td>\n",
       "      <td>0</td>\n",
       "      <td>0</td>\n",
       "    </tr>\n",
       "    <tr>\n",
       "      <th>...</th>\n",
       "      <td>...</td>\n",
       "      <td>...</td>\n",
       "      <td>...</td>\n",
       "      <td>...</td>\n",
       "      <td>...</td>\n",
       "      <td>...</td>\n",
       "      <td>...</td>\n",
       "      <td>...</td>\n",
       "    </tr>\n",
       "    <tr>\n",
       "      <th>159566</th>\n",
       "      <td>ffe987279560d7ff</td>\n",
       "      <td>\":::::and for the second time of asking, when ...</td>\n",
       "      <td>0</td>\n",
       "      <td>0</td>\n",
       "      <td>0</td>\n",
       "      <td>0</td>\n",
       "      <td>0</td>\n",
       "      <td>0</td>\n",
       "    </tr>\n",
       "    <tr>\n",
       "      <th>159567</th>\n",
       "      <td>ffea4adeee384e90</td>\n",
       "      <td>you should be ashamed of yourself \\r\\n\\r\\nthat...</td>\n",
       "      <td>0</td>\n",
       "      <td>0</td>\n",
       "      <td>0</td>\n",
       "      <td>0</td>\n",
       "      <td>0</td>\n",
       "      <td>0</td>\n",
       "    </tr>\n",
       "    <tr>\n",
       "      <th>159568</th>\n",
       "      <td>ffee36eab5c267c9</td>\n",
       "      <td>spitzer \\r\\n\\r\\numm, theres no actual article ...</td>\n",
       "      <td>0</td>\n",
       "      <td>0</td>\n",
       "      <td>0</td>\n",
       "      <td>0</td>\n",
       "      <td>0</td>\n",
       "      <td>0</td>\n",
       "    </tr>\n",
       "    <tr>\n",
       "      <th>159569</th>\n",
       "      <td>fff125370e4aaaf3</td>\n",
       "      <td>and it looks like it was actually you who put ...</td>\n",
       "      <td>0</td>\n",
       "      <td>0</td>\n",
       "      <td>0</td>\n",
       "      <td>0</td>\n",
       "      <td>0</td>\n",
       "      <td>0</td>\n",
       "    </tr>\n",
       "    <tr>\n",
       "      <th>159570</th>\n",
       "      <td>fff46fc426af1f9a</td>\n",
       "      <td>\"\\r\\nand ... i really do not think you underst...</td>\n",
       "      <td>0</td>\n",
       "      <td>0</td>\n",
       "      <td>0</td>\n",
       "      <td>0</td>\n",
       "      <td>0</td>\n",
       "      <td>0</td>\n",
       "    </tr>\n",
       "  </tbody>\n",
       "</table>\n",
       "<p>159571 rows × 8 columns</p>\n",
       "</div>"
      ],
      "text/plain": [
       "                      id                                       comment_text  \\\n",
       "0       0000997932d777bf  explanation\\r\\nwhy the edits made under my use...   \n",
       "1       000103f0d9cfb60f  d'aww! he matches this background colour i am ...   \n",
       "2       000113f07ec002fd  hey man, i am really not trying to edit war. i...   \n",
       "3       0001b41b1c6bb37e  \"\\r\\nmore\\r\\ni can not make any real suggestio...   \n",
       "4       0001d958c54c6e35  you, sir, are my hero. any chance you remember...   \n",
       "...                  ...                                                ...   \n",
       "159566  ffe987279560d7ff  \":::::and for the second time of asking, when ...   \n",
       "159567  ffea4adeee384e90  you should be ashamed of yourself \\r\\n\\r\\nthat...   \n",
       "159568  ffee36eab5c267c9  spitzer \\r\\n\\r\\numm, theres no actual article ...   \n",
       "159569  fff125370e4aaaf3  and it looks like it was actually you who put ...   \n",
       "159570  fff46fc426af1f9a  \"\\r\\nand ... i really do not think you underst...   \n",
       "\n",
       "        toxic  severe_toxic  obscene  threat  insult  identity_hate  \n",
       "0           0             0        0       0       0              0  \n",
       "1           0             0        0       0       0              0  \n",
       "2           0             0        0       0       0              0  \n",
       "3           0             0        0       0       0              0  \n",
       "4           0             0        0       0       0              0  \n",
       "...       ...           ...      ...     ...     ...            ...  \n",
       "159566      0             0        0       0       0              0  \n",
       "159567      0             0        0       0       0              0  \n",
       "159568      0             0        0       0       0              0  \n",
       "159569      0             0        0       0       0              0  \n",
       "159570      0             0        0       0       0              0  \n",
       "\n",
       "[159571 rows x 8 columns]"
      ]
     },
     "execution_count": 28,
     "metadata": {},
     "output_type": "execute_result"
    }
   ],
   "source": [
    "train ['comment_text'] = train ['comment_text'].map (lambda text : expand_contractions (text.lower ()))\n",
    "train"
   ]
  },
  {
   "cell_type": "code",
   "execution_count": 29,
   "id": "7b12f3a8",
   "metadata": {},
   "outputs": [
    {
     "data": {
      "text/html": [
       "<div>\n",
       "<style scoped>\n",
       "    .dataframe tbody tr th:only-of-type {\n",
       "        vertical-align: middle;\n",
       "    }\n",
       "\n",
       "    .dataframe tbody tr th {\n",
       "        vertical-align: top;\n",
       "    }\n",
       "\n",
       "    .dataframe thead th {\n",
       "        text-align: right;\n",
       "    }\n",
       "</style>\n",
       "<table border=\"1\" class=\"dataframe\">\n",
       "  <thead>\n",
       "    <tr style=\"text-align: right;\">\n",
       "      <th></th>\n",
       "      <th>id</th>\n",
       "      <th>comment_text</th>\n",
       "    </tr>\n",
       "  </thead>\n",
       "  <tbody>\n",
       "    <tr>\n",
       "      <th>0</th>\n",
       "      <td>00001cee341fdb12</td>\n",
       "      <td>yo bitch ja rule is more succesful then you wi...</td>\n",
       "    </tr>\n",
       "    <tr>\n",
       "      <th>1</th>\n",
       "      <td>0000247867823ef7</td>\n",
       "      <td>== from rfc == \\r\\n\\r\\n the title is fine as i...</td>\n",
       "    </tr>\n",
       "    <tr>\n",
       "      <th>2</th>\n",
       "      <td>00013b17ad220c46</td>\n",
       "      <td>\" \\r\\n\\r\\n == sources == \\r\\n\\r\\n * zawe ashto...</td>\n",
       "    </tr>\n",
       "    <tr>\n",
       "      <th>3</th>\n",
       "      <td>00017563c3f7919a</td>\n",
       "      <td>:if you have a look back at the source, the in...</td>\n",
       "    </tr>\n",
       "    <tr>\n",
       "      <th>4</th>\n",
       "      <td>00017695ad8997eb</td>\n",
       "      <td>i do not anonymously edit articles at all.</td>\n",
       "    </tr>\n",
       "    <tr>\n",
       "      <th>...</th>\n",
       "      <td>...</td>\n",
       "      <td>...</td>\n",
       "    </tr>\n",
       "    <tr>\n",
       "      <th>153159</th>\n",
       "      <td>fffcd0960ee309b5</td>\n",
       "      <td>. \\r\\n i totally agree, this stuff is nothing ...</td>\n",
       "    </tr>\n",
       "    <tr>\n",
       "      <th>153160</th>\n",
       "      <td>fffd7a9a6eb32c16</td>\n",
       "      <td>== throw from out field to home plate. == \\r\\n...</td>\n",
       "    </tr>\n",
       "    <tr>\n",
       "      <th>153161</th>\n",
       "      <td>fffda9e8d6fafa9e</td>\n",
       "      <td>\" \\r\\n\\r\\n == okinotorishima categories == \\r\\...</td>\n",
       "    </tr>\n",
       "    <tr>\n",
       "      <th>153162</th>\n",
       "      <td>fffe8f1340a79fc2</td>\n",
       "      <td>\" \\r\\n\\r\\n == \"\"one of the founding nations of...</td>\n",
       "    </tr>\n",
       "    <tr>\n",
       "      <th>153163</th>\n",
       "      <td>ffffce3fb183ee80</td>\n",
       "      <td>\" \\r\\n :::stop already. your bullshit is not w...</td>\n",
       "    </tr>\n",
       "  </tbody>\n",
       "</table>\n",
       "<p>153164 rows × 2 columns</p>\n",
       "</div>"
      ],
      "text/plain": [
       "                      id                                       comment_text\n",
       "0       00001cee341fdb12  yo bitch ja rule is more succesful then you wi...\n",
       "1       0000247867823ef7  == from rfc == \\r\\n\\r\\n the title is fine as i...\n",
       "2       00013b17ad220c46  \" \\r\\n\\r\\n == sources == \\r\\n\\r\\n * zawe ashto...\n",
       "3       00017563c3f7919a  :if you have a look back at the source, the in...\n",
       "4       00017695ad8997eb         i do not anonymously edit articles at all.\n",
       "...                  ...                                                ...\n",
       "153159  fffcd0960ee309b5  . \\r\\n i totally agree, this stuff is nothing ...\n",
       "153160  fffd7a9a6eb32c16  == throw from out field to home plate. == \\r\\n...\n",
       "153161  fffda9e8d6fafa9e  \" \\r\\n\\r\\n == okinotorishima categories == \\r\\...\n",
       "153162  fffe8f1340a79fc2  \" \\r\\n\\r\\n == \"\"one of the founding nations of...\n",
       "153163  ffffce3fb183ee80  \" \\r\\n :::stop already. your bullshit is not w...\n",
       "\n",
       "[153164 rows x 2 columns]"
      ]
     },
     "execution_count": 29,
     "metadata": {},
     "output_type": "execute_result"
    }
   ],
   "source": [
    "test ['comment_text'] = test ['comment_text'].map (lambda text : expand_contractions (text.lower ()))\n",
    "test"
   ]
  },
  {
   "cell_type": "markdown",
   "id": "e80e080b",
   "metadata": {},
   "source": [
    "However, from the current `test` and `train` data, we can see that if we make used TF-IDF on terms above, we would still see problems with whitespaces (e.g., new line characters, tab characters) and non-alphanumeric characters (e.g., equals sign, ellipses, repeated punctuation marks)."
   ]
  },
  {
   "cell_type": "markdown",
   "id": "0945a9c9",
   "metadata": {},
   "source": [
    "### Removing Non-word Characters\n",
    "To remove the problem regarding white spaces and non-alphanumeric characters, we would be utilizing regular expressions to easily remove these two types of characters. To do this easily, we defined a function that would return a string that only has alphanumeric characters. "
   ]
  },
  {
   "cell_type": "code",
   "execution_count": 30,
   "id": "1e4b7207",
   "metadata": {},
   "outputs": [],
   "source": [
    "def remove_other_chars (comment_text):\n",
    "    comment_text = re.sub ('\\W', ' ', comment_text)\n",
    "    comment_text = re.sub ('\\s+', ' ', comment_text)\n",
    "    return comment_text.strip ()"
   ]
  },
  {
   "cell_type": "markdown",
   "id": "9090d377",
   "metadata": {},
   "source": [
    "Next, we would apply this function to the `comment_text` column of both the `train` and `test` data."
   ]
  },
  {
   "cell_type": "code",
   "execution_count": 31,
   "id": "4883321d",
   "metadata": {},
   "outputs": [
    {
     "data": {
      "text/html": [
       "<div>\n",
       "<style scoped>\n",
       "    .dataframe tbody tr th:only-of-type {\n",
       "        vertical-align: middle;\n",
       "    }\n",
       "\n",
       "    .dataframe tbody tr th {\n",
       "        vertical-align: top;\n",
       "    }\n",
       "\n",
       "    .dataframe thead th {\n",
       "        text-align: right;\n",
       "    }\n",
       "</style>\n",
       "<table border=\"1\" class=\"dataframe\">\n",
       "  <thead>\n",
       "    <tr style=\"text-align: right;\">\n",
       "      <th></th>\n",
       "      <th>id</th>\n",
       "      <th>comment_text</th>\n",
       "      <th>toxic</th>\n",
       "      <th>severe_toxic</th>\n",
       "      <th>obscene</th>\n",
       "      <th>threat</th>\n",
       "      <th>insult</th>\n",
       "      <th>identity_hate</th>\n",
       "    </tr>\n",
       "  </thead>\n",
       "  <tbody>\n",
       "    <tr>\n",
       "      <th>0</th>\n",
       "      <td>0000997932d777bf</td>\n",
       "      <td>explanation why the edits made under my userna...</td>\n",
       "      <td>0</td>\n",
       "      <td>0</td>\n",
       "      <td>0</td>\n",
       "      <td>0</td>\n",
       "      <td>0</td>\n",
       "      <td>0</td>\n",
       "    </tr>\n",
       "    <tr>\n",
       "      <th>1</th>\n",
       "      <td>000103f0d9cfb60f</td>\n",
       "      <td>d aww he matches this background colour i am s...</td>\n",
       "      <td>0</td>\n",
       "      <td>0</td>\n",
       "      <td>0</td>\n",
       "      <td>0</td>\n",
       "      <td>0</td>\n",
       "      <td>0</td>\n",
       "    </tr>\n",
       "    <tr>\n",
       "      <th>2</th>\n",
       "      <td>000113f07ec002fd</td>\n",
       "      <td>hey man i am really not trying to edit war it ...</td>\n",
       "      <td>0</td>\n",
       "      <td>0</td>\n",
       "      <td>0</td>\n",
       "      <td>0</td>\n",
       "      <td>0</td>\n",
       "      <td>0</td>\n",
       "    </tr>\n",
       "    <tr>\n",
       "      <th>3</th>\n",
       "      <td>0001b41b1c6bb37e</td>\n",
       "      <td>more i can not make any real suggestions on im...</td>\n",
       "      <td>0</td>\n",
       "      <td>0</td>\n",
       "      <td>0</td>\n",
       "      <td>0</td>\n",
       "      <td>0</td>\n",
       "      <td>0</td>\n",
       "    </tr>\n",
       "    <tr>\n",
       "      <th>4</th>\n",
       "      <td>0001d958c54c6e35</td>\n",
       "      <td>you sir are my hero any chance you remember wh...</td>\n",
       "      <td>0</td>\n",
       "      <td>0</td>\n",
       "      <td>0</td>\n",
       "      <td>0</td>\n",
       "      <td>0</td>\n",
       "      <td>0</td>\n",
       "    </tr>\n",
       "    <tr>\n",
       "      <th>...</th>\n",
       "      <td>...</td>\n",
       "      <td>...</td>\n",
       "      <td>...</td>\n",
       "      <td>...</td>\n",
       "      <td>...</td>\n",
       "      <td>...</td>\n",
       "      <td>...</td>\n",
       "      <td>...</td>\n",
       "    </tr>\n",
       "    <tr>\n",
       "      <th>159566</th>\n",
       "      <td>ffe987279560d7ff</td>\n",
       "      <td>and for the second time of asking when your vi...</td>\n",
       "      <td>0</td>\n",
       "      <td>0</td>\n",
       "      <td>0</td>\n",
       "      <td>0</td>\n",
       "      <td>0</td>\n",
       "      <td>0</td>\n",
       "    </tr>\n",
       "    <tr>\n",
       "      <th>159567</th>\n",
       "      <td>ffea4adeee384e90</td>\n",
       "      <td>you should be ashamed of yourself that is a ho...</td>\n",
       "      <td>0</td>\n",
       "      <td>0</td>\n",
       "      <td>0</td>\n",
       "      <td>0</td>\n",
       "      <td>0</td>\n",
       "      <td>0</td>\n",
       "    </tr>\n",
       "    <tr>\n",
       "      <th>159568</th>\n",
       "      <td>ffee36eab5c267c9</td>\n",
       "      <td>spitzer umm theres no actual article for prost...</td>\n",
       "      <td>0</td>\n",
       "      <td>0</td>\n",
       "      <td>0</td>\n",
       "      <td>0</td>\n",
       "      <td>0</td>\n",
       "      <td>0</td>\n",
       "    </tr>\n",
       "    <tr>\n",
       "      <th>159569</th>\n",
       "      <td>fff125370e4aaaf3</td>\n",
       "      <td>and it looks like it was actually you who put ...</td>\n",
       "      <td>0</td>\n",
       "      <td>0</td>\n",
       "      <td>0</td>\n",
       "      <td>0</td>\n",
       "      <td>0</td>\n",
       "      <td>0</td>\n",
       "    </tr>\n",
       "    <tr>\n",
       "      <th>159570</th>\n",
       "      <td>fff46fc426af1f9a</td>\n",
       "      <td>and i really do not think you understand i cam...</td>\n",
       "      <td>0</td>\n",
       "      <td>0</td>\n",
       "      <td>0</td>\n",
       "      <td>0</td>\n",
       "      <td>0</td>\n",
       "      <td>0</td>\n",
       "    </tr>\n",
       "  </tbody>\n",
       "</table>\n",
       "<p>159571 rows × 8 columns</p>\n",
       "</div>"
      ],
      "text/plain": [
       "                      id                                       comment_text  \\\n",
       "0       0000997932d777bf  explanation why the edits made under my userna...   \n",
       "1       000103f0d9cfb60f  d aww he matches this background colour i am s...   \n",
       "2       000113f07ec002fd  hey man i am really not trying to edit war it ...   \n",
       "3       0001b41b1c6bb37e  more i can not make any real suggestions on im...   \n",
       "4       0001d958c54c6e35  you sir are my hero any chance you remember wh...   \n",
       "...                  ...                                                ...   \n",
       "159566  ffe987279560d7ff  and for the second time of asking when your vi...   \n",
       "159567  ffea4adeee384e90  you should be ashamed of yourself that is a ho...   \n",
       "159568  ffee36eab5c267c9  spitzer umm theres no actual article for prost...   \n",
       "159569  fff125370e4aaaf3  and it looks like it was actually you who put ...   \n",
       "159570  fff46fc426af1f9a  and i really do not think you understand i cam...   \n",
       "\n",
       "        toxic  severe_toxic  obscene  threat  insult  identity_hate  \n",
       "0           0             0        0       0       0              0  \n",
       "1           0             0        0       0       0              0  \n",
       "2           0             0        0       0       0              0  \n",
       "3           0             0        0       0       0              0  \n",
       "4           0             0        0       0       0              0  \n",
       "...       ...           ...      ...     ...     ...            ...  \n",
       "159566      0             0        0       0       0              0  \n",
       "159567      0             0        0       0       0              0  \n",
       "159568      0             0        0       0       0              0  \n",
       "159569      0             0        0       0       0              0  \n",
       "159570      0             0        0       0       0              0  \n",
       "\n",
       "[159571 rows x 8 columns]"
      ]
     },
     "execution_count": 31,
     "metadata": {},
     "output_type": "execute_result"
    }
   ],
   "source": [
    "train ['comment_text'] = train ['comment_text'].map (lambda text : remove_other_chars (text.lower ()))\n",
    "train"
   ]
  },
  {
   "cell_type": "code",
   "execution_count": 32,
   "id": "ca99566e",
   "metadata": {
    "scrolled": true
   },
   "outputs": [
    {
     "data": {
      "text/html": [
       "<div>\n",
       "<style scoped>\n",
       "    .dataframe tbody tr th:only-of-type {\n",
       "        vertical-align: middle;\n",
       "    }\n",
       "\n",
       "    .dataframe tbody tr th {\n",
       "        vertical-align: top;\n",
       "    }\n",
       "\n",
       "    .dataframe thead th {\n",
       "        text-align: right;\n",
       "    }\n",
       "</style>\n",
       "<table border=\"1\" class=\"dataframe\">\n",
       "  <thead>\n",
       "    <tr style=\"text-align: right;\">\n",
       "      <th></th>\n",
       "      <th>id</th>\n",
       "      <th>comment_text</th>\n",
       "    </tr>\n",
       "  </thead>\n",
       "  <tbody>\n",
       "    <tr>\n",
       "      <th>0</th>\n",
       "      <td>00001cee341fdb12</td>\n",
       "      <td>yo bitch ja rule is more succesful then you wi...</td>\n",
       "    </tr>\n",
       "    <tr>\n",
       "      <th>1</th>\n",
       "      <td>0000247867823ef7</td>\n",
       "      <td>from rfc the title is fine as it is imo</td>\n",
       "    </tr>\n",
       "    <tr>\n",
       "      <th>2</th>\n",
       "      <td>00013b17ad220c46</td>\n",
       "      <td>sources zawe ashton on lapland</td>\n",
       "    </tr>\n",
       "    <tr>\n",
       "      <th>3</th>\n",
       "      <td>00017563c3f7919a</td>\n",
       "      <td>if you have a look back at the source the info...</td>\n",
       "    </tr>\n",
       "    <tr>\n",
       "      <th>4</th>\n",
       "      <td>00017695ad8997eb</td>\n",
       "      <td>i do not anonymously edit articles at all</td>\n",
       "    </tr>\n",
       "    <tr>\n",
       "      <th>...</th>\n",
       "      <td>...</td>\n",
       "      <td>...</td>\n",
       "    </tr>\n",
       "    <tr>\n",
       "      <th>153159</th>\n",
       "      <td>fffcd0960ee309b5</td>\n",
       "      <td>i totally agree this stuff is nothing but too ...</td>\n",
       "    </tr>\n",
       "    <tr>\n",
       "      <th>153160</th>\n",
       "      <td>fffd7a9a6eb32c16</td>\n",
       "      <td>throw from out field to home plate does it get...</td>\n",
       "    </tr>\n",
       "    <tr>\n",
       "      <th>153161</th>\n",
       "      <td>fffda9e8d6fafa9e</td>\n",
       "      <td>okinotorishima categories i see your changes a...</td>\n",
       "    </tr>\n",
       "    <tr>\n",
       "      <th>153162</th>\n",
       "      <td>fffe8f1340a79fc2</td>\n",
       "      <td>one of the founding nations of the eu germany ...</td>\n",
       "    </tr>\n",
       "    <tr>\n",
       "      <th>153163</th>\n",
       "      <td>ffffce3fb183ee80</td>\n",
       "      <td>stop already your bullshit is not welcome here...</td>\n",
       "    </tr>\n",
       "  </tbody>\n",
       "</table>\n",
       "<p>153164 rows × 2 columns</p>\n",
       "</div>"
      ],
      "text/plain": [
       "                      id                                       comment_text\n",
       "0       00001cee341fdb12  yo bitch ja rule is more succesful then you wi...\n",
       "1       0000247867823ef7            from rfc the title is fine as it is imo\n",
       "2       00013b17ad220c46                     sources zawe ashton on lapland\n",
       "3       00017563c3f7919a  if you have a look back at the source the info...\n",
       "4       00017695ad8997eb          i do not anonymously edit articles at all\n",
       "...                  ...                                                ...\n",
       "153159  fffcd0960ee309b5  i totally agree this stuff is nothing but too ...\n",
       "153160  fffd7a9a6eb32c16  throw from out field to home plate does it get...\n",
       "153161  fffda9e8d6fafa9e  okinotorishima categories i see your changes a...\n",
       "153162  fffe8f1340a79fc2  one of the founding nations of the eu germany ...\n",
       "153163  ffffce3fb183ee80  stop already your bullshit is not welcome here...\n",
       "\n",
       "[153164 rows x 2 columns]"
      ]
     },
     "execution_count": 32,
     "metadata": {},
     "output_type": "execute_result"
    }
   ],
   "source": [
    "test ['comment_text'] = test ['comment_text'].map (lambda text : remove_other_chars (text.lower ()))\n",
    "test"
   ]
  },
  {
   "cell_type": "markdown",
   "id": "8cb62dd3",
   "metadata": {},
   "source": [
    "As we can see, the repetitive punctuations and the white space characters in the `comment_text` for both `test` and `train` data are now gone. We can say that our data is now clean. \n",
    "\n",
    "Although, we can see that there are still misspellings, this would not be cleaned. "
   ]
  },
  {
   "cell_type": "markdown",
   "id": "ce5a1735",
   "metadata": {},
   "source": [
    "## Feature Engineering\n"
   ]
  },
  {
   "cell_type": "code",
   "execution_count": 66,
   "id": "fe0ed90c-d06f-463a-af23-438a41c7495f",
   "metadata": {},
   "outputs": [],
   "source": [
    "X_train = train ['comment_text']\n",
    "X_test = test ['comment_text']"
   ]
  },
  {
   "cell_type": "code",
   "execution_count": 67,
   "id": "e70cc4a3",
   "metadata": {},
   "outputs": [],
   "source": [
    "tf_idf_vectorizer = TfidfVectorizer(stop_words = 'english', max_features = 5000)"
   ]
  },
  {
   "cell_type": "code",
   "execution_count": 68,
   "id": "d8539084-37b8-45f3-8e1f-8eff5f3bcf3a",
   "metadata": {},
   "outputs": [],
   "source": [
    "tf_idf_train = tf_idf_vectorizer.fit_transform(X_train)"
   ]
  },
  {
   "cell_type": "code",
   "execution_count": 69,
   "id": "4076198f-125d-4766-8794-f3ca3761620d",
   "metadata": {},
   "outputs": [],
   "source": [
    "tf_idf_test = tf_idf_vectorizer.transform(X_test)"
   ]
  },
  {
   "cell_type": "code",
   "execution_count": 70,
   "id": "ac992069-51c1-4fce-a65d-c2723071706e",
   "metadata": {},
   "outputs": [],
   "source": [
    "count_vectorizer = CountVectorizer(stop_words = 'english', max_features = 5000)"
   ]
  },
  {
   "cell_type": "code",
   "execution_count": 71,
   "id": "b45ce614-7fd4-4294-8ad9-34194560cead",
   "metadata": {},
   "outputs": [],
   "source": [
    "count_train = count_vectorizer.fit_transform(X_train)"
   ]
  },
  {
   "cell_type": "code",
   "execution_count": 72,
   "id": "fb443702-8fc8-4781-a551-7ce9acc99785",
   "metadata": {},
   "outputs": [],
   "source": [
    "count_test = count_vectorizer.transform(X_test)"
   ]
  },
  {
   "cell_type": "markdown",
   "id": "71fbfd7a-d192-4ca2-bfa1-6a4d52315cbb",
   "metadata": {},
   "source": [
    "## Trying different Models"
   ]
  },
  {
   "cell_type": "code",
   "execution_count": 40,
   "id": "c758aacd",
   "metadata": {},
   "outputs": [],
   "source": [
    "def compute_accuracy(predictions, actual):\n",
    "    accuracy = np.sum (predictions == actual) / len (predictions) * 100\n",
    "    return accuracy"
   ]
  },
  {
   "cell_type": "markdown",
   "id": "16b78b9b-ff08-4a67-a69d-f0a0b58c3034",
   "metadata": {},
   "source": [
    "### Classifier Chain"
   ]
  },
  {
   "cell_type": "code",
   "execution_count": 41,
   "id": "f90b436e",
   "metadata": {},
   "outputs": [],
   "source": [
    "model = ClassifierChain(MultinomialNB())"
   ]
  },
  {
   "cell_type": "code",
   "execution_count": 42,
   "id": "557b8e6b",
   "metadata": {},
   "outputs": [],
   "source": [
    "X_train = train ['comment_text']\n",
    "X_test = test ['comment_text']"
   ]
  },
  {
   "cell_type": "code",
   "execution_count": 91,
   "id": "5390c883",
   "metadata": {},
   "outputs": [],
   "source": [
    "y_train = train.loc[: ,'toxic' : 'identity_hate' ]"
   ]
  },
  {
   "cell_type": "markdown",
   "id": "3d60ce8e-1891-47dd-94df-7857702df720",
   "metadata": {},
   "source": [
    "tf_idf_train_array = tf_idf_train.toarray()\n",
    "pd.DataFrame(tf_idf_train_array, columns=tf_idf_vectorizer.get_feature_names(), index=X_train)\n",
    "\n",
    "model.fit(tf_idf_train_array, y_train)\n",
    "predictions = model.predict(X_train)"
   ]
  },
  {
   "cell_type": "markdown",
   "id": "dbba0a9a-c3fd-4075-83bf-5c647775838d",
   "metadata": {},
   "source": [
    "print(compute_accuracy(predictions, y_train))"
   ]
  },
  {
   "cell_type": "markdown",
   "id": "f922eaf4-f989-4470-9670-c0fd6e313ede",
   "metadata": {},
   "source": [
    "### Binary Relevance"
   ]
  },
  {
   "cell_type": "markdown",
   "id": "a95c8168-7a62-415e-8fa2-778fcae4276d",
   "metadata": {},
   "source": [
    "#### Model Training"
   ]
  },
  {
   "cell_type": "code",
   "execution_count": 101,
   "id": "200f29e0-d2da-439c-af9b-9087b883dca5",
   "metadata": {},
   "outputs": [],
   "source": [
    "from skmultilearn.problem_transform import BinaryRelevance\n",
    "from sklearn.svm import SVC\n",
    "\n",
    "parameters = [\n",
    "    {\n",
    "        'classifier': [LogisticRegression()],\n",
    "        'classifier__C': [0.001, 0.01, 0.1, 1, 10, 100]\n",
    "    },\n",
    "    {\n",
    "        'classifier': [MultinomialNB()],\n",
    "        'classifier__alpha': [0.7, 1.0],\n",
    "        'classifier__fit_prior': [True, False]\n",
    "    },\n",
    "    {\n",
    "        'classifier': [SVC()],\n",
    "        'classifier__kernel': ['rbf', 'linear'],\n",
    "    }\n",
    "]"
   ]
  },
  {
   "cell_type": "code",
   "execution_count": null,
   "id": "b4bb41a4-46ac-4f2c-9194-847fe3920257",
   "metadata": {},
   "outputs": [],
   "source": [
    "# train\n",
    "classifier.fit(count_train, y_train)"
   ]
  },
  {
   "cell_type": "code",
   "execution_count": null,
   "id": "0654ac2e-64d3-400b-b6c0-0742997968b7",
   "metadata": {},
   "outputs": [],
   "source": [
    "predictions = classifier.predict(count_train)"
   ]
  },
  {
   "cell_type": "code",
   "execution_count": null,
   "id": "060327de-35d6-4bdc-94bd-78afb50c95c7",
   "metadata": {},
   "outputs": [],
   "source": [
    "print(compute_accuracy(predictions.todense(), y_train))"
   ]
  },
  {
   "cell_type": "markdown",
   "id": "61348446",
   "metadata": {},
   "source": [
    "### Multinomial Naive Bayes using TF-IDF Vectorizer"
   ]
  },
  {
   "cell_type": "markdown",
   "id": "ac4fdf03",
   "metadata": {},
   "source": [
    "#### Model Training"
   ]
  },
  {
   "cell_type": "code",
   "execution_count": 44,
   "id": "5b3e7984",
   "metadata": {},
   "outputs": [],
   "source": [
    "X_train = train ['comment_text']\n",
    "X_test = test ['comment_text']"
   ]
  },
  {
   "cell_type": "code",
   "execution_count": 45,
   "id": "6d9a15e0",
   "metadata": {},
   "outputs": [],
   "source": [
    "tf_idf_train = tf_idf_vectorizer.fit_transform(X_train)"
   ]
  },
  {
   "cell_type": "code",
   "execution_count": 46,
   "id": "2aeb139f",
   "metadata": {},
   "outputs": [],
   "source": [
    "tf_idf_test = tf_idf_vectorizer.transform(X_test)"
   ]
  },
  {
   "cell_type": "code",
   "execution_count": 47,
   "id": "14cb32b0-17d8-466b-850d-82660ec30769",
   "metadata": {},
   "outputs": [],
   "source": [
    "classes = train.columns [2:]\n",
    "arr_model = []\n",
    "counter = 0\n",
    "for class_ in classes:\n",
    "    y_train = train[class_]\n",
    "    model = MultinomialNB ()\n",
    "    model.fit(tf_idf_train, y_train)\n",
    "    predictions = model.predict(tf_idf_train)\n",
    "    arr_model.append(model)\n",
    "    counter = counter + 1"
   ]
  },
  {
   "cell_type": "code",
   "execution_count": 48,
   "id": "c44691ba-f415-4768-9ab1-352d663b2f3b",
   "metadata": {},
   "outputs": [
    {
     "name": "stdout",
     "output_type": "stream",
     "text": [
      "Class:  toxic\n",
      "95.135080935759\n",
      "Class:  severe_toxic\n",
      "99.07940665910473\n",
      "Class:  obscene\n",
      "97.44753119301126\n",
      "Class:  threat\n",
      "99.70295354419036\n",
      "Class:  insult\n",
      "96.97689429783607\n",
      "Class:  identity_hate\n",
      "99.18594230781282\n"
     ]
    }
   ],
   "source": [
    "counter = 0\n",
    "for class_ in classes:\n",
    "    print(\"Class: \", class_)\n",
    "    y_train = train[class_]\n",
    "    predictions = arr_model [counter].predict(tf_idf_train)\n",
    "    print(compute_accuracy(predictions, y_train))\n",
    "    counter = counter + 1"
   ]
  },
  {
   "cell_type": "code",
   "execution_count": 49,
   "id": "3be2d775-987b-4343-9b57-1f395f3c6117",
   "metadata": {},
   "outputs": [
    {
     "data": {
      "text/html": [
       "<div>\n",
       "<style scoped>\n",
       "    .dataframe tbody tr th:only-of-type {\n",
       "        vertical-align: middle;\n",
       "    }\n",
       "\n",
       "    .dataframe tbody tr th {\n",
       "        vertical-align: top;\n",
       "    }\n",
       "\n",
       "    .dataframe thead th {\n",
       "        text-align: right;\n",
       "    }\n",
       "</style>\n",
       "<table border=\"1\" class=\"dataframe\">\n",
       "  <thead>\n",
       "    <tr style=\"text-align: right;\">\n",
       "      <th></th>\n",
       "      <th>id</th>\n",
       "      <th>toxic</th>\n",
       "      <th>severe_toxic</th>\n",
       "      <th>obscene</th>\n",
       "      <th>threat</th>\n",
       "      <th>insult</th>\n",
       "      <th>identity_hate</th>\n",
       "    </tr>\n",
       "  </thead>\n",
       "  <tbody>\n",
       "    <tr>\n",
       "      <th>0</th>\n",
       "      <td>00001cee341fdb12</td>\n",
       "      <td>0.5</td>\n",
       "      <td>0.5</td>\n",
       "      <td>0.5</td>\n",
       "      <td>0.5</td>\n",
       "      <td>0.5</td>\n",
       "      <td>0.5</td>\n",
       "    </tr>\n",
       "    <tr>\n",
       "      <th>1</th>\n",
       "      <td>0000247867823ef7</td>\n",
       "      <td>0.5</td>\n",
       "      <td>0.5</td>\n",
       "      <td>0.5</td>\n",
       "      <td>0.5</td>\n",
       "      <td>0.5</td>\n",
       "      <td>0.5</td>\n",
       "    </tr>\n",
       "    <tr>\n",
       "      <th>2</th>\n",
       "      <td>00013b17ad220c46</td>\n",
       "      <td>0.5</td>\n",
       "      <td>0.5</td>\n",
       "      <td>0.5</td>\n",
       "      <td>0.5</td>\n",
       "      <td>0.5</td>\n",
       "      <td>0.5</td>\n",
       "    </tr>\n",
       "    <tr>\n",
       "      <th>3</th>\n",
       "      <td>00017563c3f7919a</td>\n",
       "      <td>0.5</td>\n",
       "      <td>0.5</td>\n",
       "      <td>0.5</td>\n",
       "      <td>0.5</td>\n",
       "      <td>0.5</td>\n",
       "      <td>0.5</td>\n",
       "    </tr>\n",
       "    <tr>\n",
       "      <th>4</th>\n",
       "      <td>00017695ad8997eb</td>\n",
       "      <td>0.5</td>\n",
       "      <td>0.5</td>\n",
       "      <td>0.5</td>\n",
       "      <td>0.5</td>\n",
       "      <td>0.5</td>\n",
       "      <td>0.5</td>\n",
       "    </tr>\n",
       "    <tr>\n",
       "      <th>...</th>\n",
       "      <td>...</td>\n",
       "      <td>...</td>\n",
       "      <td>...</td>\n",
       "      <td>...</td>\n",
       "      <td>...</td>\n",
       "      <td>...</td>\n",
       "      <td>...</td>\n",
       "    </tr>\n",
       "    <tr>\n",
       "      <th>153159</th>\n",
       "      <td>fffcd0960ee309b5</td>\n",
       "      <td>0.5</td>\n",
       "      <td>0.5</td>\n",
       "      <td>0.5</td>\n",
       "      <td>0.5</td>\n",
       "      <td>0.5</td>\n",
       "      <td>0.5</td>\n",
       "    </tr>\n",
       "    <tr>\n",
       "      <th>153160</th>\n",
       "      <td>fffd7a9a6eb32c16</td>\n",
       "      <td>0.5</td>\n",
       "      <td>0.5</td>\n",
       "      <td>0.5</td>\n",
       "      <td>0.5</td>\n",
       "      <td>0.5</td>\n",
       "      <td>0.5</td>\n",
       "    </tr>\n",
       "    <tr>\n",
       "      <th>153161</th>\n",
       "      <td>fffda9e8d6fafa9e</td>\n",
       "      <td>0.5</td>\n",
       "      <td>0.5</td>\n",
       "      <td>0.5</td>\n",
       "      <td>0.5</td>\n",
       "      <td>0.5</td>\n",
       "      <td>0.5</td>\n",
       "    </tr>\n",
       "    <tr>\n",
       "      <th>153162</th>\n",
       "      <td>fffe8f1340a79fc2</td>\n",
       "      <td>0.5</td>\n",
       "      <td>0.5</td>\n",
       "      <td>0.5</td>\n",
       "      <td>0.5</td>\n",
       "      <td>0.5</td>\n",
       "      <td>0.5</td>\n",
       "    </tr>\n",
       "    <tr>\n",
       "      <th>153163</th>\n",
       "      <td>ffffce3fb183ee80</td>\n",
       "      <td>0.5</td>\n",
       "      <td>0.5</td>\n",
       "      <td>0.5</td>\n",
       "      <td>0.5</td>\n",
       "      <td>0.5</td>\n",
       "      <td>0.5</td>\n",
       "    </tr>\n",
       "  </tbody>\n",
       "</table>\n",
       "<p>153164 rows × 7 columns</p>\n",
       "</div>"
      ],
      "text/plain": [
       "                      id  toxic  severe_toxic  obscene  threat  insult  \\\n",
       "0       00001cee341fdb12    0.5           0.5      0.5     0.5     0.5   \n",
       "1       0000247867823ef7    0.5           0.5      0.5     0.5     0.5   \n",
       "2       00013b17ad220c46    0.5           0.5      0.5     0.5     0.5   \n",
       "3       00017563c3f7919a    0.5           0.5      0.5     0.5     0.5   \n",
       "4       00017695ad8997eb    0.5           0.5      0.5     0.5     0.5   \n",
       "...                  ...    ...           ...      ...     ...     ...   \n",
       "153159  fffcd0960ee309b5    0.5           0.5      0.5     0.5     0.5   \n",
       "153160  fffd7a9a6eb32c16    0.5           0.5      0.5     0.5     0.5   \n",
       "153161  fffda9e8d6fafa9e    0.5           0.5      0.5     0.5     0.5   \n",
       "153162  fffe8f1340a79fc2    0.5           0.5      0.5     0.5     0.5   \n",
       "153163  ffffce3fb183ee80    0.5           0.5      0.5     0.5     0.5   \n",
       "\n",
       "        identity_hate  \n",
       "0                 0.5  \n",
       "1                 0.5  \n",
       "2                 0.5  \n",
       "3                 0.5  \n",
       "4                 0.5  \n",
       "...               ...  \n",
       "153159            0.5  \n",
       "153160            0.5  \n",
       "153161            0.5  \n",
       "153162            0.5  \n",
       "153163            0.5  \n",
       "\n",
       "[153164 rows x 7 columns]"
      ]
     },
     "execution_count": 49,
     "metadata": {},
     "output_type": "execute_result"
    }
   ],
   "source": [
    "sample_submission = pd.read_csv('data' + '/sample_submission.csv')\n",
    "sample_submission"
   ]
  },
  {
   "cell_type": "code",
   "execution_count": 50,
   "id": "5cb426c3-53a1-4dd6-8cb4-480f34fa6ace",
   "metadata": {},
   "outputs": [],
   "source": [
    "sample_submission ['id'] = test ['id'] \n",
    "counter = 0\n",
    "\n",
    "for class_ in classes:\n",
    "    predictions = arr_model [counter].predict(tf_idf_test)\n",
    "    sample_submission [class_] = predictions\n",
    "    counter = counter + 1\n",
    "    \n",
    "sample_submission.to_csv('submission_tfidf_nb.csv', index = False) "
   ]
  },
  {
   "cell_type": "markdown",
   "id": "b51db23c",
   "metadata": {},
   "source": [
    "### Multinomial Naive Bayes using Count Vectorizer"
   ]
  },
  {
   "cell_type": "markdown",
   "id": "14894f82-7e71-4fae-a82b-7fac24cb2211",
   "metadata": {},
   "source": [
    "#### Model Training"
   ]
  },
  {
   "cell_type": "code",
   "execution_count": 51,
   "id": "90e933d3-10c4-42a7-ba01-7c5f96a29e97",
   "metadata": {},
   "outputs": [],
   "source": [
    "X_train = train ['comment_text']\n",
    "X_test = test ['comment_text']"
   ]
  },
  {
   "cell_type": "code",
   "execution_count": 52,
   "id": "fe29ef38-c407-48d9-b954-228b58e25d59",
   "metadata": {},
   "outputs": [],
   "source": [
    "count_train = count_vectorizer.fit_transform(X_train)"
   ]
  },
  {
   "cell_type": "code",
   "execution_count": 53,
   "id": "cf52fa64-3a50-4dea-aa0b-b9dd6b3e5f2d",
   "metadata": {},
   "outputs": [],
   "source": [
    "count_test = count_vectorizer.transform(X_test)"
   ]
  },
  {
   "cell_type": "code",
   "execution_count": 54,
   "id": "beee3dd1",
   "metadata": {},
   "outputs": [],
   "source": [
    "classes = train.columns [2:]\n",
    "arr_model = []\n",
    "counter = 0\n",
    "for class_ in classes:\n",
    "    y_train = train[class_]\n",
    "    model = MultinomialNB ()\n",
    "    model.fit(count_train, y_train)\n",
    "    \n",
    "    predictions = model.predict(count_train)\n",
    "    arr_model.append(model)\n",
    "    counter = counter + 1"
   ]
  },
  {
   "cell_type": "code",
   "execution_count": 55,
   "id": "9daf6eb7",
   "metadata": {
    "scrolled": true
   },
   "outputs": [
    {
     "name": "stdout",
     "output_type": "stream",
     "text": [
      "Class:  toxic\n",
      "94.87250189570786\n",
      "Class:  severe_toxic\n",
      "98.35057748588403\n",
      "Class:  obscene\n",
      "97.05146925193175\n",
      "Class:  threat\n",
      "98.91396306346391\n",
      "Class:  insult\n",
      "96.49059039549793\n",
      "Class:  identity_hate\n",
      "98.14627971247909\n"
     ]
    }
   ],
   "source": [
    "counter = 0\n",
    "for class_ in classes:\n",
    "    print(\"Class: \", class_)\n",
    "    y_train = train[class_]\n",
    "    predictions = arr_model [counter].predict(count_train)\n",
    "    print(compute_accuracy(predictions, y_train))\n",
    "    counter = counter + 1"
   ]
  },
  {
   "cell_type": "code",
   "execution_count": 56,
   "id": "f1c1e622",
   "metadata": {},
   "outputs": [
    {
     "data": {
      "text/html": [
       "<div>\n",
       "<style scoped>\n",
       "    .dataframe tbody tr th:only-of-type {\n",
       "        vertical-align: middle;\n",
       "    }\n",
       "\n",
       "    .dataframe tbody tr th {\n",
       "        vertical-align: top;\n",
       "    }\n",
       "\n",
       "    .dataframe thead th {\n",
       "        text-align: right;\n",
       "    }\n",
       "</style>\n",
       "<table border=\"1\" class=\"dataframe\">\n",
       "  <thead>\n",
       "    <tr style=\"text-align: right;\">\n",
       "      <th></th>\n",
       "      <th>id</th>\n",
       "      <th>toxic</th>\n",
       "      <th>severe_toxic</th>\n",
       "      <th>obscene</th>\n",
       "      <th>threat</th>\n",
       "      <th>insult</th>\n",
       "      <th>identity_hate</th>\n",
       "    </tr>\n",
       "  </thead>\n",
       "  <tbody>\n",
       "    <tr>\n",
       "      <th>0</th>\n",
       "      <td>00001cee341fdb12</td>\n",
       "      <td>0.5</td>\n",
       "      <td>0.5</td>\n",
       "      <td>0.5</td>\n",
       "      <td>0.5</td>\n",
       "      <td>0.5</td>\n",
       "      <td>0.5</td>\n",
       "    </tr>\n",
       "    <tr>\n",
       "      <th>1</th>\n",
       "      <td>0000247867823ef7</td>\n",
       "      <td>0.5</td>\n",
       "      <td>0.5</td>\n",
       "      <td>0.5</td>\n",
       "      <td>0.5</td>\n",
       "      <td>0.5</td>\n",
       "      <td>0.5</td>\n",
       "    </tr>\n",
       "    <tr>\n",
       "      <th>2</th>\n",
       "      <td>00013b17ad220c46</td>\n",
       "      <td>0.5</td>\n",
       "      <td>0.5</td>\n",
       "      <td>0.5</td>\n",
       "      <td>0.5</td>\n",
       "      <td>0.5</td>\n",
       "      <td>0.5</td>\n",
       "    </tr>\n",
       "    <tr>\n",
       "      <th>3</th>\n",
       "      <td>00017563c3f7919a</td>\n",
       "      <td>0.5</td>\n",
       "      <td>0.5</td>\n",
       "      <td>0.5</td>\n",
       "      <td>0.5</td>\n",
       "      <td>0.5</td>\n",
       "      <td>0.5</td>\n",
       "    </tr>\n",
       "    <tr>\n",
       "      <th>4</th>\n",
       "      <td>00017695ad8997eb</td>\n",
       "      <td>0.5</td>\n",
       "      <td>0.5</td>\n",
       "      <td>0.5</td>\n",
       "      <td>0.5</td>\n",
       "      <td>0.5</td>\n",
       "      <td>0.5</td>\n",
       "    </tr>\n",
       "    <tr>\n",
       "      <th>...</th>\n",
       "      <td>...</td>\n",
       "      <td>...</td>\n",
       "      <td>...</td>\n",
       "      <td>...</td>\n",
       "      <td>...</td>\n",
       "      <td>...</td>\n",
       "      <td>...</td>\n",
       "    </tr>\n",
       "    <tr>\n",
       "      <th>153159</th>\n",
       "      <td>fffcd0960ee309b5</td>\n",
       "      <td>0.5</td>\n",
       "      <td>0.5</td>\n",
       "      <td>0.5</td>\n",
       "      <td>0.5</td>\n",
       "      <td>0.5</td>\n",
       "      <td>0.5</td>\n",
       "    </tr>\n",
       "    <tr>\n",
       "      <th>153160</th>\n",
       "      <td>fffd7a9a6eb32c16</td>\n",
       "      <td>0.5</td>\n",
       "      <td>0.5</td>\n",
       "      <td>0.5</td>\n",
       "      <td>0.5</td>\n",
       "      <td>0.5</td>\n",
       "      <td>0.5</td>\n",
       "    </tr>\n",
       "    <tr>\n",
       "      <th>153161</th>\n",
       "      <td>fffda9e8d6fafa9e</td>\n",
       "      <td>0.5</td>\n",
       "      <td>0.5</td>\n",
       "      <td>0.5</td>\n",
       "      <td>0.5</td>\n",
       "      <td>0.5</td>\n",
       "      <td>0.5</td>\n",
       "    </tr>\n",
       "    <tr>\n",
       "      <th>153162</th>\n",
       "      <td>fffe8f1340a79fc2</td>\n",
       "      <td>0.5</td>\n",
       "      <td>0.5</td>\n",
       "      <td>0.5</td>\n",
       "      <td>0.5</td>\n",
       "      <td>0.5</td>\n",
       "      <td>0.5</td>\n",
       "    </tr>\n",
       "    <tr>\n",
       "      <th>153163</th>\n",
       "      <td>ffffce3fb183ee80</td>\n",
       "      <td>0.5</td>\n",
       "      <td>0.5</td>\n",
       "      <td>0.5</td>\n",
       "      <td>0.5</td>\n",
       "      <td>0.5</td>\n",
       "      <td>0.5</td>\n",
       "    </tr>\n",
       "  </tbody>\n",
       "</table>\n",
       "<p>153164 rows × 7 columns</p>\n",
       "</div>"
      ],
      "text/plain": [
       "                      id  toxic  severe_toxic  obscene  threat  insult  \\\n",
       "0       00001cee341fdb12    0.5           0.5      0.5     0.5     0.5   \n",
       "1       0000247867823ef7    0.5           0.5      0.5     0.5     0.5   \n",
       "2       00013b17ad220c46    0.5           0.5      0.5     0.5     0.5   \n",
       "3       00017563c3f7919a    0.5           0.5      0.5     0.5     0.5   \n",
       "4       00017695ad8997eb    0.5           0.5      0.5     0.5     0.5   \n",
       "...                  ...    ...           ...      ...     ...     ...   \n",
       "153159  fffcd0960ee309b5    0.5           0.5      0.5     0.5     0.5   \n",
       "153160  fffd7a9a6eb32c16    0.5           0.5      0.5     0.5     0.5   \n",
       "153161  fffda9e8d6fafa9e    0.5           0.5      0.5     0.5     0.5   \n",
       "153162  fffe8f1340a79fc2    0.5           0.5      0.5     0.5     0.5   \n",
       "153163  ffffce3fb183ee80    0.5           0.5      0.5     0.5     0.5   \n",
       "\n",
       "        identity_hate  \n",
       "0                 0.5  \n",
       "1                 0.5  \n",
       "2                 0.5  \n",
       "3                 0.5  \n",
       "4                 0.5  \n",
       "...               ...  \n",
       "153159            0.5  \n",
       "153160            0.5  \n",
       "153161            0.5  \n",
       "153162            0.5  \n",
       "153163            0.5  \n",
       "\n",
       "[153164 rows x 7 columns]"
      ]
     },
     "execution_count": 56,
     "metadata": {},
     "output_type": "execute_result"
    }
   ],
   "source": [
    "sample_submission = pd.read_csv('data' + '/sample_submission.csv')\n",
    "sample_submission"
   ]
  },
  {
   "cell_type": "code",
   "execution_count": 57,
   "id": "08a94261",
   "metadata": {
    "scrolled": true
   },
   "outputs": [],
   "source": [
    "sample_submission ['id'] = test ['id'] \n",
    "counter = 0\n",
    "for class_ in classes:\n",
    "    predictions = arr_model [counter].predict(count_test)\n",
    "    sample_submission [class_] = predictions\n",
    "    counter = counter + 1\n",
    "sample_submission.to_csv('submission_count_nb.csv', index = False) "
   ]
  },
  {
   "cell_type": "markdown",
   "id": "b6659d10",
   "metadata": {},
   "source": [
    "##### Feature Selection and Hyperparameter Tuning"
   ]
  },
  {
   "cell_type": "code",
   "execution_count": 58,
   "id": "e1586474-fbe6-41a8-b955-e85c8e61298d",
   "metadata": {
    "tags": []
   },
   "outputs": [],
   "source": [
    "class hyper_parameter:\n",
    "    def __init__(self, class_, alpha, fit_prior):\n",
    "        self.class_ = class_\n",
    "        self.alpha = alpha\n",
    "        self.fit_prior = fit_prior"
   ]
  },
  {
   "cell_type": "code",
   "execution_count": 59,
   "id": "37ee4405-cc02-47db-8be0-68bfccf41fc8",
   "metadata": {},
   "outputs": [],
   "source": [
    "X = train ['comment_text']"
   ]
  },
  {
   "cell_type": "code",
   "execution_count": 60,
   "id": "faf4c1d5-4cfa-4e47-9841-48ee028f8fe9",
   "metadata": {},
   "outputs": [],
   "source": [
    "hyperparameters = [{\n",
    "    'alpha' : [1, 3, 5, 10, 15, 20, 50], \n",
    "    'fit_prior' : [False, True]\n",
    "}]"
   ]
  },
  {
   "cell_type": "code",
   "execution_count": 61,
   "id": "37ea6708",
   "metadata": {},
   "outputs": [
    {
     "name": "stdout",
     "output_type": "stream",
     "text": [
      "Class:  toxic\n",
      "Best accuracy:  94.85624044318553 %\n",
      "Best grid:  {'alpha': 10, 'fit_prior': True}\n",
      "Class:  severe_toxic\n",
      "Best accuracy:  98.54360414107738 %\n",
      "Best grid:  {'alpha': 50, 'fit_prior': True}\n",
      "Class:  obscene\n",
      "Best accuracy:  97.13734239089564 %\n",
      "Best grid:  {'alpha': 5, 'fit_prior': True}\n",
      "Class:  threat\n",
      "Best accuracy:  99.37081693530193 %\n",
      "Best grid:  {'alpha': 50, 'fit_prior': True}\n",
      "Class:  insult\n",
      "Best accuracy:  96.42794475221217 %\n",
      "Best grid:  {'alpha': 3, 'fit_prior': True}\n",
      "Class:  identity_hate\n",
      "Best accuracy:  98.61379189331461 %\n",
      "Best grid:  {'alpha': 50, 'fit_prior': True}\n"
     ]
    }
   ],
   "source": [
    "final_hyperparameters = []\n",
    "classes = train.columns [2:]\n",
    "arr_model = []\n",
    "counter = 0\n",
    "\n",
    "for class_ in classes:\n",
    "    print(\"Class: \", class_)\n",
    "    y_train = train[class_]\n",
    "    best_score = 0\n",
    "    \n",
    "    model = MultinomialNB ()\n",
    "    \n",
    "    X_train, X_val, y_train, y_val = train_test_split (X, y_train, random_state = 42, test_size = 0.25, stratify = y_train)\n",
    "    \n",
    "    X_train_sparse_matrix = count_vectorizer.fit_transform(X_train)\n",
    "    X_validation_sparse_matrix = count_vectorizer.transform(X_val)\n",
    "    \n",
    "    for g in ParameterGrid(hyperparameters):\n",
    "\n",
    "        model.set_params(**g)\n",
    "\n",
    "        model.fit(X_train_sparse_matrix, y_train)\n",
    "        predictions = model.predict (X_train_sparse_matrix)\n",
    "        train_acc = compute_accuracy (predictions, y_train)\n",
    "\n",
    "        predictions = model.predict (X_validation_sparse_matrix)\n",
    "        val_acc = compute_accuracy (predictions, y_val)\n",
    "\n",
    "        if val_acc > best_score:\n",
    "            best_score = val_acc\n",
    "            best_grid = g\n",
    "    \n",
    "    print(\"Best accuracy: \", best_score, \"%\")\n",
    "    print(\"Best grid: \", best_grid)\n",
    "    temp = hyper_parameter (class_, best_grid['alpha'], best_grid['fit_prior'])\n",
    "    final_hyperparameters.append(temp)"
   ]
  },
  {
   "cell_type": "markdown",
   "id": "fa762c88-331b-4ce7-a69c-d24d6df566d3",
   "metadata": {},
   "source": [
    "#### Hyperparameter Tuned"
   ]
  },
  {
   "cell_type": "code",
   "execution_count": 62,
   "id": "7f334d6c-a659-4772-9715-f8d7c1d1c7a3",
   "metadata": {},
   "outputs": [],
   "source": [
    "X_train = train ['comment_text']\n",
    "count_train = count_vectorizer.fit_transform(X_train)"
   ]
  },
  {
   "cell_type": "code",
   "execution_count": 63,
   "id": "4f33b01b",
   "metadata": {},
   "outputs": [
    {
     "name": "stdout",
     "output_type": "stream",
     "text": [
      "Class:  toxic\n",
      "94.79855362189872\n",
      "Class:  severe_toxic\n",
      "98.37125793533913\n",
      "Class:  obscene\n",
      "97.04457576878004\n",
      "Class:  threat\n",
      "99.25550381961634\n",
      "Class:  insult\n",
      "96.46928326575632\n",
      "Class:  identity_hate\n",
      "98.49972739407536\n"
     ]
    }
   ],
   "source": [
    "classes = train.columns [2:]\n",
    "arr_model = []\n",
    "counter = 0\n",
    "for class_ in classes:\n",
    "    print(\"Class: \", class_)\n",
    "    y_train = train[class_]\n",
    "    temp = final_hyperparameters [counter]\n",
    "    model = MultinomialNB (alpha = temp.alpha, fit_prior = temp.fit_prior)\n",
    "\n",
    "    model.fit(count_train, y_train)\n",
    "    predictions = model.predict(count_train)\n",
    "    print(compute_accuracy(predictions, y_train))\n",
    "    arr_model.append(model)\n",
    "    counter = counter + 1"
   ]
  },
  {
   "cell_type": "code",
   "execution_count": 64,
   "id": "b2571065-8aa3-4902-b77b-5017dd63a03f",
   "metadata": {},
   "outputs": [
    {
     "name": "stdout",
     "output_type": "stream",
     "text": [
      "Class:  toxic\n",
      "94.79855362189872\n",
      "Class:  severe_toxic\n",
      "98.37125793533913\n",
      "Class:  obscene\n",
      "97.04457576878004\n",
      "Class:  threat\n",
      "99.25550381961634\n",
      "Class:  insult\n",
      "96.46928326575632\n",
      "Class:  identity_hate\n",
      "98.49972739407536\n"
     ]
    }
   ],
   "source": [
    "counter = 0\n",
    "for class_ in classes:\n",
    "    print(\"Class: \", class_)\n",
    "    y_train = train[class_]\n",
    "    predictions = arr_model [counter].predict(count_train)\n",
    "    print(compute_accuracy(predictions, y_train))\n",
    "    counter = counter + 1"
   ]
  },
  {
   "cell_type": "markdown",
   "id": "9a9829d5-e854-4459-94fd-f9eb70f4caa7",
   "metadata": {},
   "source": [
    "### Logistic Regression using TF-IDF Vectorizer"
   ]
  },
  {
   "cell_type": "markdown",
   "id": "1445d7ca-230a-43e2-9fbf-9b671b9bb470",
   "metadata": {},
   "source": [
    "#### Model Training"
   ]
  },
  {
   "cell_type": "code",
   "execution_count": null,
   "id": "82bf638d-c1e4-4d54-a32d-6b857c2333c2",
   "metadata": {},
   "outputs": [],
   "source": [
    "X_train = train ['comment_text']\n",
    "X_test = test ['comment_text']"
   ]
  },
  {
   "cell_type": "code",
   "execution_count": null,
   "id": "aac5ede5-3411-4df3-8bec-d17b4e97da00",
   "metadata": {},
   "outputs": [],
   "source": [
    "tf_idf_train = tf_idf_vectorizer.fit_transform(X_train)"
   ]
  },
  {
   "cell_type": "code",
   "execution_count": null,
   "id": "5856cf50-6d59-4d50-8ecd-d0533a561a0a",
   "metadata": {},
   "outputs": [],
   "source": [
    "tf_idf_test = tf_idf_vectorizer.transform(X_train)"
   ]
  },
  {
   "cell_type": "code",
   "execution_count": null,
   "id": "1be6b538-af2a-4dff-a51b-f0a52eb70df3",
   "metadata": {},
   "outputs": [],
   "source": [
    "classes = train.columns [2:]\n",
    "arr_model = []\n",
    "counter = 0\n",
    "for class_ in classes:\n",
    "    print(\"Class: \", class_)\n",
    "    y_train = train[class_]\n",
    "    model = LogisticRegression ()\n",
    "\n",
    "    model.fit(tf_idf_train, y_train)\n",
    "    predictions = model.predict(tf_idf_train)\n",
    "    print(compute_accuracy(predictions, y_train))\n",
    "    arr_model.append(model)\n",
    "    counter = counter + 1"
   ]
  },
  {
   "cell_type": "code",
   "execution_count": null,
   "id": "81625638-6aad-4e25-8402-e36626f63bae",
   "metadata": {},
   "outputs": [],
   "source": [
    "sample_submission = pd.read_csv('data' + '/sample_submission.csv')\n",
    "sample_submission ['id'] = test ['id'] \n",
    "counter = 0\n",
    "\n",
    "for class_ in classes:\n",
    "    predictions = arr_model [counter].predict(count_test)\n",
    "    sample_submission [class_] = predictions\n",
    "    counter = counter + 1\n",
    "    \n",
    "sample_submission.to_csv('submission_tf_idf_log_reg.csv', index = False) "
   ]
  },
  {
   "cell_type": "markdown",
   "id": "df90216a-07f0-48ff-a012-c9898606edbe",
   "metadata": {},
   "source": [
    "#### Feature Selection and Hyperparameter Tuning"
   ]
  },
  {
   "cell_type": "code",
   "execution_count": null,
   "id": "906da8ad-b295-4644-9c08-e80f9b710113",
   "metadata": {},
   "outputs": [],
   "source": [
    "X = train ['comment_text']\n",
    "\n",
    "final_C = []\n",
    "classes = train.columns [2:]\n",
    "arr_model = []\n",
    "counter = 0\n",
    "\n",
    "C_param_range = [0.001, 0.01, 0.1, 1, 10, 100]\n",
    "\n",
    "for class_ in classes:\n",
    "    print(\"Class: \", class_)\n",
    "    y_train = train[class_]\n",
    "    best_score = 0\n",
    "    \n",
    "    X_train, X_val, y_train, y_val = train_test_split (X, y_train, random_state = 42, test_size = 0.25, stratify = y_train)\n",
    "    \n",
    "    X_train_sparse_matrix = tf_idf_vectorizer.fit_transform(X_train)\n",
    "    X_validation_sparse_matrix = tf_idf_vectorizer.transform(X_val)\n",
    "    \n",
    "    for g in C_param_range:\n",
    "\n",
    "        model = LogisticRegression (C = g)\n",
    "\n",
    "        model.fit(X_train_sparse_matrix, y_train)\n",
    "        predictions = model.predict (X_train_sparse_matrix)\n",
    "        train_acc = compute_accuracy (predictions, y_train)\n",
    "\n",
    "        predictions = model.predict (X_validation_sparse_matrix)\n",
    "        val_acc = compute_accuracy (predictions, y_val)\n",
    "\n",
    "        if val_acc > best_score:\n",
    "            best_score = val_acc\n",
    "            best_grid = g\n",
    "    \n",
    "    print(\"Best accuracy: \", best_score, \"%\")\n",
    "    print(\"Best grid: \", best_grid)\n",
    "    final_C.append(best_grid)"
   ]
  },
  {
   "cell_type": "markdown",
   "id": "6b6af356-2b66-48ea-a79f-7be7f63d7d2a",
   "metadata": {},
   "source": [
    "#### Hyperparameter Tuned"
   ]
  },
  {
   "cell_type": "code",
   "execution_count": null,
   "id": "6adb8bfb-be76-4d7a-8a08-22409586859a",
   "metadata": {},
   "outputs": [],
   "source": [
    "X_train = train ['comment_text']\n",
    "X_test = test ['comment_text']\n",
    "tf_idf_train = tf_idf_vectorizer.fit_transform(X_train)\n",
    "tf_idf_test = tf_idf_vectorizer.transform(X_train)\n",
    "\n",
    "classes = train.columns [2:]\n",
    "arr_model = []\n",
    "counter = 0\n",
    "for class_ in classes:\n",
    "    print(\"Class: \", class_)\n",
    "    y_train = train[class_]\n",
    "    model = LogisticRegression (C = final_C [counter])\n",
    "\n",
    "    model.fit(tf_idf_train, y_train)\n",
    "    predictions = model.predict(tf_idf_train)\n",
    "    print(compute_accuracy(predictions, y_train))\n",
    "    arr_model.append(model)\n",
    "    counter = counter + 1"
   ]
  },
  {
   "cell_type": "code",
   "execution_count": null,
   "id": "837fdfcd-fcad-47a4-9977-29d33b6905f9",
   "metadata": {},
   "outputs": [],
   "source": [
    "sample_submission = pd.read_csv('data' + '/sample_submission.csv')\n",
    "sample_submission ['id'] = test ['id'] \n",
    "counter = 0\n",
    "\n",
    "for class_ in classes:\n",
    "    predictions = arr_model [counter].predict(count_test)\n",
    "    sample_submission [class_] = predictions\n",
    "    counter = counter + 1\n",
    "    \n",
    "sample_submission.to_csv('submission_tf_idf_log_reg_tuned.csv', index = False) "
   ]
  },
  {
   "cell_type": "markdown",
   "id": "9f37c743-797b-44f2-be2e-27fa35c8e524",
   "metadata": {},
   "source": [
    "### Logistic Regression using Count Vectorizer"
   ]
  },
  {
   "cell_type": "markdown",
   "id": "ec365102-54b2-4fa9-a035-248214770b18",
   "metadata": {},
   "source": [
    "#### Model Training"
   ]
  },
  {
   "cell_type": "code",
   "execution_count": null,
   "id": "e1f92b32-6ec1-4994-8488-e0cc63bb4332",
   "metadata": {},
   "outputs": [],
   "source": [
    "X_train = train ['comment_text']\n",
    "X_test = test ['comment_text']"
   ]
  },
  {
   "cell_type": "code",
   "execution_count": null,
   "id": "e534bd85-62b3-4525-98d9-9c0aed682cd3",
   "metadata": {},
   "outputs": [],
   "source": [
    "count_train = count_vectorizer.fit_transform(X_train)"
   ]
  },
  {
   "cell_type": "code",
   "execution_count": null,
   "id": "47c2b6a7-1e3c-442d-bea2-8250b981f23d",
   "metadata": {},
   "outputs": [],
   "source": [
    "count_test = count_vectorizer.transform(X_test)"
   ]
  },
  {
   "cell_type": "code",
   "execution_count": null,
   "id": "401faea2-0dda-439e-9853-80d4ded30dbd",
   "metadata": {},
   "outputs": [],
   "source": [
    "classes = train.columns [2:]\n",
    "arr_model = []\n",
    "counter = 0\n",
    "for class_ in classes:\n",
    "    print(\"Class: \", class_)\n",
    "    y_train = train[class_]\n",
    "    model = LogisticRegression ()\n",
    "\n",
    "    model.fit(count_train, y_train)\n",
    "    predictions = model.predict(count_train)\n",
    "    print(compute_accuracy(predictions, y_train))\n",
    "    arr_model.append(model)\n",
    "    counter = counter + 1"
   ]
  },
  {
   "cell_type": "code",
   "execution_count": null,
   "id": "59d9bb4d-cf89-4f82-8608-c8dcb5153ea9",
   "metadata": {},
   "outputs": [],
   "source": [
    "counter = 0\n",
    "for class_ in classes:\n",
    "    print(\"Class: \", class_)\n",
    "    y_train = train[class_]\n",
    "    predictions = arr_model [counter].predict(count_train)\n",
    "    print(compute_accuracy(predictions, y_train))\n",
    "    counter = counter + 1"
   ]
  },
  {
   "cell_type": "code",
   "execution_count": null,
   "id": "3386ecd6-30d5-4078-8e92-93659f43d3b5",
   "metadata": {},
   "outputs": [],
   "source": [
    "sample_submission = pd.read_csv('data' + '/sample_submission.csv')\n",
    "sample_submission ['id'] = test ['id'] \n",
    "counter = 0\n",
    "\n",
    "for class_ in classes:\n",
    "    predictions = arr_model [counter].predict(count_test)\n",
    "    sample_submission [class_] = predictions\n",
    "    counter = counter + 1\n",
    "    \n",
    "sample_submission.to_csv('submission_count_log_reg.csv', index = False) "
   ]
  },
  {
   "cell_type": "markdown",
   "id": "d5a380cb",
   "metadata": {},
   "source": [
    "## Model Selection"
   ]
  },
  {
   "cell_type": "code",
   "execution_count": null,
   "id": "45482b1b",
   "metadata": {
    "tags": []
   },
   "outputs": [],
   "source": []
  },
  {
   "cell_type": "markdown",
   "id": "7fc5da26",
   "metadata": {},
   "source": [
    "## Insights and Conclusions"
   ]
  },
  {
   "cell_type": "code",
   "execution_count": null,
   "id": "0199ad1e",
   "metadata": {
    "tags": []
   },
   "outputs": [],
   "source": []
  },
  {
   "cell_type": "markdown",
   "id": "92eec215",
   "metadata": {},
   "source": [
    "## Testing the Model"
   ]
  },
  {
   "cell_type": "code",
   "execution_count": null,
   "id": "75dd5e98",
   "metadata": {
    "tags": []
   },
   "outputs": [],
   "source": []
  },
  {
   "cell_type": "markdown",
   "id": "7d90eea3",
   "metadata": {},
   "source": [
    "## References\n",
    "Dickinson, B. (2021, February 12). *Generate meaningful word clouds in Python*. Medium. Retrieved May 30, 2022, from https://towardsdatascience.com/generate-meaningful-word-clouds-in-python-5b85f5668eeb \n",
    "\n",
    "Lukei. (2019, December 4). *Dealing with contractions in NLP*. Medium. Retrieved May 30, 2022, from https://medium.com/@lukei_3514/dealing-with-contractions-in-nlp-d6174300876b \n",
    "\n",
    "Raghunathan, D. (2020, June 9). *NLP in Python-Data Cleaning*. Medium. Retrieved May 30, 2022, from https://towardsdatascience.com/nlp-in-python-data-cleaning-6313a404a470 "
   ]
  }
 ],
 "metadata": {
  "kernelspec": {
   "display_name": "Python 3",
   "language": "python",
   "name": "python3"
  },
  "language_info": {
   "codemirror_mode": {
    "name": "ipython",
    "version": 3
   },
   "file_extension": ".py",
   "mimetype": "text/x-python",
   "name": "python",
   "nbconvert_exporter": "python",
   "pygments_lexer": "ipython3",
   "version": "3.8.8"
  }
 },
 "nbformat": 4,
 "nbformat_minor": 5
}
