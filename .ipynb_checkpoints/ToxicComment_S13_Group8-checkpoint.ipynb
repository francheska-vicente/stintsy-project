{
 "cells": [
  {
   "cell_type": "markdown",
   "id": "392124ee",
   "metadata": {},
   "source": [
    "# You're Toxic, I'm Slippin' Under: Toxic Comment Classification Challenge\n",
    "\n",
    "#### STINTSY S13 Group 8\n",
    "- VICENTE, Francheska Josefa\n",
    "- VISTA, Sophia Danielle S."
   ]
  },
  {
   "cell_type": "markdown",
   "id": "7c2e1db3",
   "metadata": {},
   "source": [
    "## Introduction\n",
    "In digital communities and forums on the internet, users often choose to remain anonymous as real names are not required when conversing with strangers online. With this anonymity comes the freedom to express one's thoughts without fear of being judged or recognized, yet this might also mean that users are free to say abusive sentiments with little to no repercussions. While most online forums and social media sites have various ways to moderate (e.g. moderators and staff that manually review posts and comments, a report button under messages, voting for comments and posts), these methods are not enough to combat the significant number of toxic comments made.\n",
    "\n",
    "With this, ways to automate checking for toxicity in online text should be improved to foster a safe and respectful online environment."
   ]
  },
  {
   "cell_type": "markdown",
   "id": "357a3425",
   "metadata": {},
   "source": [
    "## Toxic Comment Classification Challenge\n",
    "\n",
    "The [`Toxic Comment Classification Challenge`](https://www.kaggle.com/competitions/jigsaw-toxic-comment-classification-challenge/overview) is a Kaggle challenge by the [`Conversation AI team`](https://conversationai.github.io/), which is composed of researchers from both [`Jigsaw`](https://jigsaw.google.com/) and `Google`. This challlenge invites participants to build a multi-headed model that can accurately detect the types of toxicity (i.e.,toxic, severe toxic, obscene, threat, insult, and identity hate) better than Perspective’s [current models](https://github.com/conversationai/unintended-ml-bias-analysis).\n",
    "\n",
    "The dataset given contains a large number of Wikipedia comments which have been labeled by human raters for toxic behavior."
   ]
  },
  {
   "cell_type": "markdown",
   "id": "b3688955",
   "metadata": {},
   "source": [
    "## Requirements and Imports\n",
    "Before starting, the relevant libraries and files in building and training the model should be loaded into the notebook first.\n",
    "\n",
    "### Import\n",
    "Several libraries are required to perform a thorough analysis of the dataset. Each of these libraries will be imported and described below:\n",
    "\n",
    "#### Basic Libraries \n",
    "Import `numpy` and `pandas`.\n",
    "- `numpy` contains a large collection of mathematical functions\n",
    "- `pandas` contains functions that are designed for data manipulation and data analysis"
   ]
  },
  {
   "cell_type": "code",
   "execution_count": 1,
   "id": "286b906d",
   "metadata": {
    "tags": []
   },
   "outputs": [],
   "source": [
    "import numpy as np\n",
    "import pandas as pd"
   ]
  },
  {
   "cell_type": "markdown",
   "id": "72d52cee",
   "metadata": {},
   "source": [
    "#### Visualization Libraries \n",
    "- `matplotlib.pyplot` contains functions to create interactive plots\n",
    "- `seaborn` is a library based on matplotlib that allows for data visualization\n",
    "- `wordcloud` contains functions for generating wordclouds from text data\n",
    "\n",
    "**NOTE:** `wordcloud` should be installed using `conda install -c conda-forge wordcloud`"
   ]
  },
  {
   "cell_type": "code",
   "execution_count": 2,
   "id": "b3c050bd",
   "metadata": {},
   "outputs": [],
   "source": [
    "import matplotlib.pyplot as plt\n",
    "import seaborn as sns\n",
    "from wordcloud import WordCloud\n",
    "from wordcloud import ImageColorGenerator"
   ]
  },
  {
   "cell_type": "markdown",
   "id": "8c050ac6",
   "metadata": {},
   "source": [
    "#### Natural Language Processing Libraries \n",
    "- `re` is a module that allows the use of regular expressions\n",
    "- `nltk` provides functions for processing text data\n",
    "- `stopwords` is a corpus from NLTK, which includes a compiled list of stopwords\n",
    "- `Counter` is from Python's `collections` module, which is helpful for tokenization\n",
    "- `string` contains functions for string operations\n",
    "- `TFidfVectorizer` converts the given text documents into a matrix, which has TF-IDF features \n",
    "- `CountVectorizer` converts the given text documents into a matrix, which has the counts of the tokens"
   ]
  },
  {
   "cell_type": "code",
   "execution_count": 3,
   "id": "7cee8a33",
   "metadata": {},
   "outputs": [],
   "source": [
    "import re\n",
    "import nltk\n",
    "from nltk.corpus import stopwords\n",
    "from collections import Counter\n",
    "import string\n",
    "\n",
    "from sklearn.feature_extraction.text import TfidfVectorizer\n",
    "from sklearn.feature_extraction.text import CountVectorizer"
   ]
  },
  {
   "cell_type": "markdown",
   "id": "3ddf662a",
   "metadata": {},
   "source": [
    "#### Machine Learning Libraries\n",
    "The following code block can be used to install **scikit-multilearn** without restarting Jupyter Notebook. The `sys` module is used to access the *executable* function of the interpreter, which would run the installation of scikit-multilearn."
   ]
  },
  {
   "cell_type": "code",
   "execution_count": 4,
   "id": "5ab258c3",
   "metadata": {},
   "outputs": [
    {
     "name": "stdout",
     "output_type": "stream",
     "text": [
      "Requirement already satisfied: scikit-multilearn in c:\\users\\user\\anaconda3\\lib\\site-packages (0.2.0)\n"
     ]
    }
   ],
   "source": [
    "import sys\n",
    "!{sys.executable} -m pip install scikit-multilearn"
   ]
  },
  {
   "cell_type": "markdown",
   "id": "42208e57",
   "metadata": {},
   "source": [
    "The following libraries are multi-label classification modules that would allow the usage of one model that can classify one instance as more than one class.\n",
    "- `ClassifierChain` chains binary classifiers in a way that its predictions are dependent on the earlier classes\n",
    "- `BinaryRelevance` uses binary classifiers to classify the classes independently\n",
    "- `MultiOutputClassifier` fits one classifier per target class \n",
    "- `OneVsRestClassifier` fits one class against the other classes"
   ]
  },
  {
   "cell_type": "code",
   "execution_count": 5,
   "id": "c353416c",
   "metadata": {},
   "outputs": [],
   "source": [
    "from skmultilearn.problem_transform import ClassifierChain\n",
    "from skmultilearn.problem_transform import BinaryRelevance\n",
    "from sklearn.multioutput import MultiOutputClassifier\n",
    "from sklearn.multiclass import OneVsRestClassifier"
   ]
  },
  {
   "cell_type": "markdown",
   "id": "973404ba",
   "metadata": {},
   "source": [
    "The following classes are classifiers that implement different methods of classification.\n",
    "- `RandomForestClassifier` is a class under the ensemble module that trains by fitting using a number of decision trees\n",
    "- `GradientBoostingClassifier` is a class under the ensemble module that optimizes arbitrary differentiable loss functions\n",
    "- `AdaBoostClassifier` is a class under the ensemble module that implements AdaBoost-SAMME\n",
    "- `MultinomialNB` is a class under the Naive Bayes module that allows the classification of discrete features\n",
    "- `LogisticRegression` is a class under the linear models module that implements regularized logistic regression"
   ]
  },
  {
   "cell_type": "code",
   "execution_count": 6,
   "id": "8568a157",
   "metadata": {},
   "outputs": [],
   "source": [
    "from sklearn.ensemble import RandomForestClassifier\n",
    "from sklearn.ensemble import GradientBoostingClassifier\n",
    "from sklearn.ensemble import AdaBoostClassifier\n",
    "from sklearn.naive_bayes import MultinomialNB\n",
    "from sklearn.linear_model import LogisticRegression"
   ]
  },
  {
   "cell_type": "markdown",
   "id": "e174c469",
   "metadata": {},
   "source": [
    "Meanwhile, the following classes are used for hyperparameter tuning.\n",
    "- `ParameterGrid` is a class that allows the iteration over different combinations of parameter values \n",
    "- `GridSearchCV` is a cross-validation class that allows the exhaustive search over all possible combinations of hyperparameter values\n",
    "- `RandomizedSearchCV` is a cross-validation class that allows a random search over some possible combinations of hyperparameter values\n",
    "- `train_test_split` divides the dataset into two subsets"
   ]
  },
  {
   "cell_type": "code",
   "execution_count": 7,
   "id": "5973812e",
   "metadata": {},
   "outputs": [],
   "source": [
    "from sklearn.model_selection import ParameterGrid\n",
    "from sklearn.model_selection import GridSearchCV\n",
    "from sklearn.model_selection import RandomizedSearchCV\n",
    "from sklearn.model_selection import train_test_split"
   ]
  },
  {
   "cell_type": "markdown",
   "id": "5d822570",
   "metadata": {},
   "source": [
    "And lastly, these classes computes different scores about how well a model works.\n",
    "- `log_loss` computes the Logistic loss given the true values and the predicted values\n",
    "- `f1_score` computes the balanced F-score by comparing the actual classes and the predicted classes\n",
    "- `accuracy_score` computes the accuracy by determining how many classes were correctly predicted"
   ]
  },
  {
   "cell_type": "code",
   "execution_count": 8,
   "id": "7f01d564",
   "metadata": {},
   "outputs": [],
   "source": [
    "from sklearn.metrics import log_loss\n",
    "from sklearn.metrics import f1_score\n",
    "from sklearn.metrics import accuracy_score"
   ]
  },
  {
   "cell_type": "code",
   "execution_count": 9,
   "id": "b553493c",
   "metadata": {},
   "outputs": [],
   "source": [
    "import warnings\n",
    "from sklearn.exceptions import ConvergenceWarning\n",
    "warnings.filterwarnings(action='ignore', category = ConvergenceWarning)"
   ]
  },
  {
   "cell_type": "markdown",
   "id": "b04554b2-f9c5-4075-8e90-35858db2f5aa",
   "metadata": {},
   "source": [
    "### Datasets and Files\n",
    "There are four `.csv` files provided in the competition.\n",
    "- `train.csv` is the training set, which contains comments and their classification (with the use of binary labels)\n",
    "- `test.csv` is the test set, which contains comments and their corresponding IDs\n",
    "- `sample_submission.csv` contains the correct submission format for the competition\n",
    "- `test_labels.csv` was a file added after the competition closed\n",
    "\n",
    "However, to do the task, we would only need to load two of these files: (1) `train.csv`, and (2) `test.csv`. These two `.csv` files will be loaded into the notebook using the [`read_csv`](https://pandas.pydata.org/pandas-docs/stable/reference/api/pandas.read_csv.html) function."
   ]
  },
  {
   "cell_type": "code",
   "execution_count": 10,
   "id": "1f58f5b0-f288-40c3-b135-c585939721df",
   "metadata": {},
   "outputs": [],
   "source": [
    "train = pd.read_csv('data/train.csv')\n",
    "test  = pd.read_csv('data/test.csv')"
   ]
  },
  {
   "cell_type": "markdown",
   "id": "bbc3d52f",
   "metadata": {},
   "source": [
    "## Description of the Dataset\n",
    "\n",
    "To see the the number of rows and columns for the `train` and `test` data, the [`shape`](https://pandas.pydata.org/docs/reference/api/pandas.DataFrame.shape.html) property of the DataFrame is called."
   ]
  },
  {
   "cell_type": "code",
   "execution_count": 11,
   "id": "81bd93ee",
   "metadata": {},
   "outputs": [
    {
     "data": {
      "text/plain": [
       "(159571, 8)"
      ]
     },
     "execution_count": 11,
     "metadata": {},
     "output_type": "execute_result"
    }
   ],
   "source": [
    "train.shape"
   ]
  },
  {
   "cell_type": "markdown",
   "id": "1b578a0c",
   "metadata": {},
   "source": [
    "The `train` data has 159571 rows (instances) and eight (8) columns (features). An instance in our dataset represents a text and its categories. \n",
    "\n",
    "Next, the [`head`](https://pandas.pydata.org/docs/reference/api/pandas.DataFrame.head.html) function is called to check the first few rows of the dataset. This will let us quickly check the features of the dataset."
   ]
  },
  {
   "cell_type": "code",
   "execution_count": 12,
   "id": "5aa66668-ac4a-4abf-946e-22ee24aa6726",
   "metadata": {},
   "outputs": [
    {
     "data": {
      "text/html": [
       "<div>\n",
       "<style scoped>\n",
       "    .dataframe tbody tr th:only-of-type {\n",
       "        vertical-align: middle;\n",
       "    }\n",
       "\n",
       "    .dataframe tbody tr th {\n",
       "        vertical-align: top;\n",
       "    }\n",
       "\n",
       "    .dataframe thead th {\n",
       "        text-align: right;\n",
       "    }\n",
       "</style>\n",
       "<table border=\"1\" class=\"dataframe\">\n",
       "  <thead>\n",
       "    <tr style=\"text-align: right;\">\n",
       "      <th></th>\n",
       "      <th>id</th>\n",
       "      <th>comment_text</th>\n",
       "      <th>toxic</th>\n",
       "      <th>severe_toxic</th>\n",
       "      <th>obscene</th>\n",
       "      <th>threat</th>\n",
       "      <th>insult</th>\n",
       "      <th>identity_hate</th>\n",
       "    </tr>\n",
       "  </thead>\n",
       "  <tbody>\n",
       "    <tr>\n",
       "      <th>0</th>\n",
       "      <td>0000997932d777bf</td>\n",
       "      <td>Explanation\\r\\nWhy the edits made under my use...</td>\n",
       "      <td>0</td>\n",
       "      <td>0</td>\n",
       "      <td>0</td>\n",
       "      <td>0</td>\n",
       "      <td>0</td>\n",
       "      <td>0</td>\n",
       "    </tr>\n",
       "    <tr>\n",
       "      <th>1</th>\n",
       "      <td>000103f0d9cfb60f</td>\n",
       "      <td>D'aww! He matches this background colour I'm s...</td>\n",
       "      <td>0</td>\n",
       "      <td>0</td>\n",
       "      <td>0</td>\n",
       "      <td>0</td>\n",
       "      <td>0</td>\n",
       "      <td>0</td>\n",
       "    </tr>\n",
       "    <tr>\n",
       "      <th>2</th>\n",
       "      <td>000113f07ec002fd</td>\n",
       "      <td>Hey man, I'm really not trying to edit war. It...</td>\n",
       "      <td>0</td>\n",
       "      <td>0</td>\n",
       "      <td>0</td>\n",
       "      <td>0</td>\n",
       "      <td>0</td>\n",
       "      <td>0</td>\n",
       "    </tr>\n",
       "    <tr>\n",
       "      <th>3</th>\n",
       "      <td>0001b41b1c6bb37e</td>\n",
       "      <td>\"\\r\\nMore\\r\\nI can't make any real suggestions...</td>\n",
       "      <td>0</td>\n",
       "      <td>0</td>\n",
       "      <td>0</td>\n",
       "      <td>0</td>\n",
       "      <td>0</td>\n",
       "      <td>0</td>\n",
       "    </tr>\n",
       "    <tr>\n",
       "      <th>4</th>\n",
       "      <td>0001d958c54c6e35</td>\n",
       "      <td>You, sir, are my hero. Any chance you remember...</td>\n",
       "      <td>0</td>\n",
       "      <td>0</td>\n",
       "      <td>0</td>\n",
       "      <td>0</td>\n",
       "      <td>0</td>\n",
       "      <td>0</td>\n",
       "    </tr>\n",
       "  </tbody>\n",
       "</table>\n",
       "</div>"
      ],
      "text/plain": [
       "                 id                                       comment_text  toxic  \\\n",
       "0  0000997932d777bf  Explanation\\r\\nWhy the edits made under my use...      0   \n",
       "1  000103f0d9cfb60f  D'aww! He matches this background colour I'm s...      0   \n",
       "2  000113f07ec002fd  Hey man, I'm really not trying to edit war. It...      0   \n",
       "3  0001b41b1c6bb37e  \"\\r\\nMore\\r\\nI can't make any real suggestions...      0   \n",
       "4  0001d958c54c6e35  You, sir, are my hero. Any chance you remember...      0   \n",
       "\n",
       "   severe_toxic  obscene  threat  insult  identity_hate  \n",
       "0             0        0       0       0              0  \n",
       "1             0        0       0       0              0  \n",
       "2             0        0       0       0              0  \n",
       "3             0        0       0       0              0  \n",
       "4             0        0       0       0              0  "
      ]
     },
     "execution_count": 12,
     "metadata": {},
     "output_type": "execute_result"
    }
   ],
   "source": [
    "train.head()"
   ]
  },
  {
   "cell_type": "markdown",
   "id": "b96e673f",
   "metadata": {},
   "source": [
    "As seen by the function's output, the eight columns are: `id`, `comment_text`, `toxic`, `severe_toxic`, `obscene`, `threat`, `insult`, and `identity_hate`. \n",
    "\n",
    "The first column `id` is an object that contains a unique identifier for the row. This is followed by the `comment_text` column, which holds the text that we need to categorize into the different toxic categories. The next six (6) columns—`toxic`, `severe_toxic`, `obscene`, `threat`, `insult`, and `identity_hate`—are integer columns, with a value of either 0 or 1, which represents `True` or `False`, respectively. These six columns represent the different categories. If the value for a specific column is 1, it means that the `comment_text` can be classified as this category.\n",
    "\n",
    "It is important to note, however, that each `comment_text` can be classified under more than one toxic category (e.g. a comment can fall under both `toxic` and `severe_toxic` as denoted by the multiple values of 1 per row)."
   ]
  },
  {
   "cell_type": "code",
   "execution_count": 13,
   "id": "7427e85c",
   "metadata": {},
   "outputs": [
    {
     "data": {
      "text/plain": [
       "(153164, 2)"
      ]
     },
     "execution_count": 13,
     "metadata": {},
     "output_type": "execute_result"
    }
   ],
   "source": [
    "test.shape"
   ]
  },
  {
   "cell_type": "markdown",
   "id": "5d722576-8ca6-4d33-aa8c-4558efe35b38",
   "metadata": {},
   "source": [
    "On the other hand, the `test` dataset has 153164 rows and two (2) columns."
   ]
  },
  {
   "cell_type": "code",
   "execution_count": 14,
   "id": "0c88077a-c301-4031-800d-6549c0083f34",
   "metadata": {},
   "outputs": [
    {
     "data": {
      "text/html": [
       "<div>\n",
       "<style scoped>\n",
       "    .dataframe tbody tr th:only-of-type {\n",
       "        vertical-align: middle;\n",
       "    }\n",
       "\n",
       "    .dataframe tbody tr th {\n",
       "        vertical-align: top;\n",
       "    }\n",
       "\n",
       "    .dataframe thead th {\n",
       "        text-align: right;\n",
       "    }\n",
       "</style>\n",
       "<table border=\"1\" class=\"dataframe\">\n",
       "  <thead>\n",
       "    <tr style=\"text-align: right;\">\n",
       "      <th></th>\n",
       "      <th>id</th>\n",
       "      <th>comment_text</th>\n",
       "    </tr>\n",
       "  </thead>\n",
       "  <tbody>\n",
       "    <tr>\n",
       "      <th>0</th>\n",
       "      <td>00001cee341fdb12</td>\n",
       "      <td>Yo bitch Ja Rule is more succesful then you'll...</td>\n",
       "    </tr>\n",
       "    <tr>\n",
       "      <th>1</th>\n",
       "      <td>0000247867823ef7</td>\n",
       "      <td>== From RfC == \\r\\n\\r\\n The title is fine as i...</td>\n",
       "    </tr>\n",
       "    <tr>\n",
       "      <th>2</th>\n",
       "      <td>00013b17ad220c46</td>\n",
       "      <td>\" \\r\\n\\r\\n == Sources == \\r\\n\\r\\n * Zawe Ashto...</td>\n",
       "    </tr>\n",
       "    <tr>\n",
       "      <th>3</th>\n",
       "      <td>00017563c3f7919a</td>\n",
       "      <td>:If you have a look back at the source, the in...</td>\n",
       "    </tr>\n",
       "    <tr>\n",
       "      <th>4</th>\n",
       "      <td>00017695ad8997eb</td>\n",
       "      <td>I don't anonymously edit articles at all.</td>\n",
       "    </tr>\n",
       "  </tbody>\n",
       "</table>\n",
       "</div>"
      ],
      "text/plain": [
       "                 id                                       comment_text\n",
       "0  00001cee341fdb12  Yo bitch Ja Rule is more succesful then you'll...\n",
       "1  0000247867823ef7  == From RfC == \\r\\n\\r\\n The title is fine as i...\n",
       "2  00013b17ad220c46  \" \\r\\n\\r\\n == Sources == \\r\\n\\r\\n * Zawe Ashto...\n",
       "3  00017563c3f7919a  :If you have a look back at the source, the in...\n",
       "4  00017695ad8997eb          I don't anonymously edit articles at all."
      ]
     },
     "execution_count": 14,
     "metadata": {},
     "output_type": "execute_result"
    }
   ],
   "source": [
    "test.head()"
   ]
  },
  {
   "cell_type": "markdown",
   "id": "475a74d4",
   "metadata": {},
   "source": [
    "Each instance represents a comment that we have to compute for its probaility for the different categories mentioned. Like the `train` data, the first column is the `id`, which is a unique identifier. After this is the `comment_text`, which holds the text that our model needs as input. "
   ]
  },
  {
   "cell_type": "markdown",
   "id": "7d0ed4bc",
   "metadata": {},
   "source": [
    "## Exploratory Data Analysis (EDA)\n",
    "In order to determine which model would fit our dataset, we would need to explore the given data. \n",
    "\n",
    "**Four exploratory data analysis questions have been identified and formulated:**\n",
    "1. Which words occur most frequently in the `train` data?\n",
    "2. Based on the `train` data, how correlated are the given categories?\n",
    "3. What is the range of lengths of the `comment_text`?\n",
    "4. In the training data, how many instances does each type of toxic comment have?\n",
    "\n",
    "To answer these questions, we used numerical summaries. Additionally, we used visualization techiniques in order to present and illustrate relationships in the data."
   ]
  },
  {
   "cell_type": "markdown",
   "id": "1f729ef9-9208-4f15-bc07-56d4e9cac427",
   "metadata": {},
   "source": [
    "### Which words occur most frequently in the `train` data?"
   ]
  },
  {
   "cell_type": "markdown",
   "id": "0d5a2230",
   "metadata": {},
   "source": [
    "As a preliminary step in answering this question, all of the comments should be processed using tokenization, which is the process of separating pieces of text into words. \n",
    "\n",
    "For this, NLTK's [`RegexpTokenizer`](https://www.nltk.org/api/nltk.tokenize.regexp.html) is used to tokenize the text using RegEx. More specifically, the RegEx used is `\\w+`, which retrieves all words (i.e. words with alphanumeric & underscore characters) from the text. Moreover, stopwords based on NLTK's Stopword corpus and single letters were filtered out of the tokens for a more accurate count of relevant words. \n",
    "\n",
    "It should be noted that tokenization was done for each toxic classification and for all comments as a whole, to contrast the differences of the frequently seen words in each category."
   ]
  },
  {
   "cell_type": "code",
   "execution_count": 15,
   "id": "a10e51f4",
   "metadata": {
    "tags": []
   },
   "outputs": [
    {
     "name": "stderr",
     "output_type": "stream",
     "text": [
      "[nltk_data] Downloading package stopwords to\n",
      "[nltk_data]     C:\\Users\\User\\AppData\\Roaming\\nltk_data...\n",
      "[nltk_data]   Package stopwords is already up-to-date!\n"
     ]
    }
   ],
   "source": [
    "nltk.download('stopwords')\n",
    "\n",
    "words = []\n",
    "obscene = []\n",
    "insult = [] \n",
    "toxic = []\n",
    "severe_toxic = [] \n",
    "identity_hate = [] \n",
    "threat = []\n",
    "tokenizer = nltk.RegexpTokenizer(r'\\w+')\n",
    "for index, x in train.iterrows():\n",
    "    text = x ['comment_text']\n",
    "    words += tokenizer.tokenize(text.lower())\n",
    "    \n",
    "    if x ['obscene'] == 1:\n",
    "        obscene += tokenizer.tokenize(text.lower())\n",
    "    if x ['insult'] == 1:\n",
    "        insult += tokenizer.tokenize(text.lower())\n",
    "    if x ['toxic'] == 1:\n",
    "        toxic += tokenizer.tokenize(text.lower())\n",
    "    if x ['severe_toxic'] == 1:\n",
    "        severe_toxic += tokenizer.tokenize(text.lower())\n",
    "    if x ['identity_hate'] == 1:\n",
    "        identity_hate += tokenizer.tokenize(text.lower())\n",
    "    if x ['threat'] == 1:\n",
    "        threat += tokenizer.tokenize(text.lower())\n",
    "        \n",
    "all_words = Counter(words)\n",
    "all_obscene = Counter(obscene)\n",
    "all_insult = Counter(insult)\n",
    "all_toxic = Counter(toxic)\n",
    "all_severe_toxic = Counter(severe_toxic)\n",
    "all_identity_hate = Counter(identity_hate)\n",
    "all_threat = Counter(threat)\n",
    "\n",
    "for stopword in stopwords.words(\"english\"): \n",
    "    all_words.pop(stopword, None)\n",
    "    all_obscene.pop(stopword, None)\n",
    "    all_insult.pop(stopword, None)\n",
    "    all_toxic.pop(stopword, None)\n",
    "    all_severe_toxic.pop(stopword, None)\n",
    "    all_identity_hate.pop(stopword, None)\n",
    "    all_threat.pop(stopword, None)\n",
    "\n",
    "for alpha_char in list(string.ascii_lowercase + string.ascii_uppercase):\n",
    "    all_words.pop(alpha_char, None)\n",
    "    all_obscene.pop(alpha_char, None)\n",
    "    all_insult.pop(alpha_char, None)\n",
    "    all_toxic.pop(alpha_char, None)\n",
    "    all_severe_toxic.pop(alpha_char, None)\n",
    "    all_identity_hate.pop(alpha_char, None)\n",
    "    all_threat.pop(alpha_char, None)"
   ]
  },
  {
   "cell_type": "markdown",
   "id": "3a2795b1",
   "metadata": {},
   "source": [
    "To count the tokenized characters, Python's `Counter()` object was used to automatically count the number of tokens in the list of words retrieved above. The output for all the comments, arranged by total count in descending order, is as follows:"
   ]
  },
  {
   "cell_type": "code",
   "execution_count": 16,
   "id": "09df5a33",
   "metadata": {
    "scrolled": true,
    "tags": []
   },
   "outputs": [
    {
     "name": "stdout",
     "output_type": "stream",
     "text": [
      "\n",
      "Token (All Comments)          Count\n",
      "article                       57661\n",
      "wikipedia                     48427\n",
      "page                          46460\n",
      "talk                          37094\n",
      "please                        29794\n",
      "would                         29323\n",
      "one                           29179\n",
      "like                          28008\n",
      "see                           21603\n",
      "also                          20641\n",
      "think                         20084\n",
      "know                          19144\n",
      "people                        18468\n",
      "edit                          18288\n",
      "articles                      16712\n",
      "use                           16594\n",
      "time                          15885\n",
      "may                           15611\n",
      "user                          14101\n",
      "thanks                        13904\n"
     ]
    }
   ],
   "source": [
    "print('\\n{}{}'.format('Token (All Comments)'.ljust(30), 'Count'))\n",
    "for value, count in all_words.most_common(20):\n",
    "    print('{}{}'.format(value.ljust(30), count))"
   ]
  },
  {
   "cell_type": "markdown",
   "id": "12a13de2",
   "metadata": {},
   "source": [
    "Next, the tokens for each toxic category will be shown below, arranged by total count in descending order."
   ]
  },
  {
   "cell_type": "code",
   "execution_count": 17,
   "id": "4f67a2a9",
   "metadata": {},
   "outputs": [
    {
     "name": "stdout",
     "output_type": "stream",
     "text": [
      "\n",
      "Token (Insult)                Count\n",
      "fuck                          7925\n",
      "fucking                       2799\n",
      "suck                          2792\n",
      "nigger                        2781\n",
      "go                            2235\n",
      "ass                           2211\n",
      "fat                           1926\n",
      "faggot                        1867\n",
      "bitch                         1733\n",
      "shit                          1689\n",
      "\n",
      "Token (Obscene)               Count\n",
      "fuck                          9860\n",
      "shit                          3212\n",
      "fucking                       3192\n",
      "suck                          3021\n",
      "ass                           2846\n",
      "nigger                        2727\n",
      "go                            2147\n",
      "wikipedia                     1905\n",
      "bitch                         1795\n",
      "like                          1541\n",
      "\n",
      "Token (Toxic)                 Count\n",
      "fuck                          9934\n",
      "wikipedia                     3678\n",
      "shit                          3622\n",
      "like                          3512\n",
      "nigger                        3300\n",
      "fucking                       3289\n",
      "suck                          3235\n",
      "ass                           2939\n",
      "go                            2865\n",
      "hate                          2631\n",
      "\n",
      "Token (Severe Toxic)          Count\n",
      "fuck                          7303\n",
      "suck                          2535\n",
      "ass                           2114\n",
      "shit                          1884\n",
      "faggot                        1571\n",
      "fucking                       1456\n",
      "go                            1240\n",
      "die                           1156\n",
      "bitch                         1113\n",
      "nigger                        1012\n",
      "\n",
      "Token (Identity Hate)         Count\n",
      "nigger                        2969\n",
      "fat                           1322\n",
      "jew                           1314\n",
      "gay                           918\n",
      "fuck                          880\n",
      "die                           879\n",
      "faggot                        742\n",
      "fucking                       518\n",
      "huge                          430\n",
      "suck                          427\n",
      "\n",
      "Token (Threat)                Count\n",
      "die                           1168\n",
      "ass                           772\n",
      "kill                          504\n",
      "going                         294\n",
      "wikipedia                     200\n",
      "block                         170\n",
      "must                          167\n",
      "fuck                          166\n",
      "jim                           158\n",
      "wales                         157\n"
     ]
    }
   ],
   "source": [
    "print('\\n{}{}'.format('Token (Insult)'.ljust(30), 'Count'))\n",
    "for value, count in all_insult.most_common(10):\n",
    "    print('{}{}'.format(value.ljust(30), count))\n",
    "\n",
    "print('\\n{}{}'.format('Token (Obscene)'.ljust(30), 'Count'))\n",
    "for value, count in all_obscene.most_common(10):\n",
    "    print('{}{}'.format(value.ljust(30), count))\n",
    "    \n",
    "print('\\n{}{}'.format('Token (Toxic)'.ljust(30), 'Count'))\n",
    "for value, count in all_toxic.most_common(10):\n",
    "    print('{}{}'.format(value.ljust(30), count))\n",
    "    \n",
    "print('\\n{}{}'.format('Token (Severe Toxic)'.ljust(30), 'Count'))\n",
    "for value, count in all_severe_toxic.most_common(10):\n",
    "    print('{}{}'.format(value.ljust(30), count))\n",
    "    \n",
    "print('\\n{}{}'.format('Token (Identity Hate)'.ljust(30), 'Count'))\n",
    "for value, count in all_identity_hate.most_common(10):\n",
    "    print('{}{}'.format(value.ljust(30), count))\n",
    "    \n",
    "print('\\n{}{}'.format('Token (Threat)'.ljust(30), 'Count'))\n",
    "for value, count in all_threat.most_common(10):\n",
    "    print('{}{}'.format(value.ljust(30), count))"
   ]
  },
  {
   "cell_type": "markdown",
   "id": "7d4f42ab",
   "metadata": {},
   "source": [
    "For a better visual representation of the frequency of these words, these words may be displayed in a wordcloud. Wordclouds are apt for this task as they give prominence to words based on their frequency.\n",
    "\n",
    "A [`WordCloud()`](https://amueller.github.io/word_cloud/generated/wordcloud.WordCloud.html) object is generated below, using the tokens from all comments."
   ]
  },
  {
   "cell_type": "code",
   "execution_count": 18,
   "id": "feb52aeb-ec30-40ce-bc0e-441d57566d48",
   "metadata": {
    "scrolled": true,
    "tags": []
   },
   "outputs": [
    {
     "data": {
      "image/png": "[encoded data removed]",
      "text/plain": [
       "<Figure size 432x288 with 1 Axes>"
      ]
     },
     "metadata": {
      "needs_background": "light"
     },
     "output_type": "display_data"
    }
   ],
   "source": [
    "wordcloud = WordCloud(min_word_length = 3, background_color='white')\n",
    "wordcloud.generate_from_frequencies(all_words)\n",
    "plt.imshow(wordcloud, interpolation='bilinear')\n",
    "plt.title('All Data')\n",
    "plt.axis('off')\n",
    "plt.show()"
   ]
  },
  {
   "cell_type": "markdown",
   "id": "66736efb",
   "metadata": {},
   "source": [
    "Next, several [`WordCloud()`](https://amueller.github.io/word_cloud/generated/wordcloud.WordCloud.html) objects are generated using the tokens from each toxic category as follows:"
   ]
  },
  {
   "cell_type": "markdown",
   "id": "8061fbf3-4360-40b9-ae0a-25f99b0170bd",
   "metadata": {},
   "source": [
    "#### Figure 1. Wordcloud of the Word Frequency of All of the Data"
   ]
  },
  {
   "cell_type": "code",
   "execution_count": 19,
   "id": "733bb09e-196e-49e9-92c4-5d385cac2fe2",
   "metadata": {
    "scrolled": true
   },
   "outputs": [
    {
     "data": {
      "image/png": "[encoded data removed]",
      "text/plain": [
       "<Figure size 432x288 with 6 Axes>"
      ]
     },
     "metadata": {
      "needs_background": "light"
     },
     "output_type": "display_data"
    }
   ],
   "source": [
    "fig = plt.figure()\n",
    "\n",
    "ax2 = fig.add_subplot(231)\n",
    "wordcloud1 = WordCloud(min_word_length = 3, background_color='white')\n",
    "wordcloud1.generate_from_frequencies(all_insult)\n",
    "plt.imshow(wordcloud1)\n",
    "plt.title('Insults')\n",
    "plt.axis('off')\n",
    "\n",
    "ax3 = fig.add_subplot(232)\n",
    "wordcloud2 = WordCloud(min_word_length = 3, background_color='white')\n",
    "wordcloud2.generate_from_frequencies(all_obscene)\n",
    "plt.imshow(wordcloud2)\n",
    "plt.title('Obscene')\n",
    "plt.axis('off')\n",
    "\n",
    "ax4 = fig.add_subplot(233)\n",
    "wordcloud3 = WordCloud(min_word_length = 3, background_color='white')\n",
    "wordcloud3.generate_from_frequencies(all_toxic)\n",
    "plt.imshow(wordcloud3)\n",
    "plt.title('Toxic')\n",
    "plt.axis('off')\n",
    "\n",
    "ax5 = fig.add_subplot(234)\n",
    "wordcloud4 = WordCloud(min_word_length = 3, background_color='white')\n",
    "wordcloud4.generate_from_frequencies(all_severe_toxic)\n",
    "plt.imshow(wordcloud4)\n",
    "plt.title('Severe Toxic')\n",
    "plt.axis('off')\n",
    "\n",
    "ax6 = fig.add_subplot(235)\n",
    "wordcloud5 = WordCloud(min_word_length = 3, background_color='white')\n",
    "wordcloud5.generate_from_frequencies(all_identity_hate)\n",
    "plt.imshow(wordcloud5)\n",
    "plt.title('Identity Hate')\n",
    "plt.axis('off')\n",
    "\n",
    "ax7 = fig.add_subplot(236)\n",
    "wordcloud6 = WordCloud(min_word_length = 3, background_color='white')\n",
    "wordcloud6.generate_from_frequencies(all_threat)\n",
    "plt.imshow(wordcloud6)\n",
    "plt.title('Threats')\n",
    "plt.axis('off')\n",
    "\n",
    "plt.show()"
   ]
  },
  {
   "cell_type": "markdown",
   "id": "7679730d-1bea-4952-b19d-7bf807ea715f",
   "metadata": {},
   "source": [
    "#### Figure 2. Wordcloud of the Word Frequency of Each of the Categories"
   ]
  },
  {
   "cell_type": "markdown",
   "id": "d83a508e",
   "metadata": {},
   "source": [
    "From the list of frequent words outputted earlier and the wordclouds generated above (Figure 1 and 2), there are several things to note.\n",
    "\n",
    "As expected of comments retrieved from Wikipedia's talk page edits, many of the words relate to Wikipedia itself (`article`, `articles`, `wikipedia`, `talk`, `page`, `edit`) and some words involve collaboration and communication between users for edits (`user`, `would`, `like`, `think`, `know`). Words such as `please` and `thanks` can be seen, indicating that many comments are civil and respectful.\n",
    "\n",
    "However, most of the frequently appearing words coming from comments that fall under the various toxic categories are considered profane. Interestingly enough, specific types of words appear more frequently in some categories compared to others. For example, the category `identity_hate` has a higher frequency of various slurs, `threat` contains words relating to physical harm (e.g. `kill`, `die`), and `obscene` contains indecent words related to sexual acts or parts. Furthermore, the word `fuck` consistently appears as part of the ten most frequently seen words for all categories, even appearing as the most frequent word for `insult`, `obscene`, `toxic`, and `severe_toxic`."
   ]
  },
  {
   "cell_type": "markdown",
   "id": "5c11d083-6baa-4a10-b22f-d132ed340d1f",
   "metadata": {},
   "source": [
    "### Based on the `train` data, how correlated are the given categories?\n",
    "Since this challenge mainly focuses on determining the probability of a comment belonging to a specific category, we want to explore the correlations among the different categories. The correlation of each of the categories is computed using Pandas' [`corr`](https://pandas.pydata.org/docs/reference/api/pandas.DataFrame.corr.html) function. \n",
    "\n",
    "It should be noted that since there are only two values—0 and 1—possible for each of the categories, we would not have to worry for outliers."
   ]
  },
  {
   "cell_type": "code",
   "execution_count": 20,
   "id": "17fd8d79-8a32-4b36-8f88-c94602782841",
   "metadata": {},
   "outputs": [
    {
     "data": {
      "text/html": [
       "<div>\n",
       "<style scoped>\n",
       "    .dataframe tbody tr th:only-of-type {\n",
       "        vertical-align: middle;\n",
       "    }\n",
       "\n",
       "    .dataframe tbody tr th {\n",
       "        vertical-align: top;\n",
       "    }\n",
       "\n",
       "    .dataframe thead th {\n",
       "        text-align: right;\n",
       "    }\n",
       "</style>\n",
       "<table border=\"1\" class=\"dataframe\">\n",
       "  <thead>\n",
       "    <tr style=\"text-align: right;\">\n",
       "      <th></th>\n",
       "      <th>toxic</th>\n",
       "      <th>severe_toxic</th>\n",
       "      <th>obscene</th>\n",
       "      <th>threat</th>\n",
       "      <th>insult</th>\n",
       "      <th>identity_hate</th>\n",
       "    </tr>\n",
       "  </thead>\n",
       "  <tbody>\n",
       "    <tr>\n",
       "      <th>toxic</th>\n",
       "      <td>1.000000</td>\n",
       "      <td>0.308619</td>\n",
       "      <td>0.676515</td>\n",
       "      <td>0.157058</td>\n",
       "      <td>0.647518</td>\n",
       "      <td>0.266009</td>\n",
       "    </tr>\n",
       "    <tr>\n",
       "      <th>severe_toxic</th>\n",
       "      <td>0.308619</td>\n",
       "      <td>1.000000</td>\n",
       "      <td>0.403014</td>\n",
       "      <td>0.123601</td>\n",
       "      <td>0.375807</td>\n",
       "      <td>0.201600</td>\n",
       "    </tr>\n",
       "    <tr>\n",
       "      <th>obscene</th>\n",
       "      <td>0.676515</td>\n",
       "      <td>0.403014</td>\n",
       "      <td>1.000000</td>\n",
       "      <td>0.141179</td>\n",
       "      <td>0.741272</td>\n",
       "      <td>0.286867</td>\n",
       "    </tr>\n",
       "    <tr>\n",
       "      <th>threat</th>\n",
       "      <td>0.157058</td>\n",
       "      <td>0.123601</td>\n",
       "      <td>0.141179</td>\n",
       "      <td>1.000000</td>\n",
       "      <td>0.150022</td>\n",
       "      <td>0.115128</td>\n",
       "    </tr>\n",
       "    <tr>\n",
       "      <th>insult</th>\n",
       "      <td>0.647518</td>\n",
       "      <td>0.375807</td>\n",
       "      <td>0.741272</td>\n",
       "      <td>0.150022</td>\n",
       "      <td>1.000000</td>\n",
       "      <td>0.337736</td>\n",
       "    </tr>\n",
       "    <tr>\n",
       "      <th>identity_hate</th>\n",
       "      <td>0.266009</td>\n",
       "      <td>0.201600</td>\n",
       "      <td>0.286867</td>\n",
       "      <td>0.115128</td>\n",
       "      <td>0.337736</td>\n",
       "      <td>1.000000</td>\n",
       "    </tr>\n",
       "  </tbody>\n",
       "</table>\n",
       "</div>"
      ],
      "text/plain": [
       "                  toxic  severe_toxic   obscene    threat    insult  \\\n",
       "toxic          1.000000      0.308619  0.676515  0.157058  0.647518   \n",
       "severe_toxic   0.308619      1.000000  0.403014  0.123601  0.375807   \n",
       "obscene        0.676515      0.403014  1.000000  0.141179  0.741272   \n",
       "threat         0.157058      0.123601  0.141179  1.000000  0.150022   \n",
       "insult         0.647518      0.375807  0.741272  0.150022  1.000000   \n",
       "identity_hate  0.266009      0.201600  0.286867  0.115128  0.337736   \n",
       "\n",
       "               identity_hate  \n",
       "toxic               0.266009  \n",
       "severe_toxic        0.201600  \n",
       "obscene             0.286867  \n",
       "threat              0.115128  \n",
       "insult              0.337736  \n",
       "identity_hate       1.000000  "
      ]
     },
     "execution_count": 20,
     "metadata": {},
     "output_type": "execute_result"
    }
   ],
   "source": [
    "correlation = train.corr()\n",
    "correlation"
   ]
  },
  {
   "cell_type": "markdown",
   "id": "924c8305-1960-496e-89dc-ac5f5acf579f",
   "metadata": {},
   "source": [
    "Since it is hard to determine the correlation of the categories using just numbers, we can visualize these numbers using a [`heatmap`](https://seaborn.pydata.org/generated/seaborn.heatmap.html)."
   ]
  },
  {
   "cell_type": "code",
   "execution_count": 21,
   "id": "95ba26d6-1184-46cd-8962-c6ef530a8b4e",
   "metadata": {},
   "outputs": [
    {
     "data": {
      "text/plain": [
       "<AxesSubplot:>"
      ]
     },
     "execution_count": 21,
     "metadata": {},
     "output_type": "execute_result"
    },
    {
     "data": {
      "image/png": "[encoded data removed]",
      "text/plain": [
       "<Figure size 360x360 with 2 Axes>"
      ]
     },
     "metadata": {
      "needs_background": "light"
     },
     "output_type": "display_data"
    }
   ],
   "source": [
    "plt.figure (figsize = (5, 5))\n",
    "sns.heatmap (data = correlation, xticklabels = correlation.columns.values, yticklabels = correlation.columns.values, cmap = 'viridis', annot=True)"
   ]
  },
  {
   "cell_type": "markdown",
   "id": "8af50cf8-3806-484c-a3da-c0154b1e72a3",
   "metadata": {},
   "source": [
    "#### Figure 3. Correlation Heatmap of the categories\n",
    "From Figure 3, we can see that there is a low correlation between `threat` and all of the other categories. Additionally, `insult` and `obscene` has the highest correlation among the categories with a 0.74 or 74% correlation."
   ]
  },
  {
   "cell_type": "markdown",
   "id": "fd9a8579-c857-4463-93d0-c6d5b179982d",
   "metadata": {},
   "source": [
    "### What is the range of length of `comment_text`?\n",
    "\n",
    "Determining the range of the length of the string `comment_text` could help us in determining on how long are the words, phrases or sentences our model needs to handle. The length of the longest string can be determined through the use of the [`len`](https://pandas.pydata.org/docs/reference/api/pandas.Series.str.len.html) and [`describe`](https://pandas.pydata.org/docs/reference/api/pandas.DataFrame.describe.html) functions."
   ]
  },
  {
   "cell_type": "code",
   "execution_count": 22,
   "id": "84f44217-e374-4c16-b83c-6174ddf55975",
   "metadata": {
    "tags": []
   },
   "outputs": [
    {
     "data": {
      "text/plain": [
       "count    159571.000000\n",
       "mean        396.593961\n",
       "std         594.387869\n",
       "min           6.000000\n",
       "25%          97.000000\n",
       "50%         207.000000\n",
       "75%         438.000000\n",
       "max        5000.000000\n",
       "Name: comment_text, dtype: float64"
      ]
     },
     "execution_count": 22,
     "metadata": {},
     "output_type": "execute_result"
    }
   ],
   "source": [
    "train['comment_text'].str.len().describe()"
   ]
  },
  {
   "cell_type": "markdown",
   "id": "56223e52-dd9a-4a22-9ec2-f1d656d0e274",
   "metadata": {},
   "source": [
    "From this, we can see that there is at least one string in the `comment_text` column with a length of 5000. This is far from the mean length, which is only 396.\n",
    "\n",
    "To effectively analyze the length of the comments, we can sort our data frame (i.e., using the [`sort_values`](https://pandas.pydata.org/docs/reference/api/pandas.DataFrame.sort_values.html) function) based on the length of the `comment_text` column, from the longest to the shortest."
   ]
  },
  {
   "cell_type": "code",
   "execution_count": 23,
   "id": "590a6582-ad80-40c9-84a4-a26d82159424",
   "metadata": {
    "tags": []
   },
   "outputs": [
    {
     "data": {
      "text/html": [
       "<div>\n",
       "<style scoped>\n",
       "    .dataframe tbody tr th:only-of-type {\n",
       "        vertical-align: middle;\n",
       "    }\n",
       "\n",
       "    .dataframe tbody tr th {\n",
       "        vertical-align: top;\n",
       "    }\n",
       "\n",
       "    .dataframe thead th {\n",
       "        text-align: right;\n",
       "    }\n",
       "</style>\n",
       "<table border=\"1\" class=\"dataframe\">\n",
       "  <thead>\n",
       "    <tr style=\"text-align: right;\">\n",
       "      <th></th>\n",
       "      <th>id</th>\n",
       "      <th>comment_text</th>\n",
       "      <th>toxic</th>\n",
       "      <th>severe_toxic</th>\n",
       "      <th>obscene</th>\n",
       "      <th>threat</th>\n",
       "      <th>insult</th>\n",
       "      <th>identity_hate</th>\n",
       "      <th>string_length</th>\n",
       "    </tr>\n",
       "  </thead>\n",
       "  <tbody>\n",
       "    <tr>\n",
       "      <th>131729</th>\n",
       "      <td>c0e076f0011acaa6</td>\n",
       "      <td>\"FFFFF UUUUUU CCCCCC KKKKKK ===== YOU! F UU C ...</td>\n",
       "      <td>1</td>\n",
       "      <td>1</td>\n",
       "      <td>1</td>\n",
       "      <td>0</td>\n",
       "      <td>1</td>\n",
       "      <td>0</td>\n",
       "      <td>5000</td>\n",
       "    </tr>\n",
       "    <tr>\n",
       "      <th>133254</th>\n",
       "      <td>c8f01ac90c4adc27</td>\n",
       "      <td>FUCK YOU ALL!!  FUCK YOU ALL!!  FUCK YOU ALL!!...</td>\n",
       "      <td>1</td>\n",
       "      <td>1</td>\n",
       "      <td>1</td>\n",
       "      <td>0</td>\n",
       "      <td>1</td>\n",
       "      <td>0</td>\n",
       "      <td>5000</td>\n",
       "    </tr>\n",
       "    <tr>\n",
       "      <th>4174</th>\n",
       "      <td>0b2055f13934a41e</td>\n",
       "      <td>ii CAN STILL POST WITH THIS COMPUTER...I SAID ...</td>\n",
       "      <td>1</td>\n",
       "      <td>0</td>\n",
       "      <td>1</td>\n",
       "      <td>0</td>\n",
       "      <td>1</td>\n",
       "      <td>0</td>\n",
       "      <td>5000</td>\n",
       "    </tr>\n",
       "    <tr>\n",
       "      <th>56834</th>\n",
       "      <td>97e695cfd71944ed</td>\n",
       "      <td>i CAN STILL POST WITH THIS COMPUTER...I SAID B...</td>\n",
       "      <td>1</td>\n",
       "      <td>1</td>\n",
       "      <td>1</td>\n",
       "      <td>0</td>\n",
       "      <td>1</td>\n",
       "      <td>0</td>\n",
       "      <td>5000</td>\n",
       "    </tr>\n",
       "    <tr>\n",
       "      <th>156437</th>\n",
       "      <td>ce2d7821188dd30f</td>\n",
       "      <td>HUGE FAGGOT HUGE FAGGOT HUGE FAGGOT HUGE FAGGO...</td>\n",
       "      <td>1</td>\n",
       "      <td>1</td>\n",
       "      <td>1</td>\n",
       "      <td>0</td>\n",
       "      <td>1</td>\n",
       "      <td>1</td>\n",
       "      <td>5000</td>\n",
       "    </tr>\n",
       "    <tr>\n",
       "      <th>...</th>\n",
       "      <td>...</td>\n",
       "      <td>...</td>\n",
       "      <td>...</td>\n",
       "      <td>...</td>\n",
       "      <td>...</td>\n",
       "      <td>...</td>\n",
       "      <td>...</td>\n",
       "      <td>...</td>\n",
       "      <td>...</td>\n",
       "    </tr>\n",
       "    <tr>\n",
       "      <th>118850</th>\n",
       "      <td>7b3d18857df782cf</td>\n",
       "      <td>FUCK YOU</td>\n",
       "      <td>1</td>\n",
       "      <td>1</td>\n",
       "      <td>1</td>\n",
       "      <td>0</td>\n",
       "      <td>1</td>\n",
       "      <td>0</td>\n",
       "      <td>8</td>\n",
       "    </tr>\n",
       "    <tr>\n",
       "      <th>121074</th>\n",
       "      <td>87c06f935f2c6559</td>\n",
       "      <td>you suck</td>\n",
       "      <td>1</td>\n",
       "      <td>0</td>\n",
       "      <td>1</td>\n",
       "      <td>0</td>\n",
       "      <td>1</td>\n",
       "      <td>0</td>\n",
       "      <td>8</td>\n",
       "    </tr>\n",
       "    <tr>\n",
       "      <th>109985</th>\n",
       "      <td>4c5cde3ab1a618c9</td>\n",
       "      <td>{{unbloc</td>\n",
       "      <td>0</td>\n",
       "      <td>0</td>\n",
       "      <td>0</td>\n",
       "      <td>0</td>\n",
       "      <td>0</td>\n",
       "      <td>0</td>\n",
       "      <td>8</td>\n",
       "    </tr>\n",
       "    <tr>\n",
       "      <th>52442</th>\n",
       "      <td>8c4c53001134f290</td>\n",
       "      <td>14:53,</td>\n",
       "      <td>0</td>\n",
       "      <td>0</td>\n",
       "      <td>0</td>\n",
       "      <td>0</td>\n",
       "      <td>0</td>\n",
       "      <td>0</td>\n",
       "      <td>6</td>\n",
       "    </tr>\n",
       "    <tr>\n",
       "      <th>137062</th>\n",
       "      <td>dd5ac2c49ec34efa</td>\n",
       "      <td>~ J.Lo</td>\n",
       "      <td>0</td>\n",
       "      <td>0</td>\n",
       "      <td>0</td>\n",
       "      <td>0</td>\n",
       "      <td>0</td>\n",
       "      <td>0</td>\n",
       "      <td>6</td>\n",
       "    </tr>\n",
       "  </tbody>\n",
       "</table>\n",
       "<p>159571 rows × 9 columns</p>\n",
       "</div>"
      ],
      "text/plain": [
       "                      id                                       comment_text  \\\n",
       "131729  c0e076f0011acaa6  \"FFFFF UUUUUU CCCCCC KKKKKK ===== YOU! F UU C ...   \n",
       "133254  c8f01ac90c4adc27  FUCK YOU ALL!!  FUCK YOU ALL!!  FUCK YOU ALL!!...   \n",
       "4174    0b2055f13934a41e  ii CAN STILL POST WITH THIS COMPUTER...I SAID ...   \n",
       "56834   97e695cfd71944ed  i CAN STILL POST WITH THIS COMPUTER...I SAID B...   \n",
       "156437  ce2d7821188dd30f  HUGE FAGGOT HUGE FAGGOT HUGE FAGGOT HUGE FAGGO...   \n",
       "...                  ...                                                ...   \n",
       "118850  7b3d18857df782cf                                           FUCK YOU   \n",
       "121074  87c06f935f2c6559                                           you suck   \n",
       "109985  4c5cde3ab1a618c9                                           {{unbloc   \n",
       "52442   8c4c53001134f290                                             14:53,   \n",
       "137062  dd5ac2c49ec34efa                                             ~ J.Lo   \n",
       "\n",
       "        toxic  severe_toxic  obscene  threat  insult  identity_hate  \\\n",
       "131729      1             1        1       0       1              0   \n",
       "133254      1             1        1       0       1              0   \n",
       "4174        1             0        1       0       1              0   \n",
       "56834       1             1        1       0       1              0   \n",
       "156437      1             1        1       0       1              1   \n",
       "...       ...           ...      ...     ...     ...            ...   \n",
       "118850      1             1        1       0       1              0   \n",
       "121074      1             0        1       0       1              0   \n",
       "109985      0             0        0       0       0              0   \n",
       "52442       0             0        0       0       0              0   \n",
       "137062      0             0        0       0       0              0   \n",
       "\n",
       "        string_length  \n",
       "131729           5000  \n",
       "133254           5000  \n",
       "4174             5000  \n",
       "56834            5000  \n",
       "156437           5000  \n",
       "...               ...  \n",
       "118850              8  \n",
       "121074              8  \n",
       "109985              8  \n",
       "52442               6  \n",
       "137062              6  \n",
       "\n",
       "[159571 rows x 9 columns]"
      ]
     },
     "execution_count": 23,
     "metadata": {},
     "output_type": "execute_result"
    }
   ],
   "source": [
    "arranged_index  = train['comment_text'].str.len().sort_values(ascending = False).index\n",
    "arranged_length = train.reindex (arranged_index)\n",
    "\n",
    "length = train['comment_text'].str.len().sort_values(ascending = False)\n",
    "arranged_length ['string_length'] = length\n",
    "arranged_length"
   ]
  },
  {
   "cell_type": "markdown",
   "id": "9d8ceb10-1c2d-4a76-838f-50d89026928f",
   "metadata": {},
   "source": [
    "As we can see, there are several rows with a string length of 5000. From the five comments shown, we can see that it is mostly made up of uppercase characters and copypasted words.\n",
    "\n",
    "Additionally, we can see that there are **42 rows** that has a string length of 5000 for the `comment_text` column. "
   ]
  },
  {
   "cell_type": "code",
   "execution_count": 24,
   "id": "42013730-6cfd-4b57-b0ae-f6925726e376",
   "metadata": {
    "tags": []
   },
   "outputs": [
    {
     "data": {
      "text/plain": [
       "42"
      ]
     },
     "execution_count": 24,
     "metadata": {},
     "output_type": "execute_result"
    }
   ],
   "source": [
    "len(arranged_length [arranged_length ['string_length'] == 5000])"
   ]
  },
  {
   "cell_type": "markdown",
   "id": "ae4a1181-d2b8-4e8f-9985-1df4e5816de8",
   "metadata": {},
   "source": [
    "Through the use of a [`box`](https://matplotlib.org/3.5.0/api/_as_gen/matplotlib.pyplot.box.html) plot, we can see how dispersed our data is."
   ]
  },
  {
   "cell_type": "code",
   "execution_count": 25,
   "id": "8bf680ff-a224-4aff-bf7f-6525775597c1",
   "metadata": {
    "tags": []
   },
   "outputs": [
    {
     "data": {
      "text/plain": [
       "<AxesSubplot:>"
      ]
     },
     "execution_count": 25,
     "metadata": {},
     "output_type": "execute_result"
    },
    {
     "data": {
      "image/png": "[encoded data removed]",
      "text/plain": [
       "<Figure size 360x576 with 1 Axes>"
      ]
     },
     "metadata": {
      "needs_background": "light"
     },
     "output_type": "display_data"
    }
   ],
   "source": [
    "arranged_length ['string_length'].plot.box(grid='True', figsize=(5, 8))"
   ]
  },
  {
   "cell_type": "markdown",
   "id": "e6588de3-c4a1-4bd0-898b-8b94b4e1efac",
   "metadata": {},
   "source": [
    "#### Figure 4. Box Plot of the Length of `comment_text`\n",
    "Using Figure 4, we can see that there are outliers in the length of the `comment_text` as there are comments with lengths that are higher than the upper whisker. Additionally, this boxplot visually complements what we have learned in the output of the [`describe`](https://pandas.pydata.org/docs/reference/api/pandas.DataFrame.describe.html) function: 50% of the length of the `comment_text` column can be found within the range of 97 and 438, with an Interquartile range (IQR) of 341."
   ]
  },
  {
   "cell_type": "markdown",
   "id": "ab0d3b50",
   "metadata": {},
   "source": [
    "### In the training data, how many instances does each type of toxic comment have?\n",
    "Last, we can get the number of instances that are classified as a specific type of toxic comment. This can help us determine which type of scoring we would be utilizing in hyperparameter tuning. According to Statology (2021), accuracy is utilized when the classes are balanced, while F1-Score is mostly used if they are not. \n",
    "\n",
    "For this, we will first get the classes of our train data."
   ]
  },
  {
   "cell_type": "code",
   "execution_count": 26,
   "id": "fbb9d329",
   "metadata": {},
   "outputs": [
    {
     "data": {
      "text/plain": [
       "Index(['toxic', 'severe_toxic', 'obscene', 'threat', 'insult',\n",
       "       'identity_hate'],\n",
       "      dtype='object')"
      ]
     },
     "execution_count": 26,
     "metadata": {},
     "output_type": "execute_result"
    }
   ],
   "source": [
    "classes = train.columns[2: ]\n",
    "classes"
   ]
  },
  {
   "cell_type": "markdown",
   "id": "2487847d",
   "metadata": {},
   "source": [
    "Afterwards, per class, we would be counting the number of rows with **1** as a value. This is because **1** means that the `comment_text` of that row is classified as this class. "
   ]
  },
  {
   "cell_type": "code",
   "execution_count": 27,
   "id": "e0987b30",
   "metadata": {
    "scrolled": true
   },
   "outputs": [
    {
     "data": {
      "text/plain": [
       "[['toxic', 15294],\n",
       " ['severe_toxic', 1595],\n",
       " ['obscene', 8449],\n",
       " ['threat', 478],\n",
       " ['insult', 7877],\n",
       " ['identity_hate', 1405]]"
      ]
     },
     "execution_count": 27,
     "metadata": {},
     "output_type": "execute_result"
    }
   ],
   "source": [
    "data = []\n",
    "for class_ in classes:\n",
    "    data.append([class_, sum(train [class_] == 1)])\n",
    "    \n",
    "data"
   ]
  },
  {
   "cell_type": "markdown",
   "id": "9bdf8309",
   "metadata": {},
   "source": [
    "The resulting array would be converted into a dataframe. Then, it would be sorted in descending order so that the class with the highest count could be determined smoothly."
   ]
  },
  {
   "cell_type": "code",
   "execution_count": 28,
   "id": "a5e1a971",
   "metadata": {},
   "outputs": [
    {
     "data": {
      "text/html": [
       "<div>\n",
       "<style scoped>\n",
       "    .dataframe tbody tr th:only-of-type {\n",
       "        vertical-align: middle;\n",
       "    }\n",
       "\n",
       "    .dataframe tbody tr th {\n",
       "        vertical-align: top;\n",
       "    }\n",
       "\n",
       "    .dataframe thead th {\n",
       "        text-align: right;\n",
       "    }\n",
       "</style>\n",
       "<table border=\"1\" class=\"dataframe\">\n",
       "  <thead>\n",
       "    <tr style=\"text-align: right;\">\n",
       "      <th></th>\n",
       "      <th>Class</th>\n",
       "      <th>Count</th>\n",
       "    </tr>\n",
       "  </thead>\n",
       "  <tbody>\n",
       "    <tr>\n",
       "      <th>0</th>\n",
       "      <td>toxic</td>\n",
       "      <td>15294</td>\n",
       "    </tr>\n",
       "    <tr>\n",
       "      <th>2</th>\n",
       "      <td>obscene</td>\n",
       "      <td>8449</td>\n",
       "    </tr>\n",
       "    <tr>\n",
       "      <th>4</th>\n",
       "      <td>insult</td>\n",
       "      <td>7877</td>\n",
       "    </tr>\n",
       "    <tr>\n",
       "      <th>1</th>\n",
       "      <td>severe_toxic</td>\n",
       "      <td>1595</td>\n",
       "    </tr>\n",
       "    <tr>\n",
       "      <th>5</th>\n",
       "      <td>identity_hate</td>\n",
       "      <td>1405</td>\n",
       "    </tr>\n",
       "    <tr>\n",
       "      <th>3</th>\n",
       "      <td>threat</td>\n",
       "      <td>478</td>\n",
       "    </tr>\n",
       "  </tbody>\n",
       "</table>\n",
       "</div>"
      ],
      "text/plain": [
       "           Class  Count\n",
       "0          toxic  15294\n",
       "2        obscene   8449\n",
       "4         insult   7877\n",
       "1   severe_toxic   1595\n",
       "5  identity_hate   1405\n",
       "3         threat    478"
      ]
     },
     "execution_count": 28,
     "metadata": {},
     "output_type": "execute_result"
    }
   ],
   "source": [
    "data = pd.DataFrame(data, columns=['Class', 'Count'])\n",
    "data = data.sort_values(by = ['Count'], ascending = False)\n",
    "data"
   ]
  },
  {
   "cell_type": "markdown",
   "id": "01e5e9ec",
   "metadata": {},
   "source": [
    "As the count per class is stored in a dataframe, we could easily visualize this using a [`bar`](https://pandas.pydata.org/docs/reference/api/pandas.DataFrame.plot.bar.html) graph."
   ]
  },
  {
   "cell_type": "code",
   "execution_count": 29,
   "id": "bfdfaf22",
   "metadata": {},
   "outputs": [
    {
     "data": {
      "text/plain": [
       "<AxesSubplot:xlabel='Class'>"
      ]
     },
     "execution_count": 29,
     "metadata": {},
     "output_type": "execute_result"
    },
    {
     "data": {
      "image/png": "[encoded data removed]",
      "text/plain": [
       "<Figure size 432x288 with 1 Axes>"
      ]
     },
     "metadata": {
      "needs_background": "light"
     },
     "output_type": "display_data"
    }
   ],
   "source": [
    "data.plot.bar(x = 'Class', y = 'Count')"
   ]
  },
  {
   "cell_type": "markdown",
   "id": "e59e41e5",
   "metadata": {},
   "source": [
    "#### Figure 5. Bar Graph of the Count of Instances per Class\n",
    "Using Figure 5, **toxic** was determined as the class with the highest number of instances in the train set, with 15294 instances. This is followed by **obscene** (8449), **insult** (7877), **severe_toxic** (1595),  **identity_hate** (1405), and then, **threat** (478).\n",
    "\n",
    "From this, we determined that the instances per class is not balanced, which is why it might be better to utilize F1-score during hyperparameter tuning."
   ]
  },
  {
   "cell_type": "markdown",
   "id": "bec66c5f",
   "metadata": {},
   "source": [
    "## Data Pre-Processing and Cleaning\n",
    "For the data cleaning, we would check if the test and train data: (1) has the correct data type, (2) has **NaN** values, and (3) has duplicate rows. \n",
    "\n",
    "Once we have checked and fix these, we would expand the contractions found in `comment_text`, and remove other non-word characters. This is because we need the words to be a single word and not a combination of words, as we would be utilizing **TF-IFD** (Term Frequency–Inverse Document Frequency) in the later parts of the notebook. "
   ]
  },
  {
   "cell_type": "markdown",
   "id": "23d430df",
   "metadata": {},
   "source": [
    "### Data Types of the Variables\n",
    "For the data types of the columns, we are expecting that the `id` and the `comment_text` columns (for both the `train` and `test` data) are object types as these columns are made up of alphanumeric characters. For the succeeding columns of the `train` data, as these works as boolean flags that indicate the classification of the `comment_text`, these columns should be integers."
   ]
  },
  {
   "cell_type": "code",
   "execution_count": 30,
   "id": "f433b619",
   "metadata": {
    "scrolled": true
   },
   "outputs": [
    {
     "data": {
      "text/plain": [
       "id               object\n",
       "comment_text     object\n",
       "toxic             int64\n",
       "severe_toxic      int64\n",
       "obscene           int64\n",
       "threat            int64\n",
       "insult            int64\n",
       "identity_hate     int64\n",
       "dtype: object"
      ]
     },
     "execution_count": 30,
     "metadata": {},
     "output_type": "execute_result"
    }
   ],
   "source": [
    "train.dtypes"
   ]
  },
  {
   "cell_type": "code",
   "execution_count": 31,
   "id": "f5394a39",
   "metadata": {
    "scrolled": true
   },
   "outputs": [
    {
     "data": {
      "text/plain": [
       "id              object\n",
       "comment_text    object\n",
       "dtype: object"
      ]
     },
     "execution_count": 31,
     "metadata": {},
     "output_type": "execute_result"
    }
   ],
   "source": [
    "test.dtypes"
   ]
  },
  {
   "cell_type": "markdown",
   "id": "c115b51e",
   "metadata": {},
   "source": [
    "As the data types of the column are what we expected, we do not need to perform any cleaning on their data types."
   ]
  },
  {
   "cell_type": "markdown",
   "id": "0e9cd239",
   "metadata": {},
   "source": [
    "### Checking for `NaN`\n",
    "Additionally, we also need to check if there are rows with **NaN** value for any of the columns. This is because having a **NaN** value for any of the columns are not allowed as it might affect the learning or prediction of our model.\n",
    "\n",
    "The combination of the [`isna`](https://pandas.pydata.org/docs/reference/api/pandas.isna.html) and [`sum`](https://pandas.pydata.org/docs/reference/api/pandas.DataFrame.sum.html) functions would allow us to see how many rows have **NaN** values for each of the columns."
   ]
  },
  {
   "cell_type": "code",
   "execution_count": 32,
   "id": "dcbadc5b",
   "metadata": {},
   "outputs": [
    {
     "data": {
      "text/plain": [
       "id               0\n",
       "comment_text     0\n",
       "toxic            0\n",
       "severe_toxic     0\n",
       "obscene          0\n",
       "threat           0\n",
       "insult           0\n",
       "identity_hate    0\n",
       "dtype: int64"
      ]
     },
     "execution_count": 32,
     "metadata": {},
     "output_type": "execute_result"
    }
   ],
   "source": [
    "train.isna().sum()"
   ]
  },
  {
   "cell_type": "code",
   "execution_count": 33,
   "id": "c7876a60",
   "metadata": {
    "scrolled": true
   },
   "outputs": [
    {
     "data": {
      "text/plain": [
       "id              0\n",
       "comment_text    0\n",
       "dtype: int64"
      ]
     },
     "execution_count": 33,
     "metadata": {},
     "output_type": "execute_result"
    }
   ],
   "source": [
    "test.isna().sum()"
   ]
  },
  {
   "cell_type": "markdown",
   "id": "2bd46199",
   "metadata": {},
   "source": [
    "With this, we are sure that all of the rows have values for each of the columns."
   ]
  },
  {
   "cell_type": "markdown",
   "id": "72139524",
   "metadata": {},
   "source": [
    "### Checking for Duplicate Rows\n",
    "Then, we also have to check if there are rows that are duplicated. In the case that there are duplicated rows, they should be dropped as it might bias the models towards these duplicated rows.\n",
    "\n",
    "We can check for duplicates using the [`duplicated`](https://pandas.pydata.org/docs/reference/api/pandas.DataFrame.duplicated.html) function."
   ]
  },
  {
   "cell_type": "code",
   "execution_count": 34,
   "id": "badd5719",
   "metadata": {},
   "outputs": [
    {
     "data": {
      "text/html": [
       "<div>\n",
       "<style scoped>\n",
       "    .dataframe tbody tr th:only-of-type {\n",
       "        vertical-align: middle;\n",
       "    }\n",
       "\n",
       "    .dataframe tbody tr th {\n",
       "        vertical-align: top;\n",
       "    }\n",
       "\n",
       "    .dataframe thead th {\n",
       "        text-align: right;\n",
       "    }\n",
       "</style>\n",
       "<table border=\"1\" class=\"dataframe\">\n",
       "  <thead>\n",
       "    <tr style=\"text-align: right;\">\n",
       "      <th></th>\n",
       "      <th>id</th>\n",
       "      <th>comment_text</th>\n",
       "      <th>toxic</th>\n",
       "      <th>severe_toxic</th>\n",
       "      <th>obscene</th>\n",
       "      <th>threat</th>\n",
       "      <th>insult</th>\n",
       "      <th>identity_hate</th>\n",
       "    </tr>\n",
       "  </thead>\n",
       "  <tbody>\n",
       "  </tbody>\n",
       "</table>\n",
       "</div>"
      ],
      "text/plain": [
       "Empty DataFrame\n",
       "Columns: [id, comment_text, toxic, severe_toxic, obscene, threat, insult, identity_hate]\n",
       "Index: []"
      ]
     },
     "execution_count": 34,
     "metadata": {},
     "output_type": "execute_result"
    }
   ],
   "source": [
    "train [train.duplicated()]"
   ]
  },
  {
   "cell_type": "code",
   "execution_count": 35,
   "id": "d388a559",
   "metadata": {},
   "outputs": [
    {
     "data": {
      "text/html": [
       "<div>\n",
       "<style scoped>\n",
       "    .dataframe tbody tr th:only-of-type {\n",
       "        vertical-align: middle;\n",
       "    }\n",
       "\n",
       "    .dataframe tbody tr th {\n",
       "        vertical-align: top;\n",
       "    }\n",
       "\n",
       "    .dataframe thead th {\n",
       "        text-align: right;\n",
       "    }\n",
       "</style>\n",
       "<table border=\"1\" class=\"dataframe\">\n",
       "  <thead>\n",
       "    <tr style=\"text-align: right;\">\n",
       "      <th></th>\n",
       "      <th>id</th>\n",
       "      <th>comment_text</th>\n",
       "    </tr>\n",
       "  </thead>\n",
       "  <tbody>\n",
       "  </tbody>\n",
       "</table>\n",
       "</div>"
      ],
      "text/plain": [
       "Empty DataFrame\n",
       "Columns: [id, comment_text]\n",
       "Index: []"
      ]
     },
     "execution_count": 35,
     "metadata": {},
     "output_type": "execute_result"
    }
   ],
   "source": [
    "test [test.duplicated()]"
   ]
  },
  {
   "cell_type": "markdown",
   "id": "4cc30ca8",
   "metadata": {},
   "source": [
    "Since we are now certain that there are no duplicates, we can now proceed with cleaning the content of the `comment_text` column."
   ]
  },
  {
   "cell_type": "markdown",
   "id": "82025dcc",
   "metadata": {},
   "source": [
    "### Expanding the Contractions\n",
    "In Natural Language Processing, the `contractions` is one of the libraries that is used to expand contractions. However, even though this library worked for the train data, an *IndexError* was raised in the testing data. Upon researching, this stemmed from the fact that the `fix` function of this library can only handle UTF-8 characters. Due to this, a function that can handle this expansion was created."
   ]
  },
  {
   "cell_type": "code",
   "execution_count": 36,
   "id": "7b634bf7",
   "metadata": {},
   "outputs": [],
   "source": [
    "def expand_contractions (comment_text):\n",
    "    comment_text = re.sub(r\"won\\'t\", \"will not\", comment_text)\n",
    "    comment_text = re.sub(r\"can\\'t\", \"can not\", comment_text)\n",
    "\n",
    "    comment_text = re.sub(r\"n\\'t\", \" not\", comment_text)\n",
    "    comment_text = re.sub(r\"\\'re\", \" are\", comment_text)\n",
    "    comment_text = re.sub(r\"what's\", \" is\", comment_text)\n",
    "    comment_text = re.sub(r\"\\'s\", \" \", comment_text) # to remove 's in possessive noun's\n",
    "    comment_text = re.sub(r\"\\'d\", \" would\", comment_text)\n",
    "    comment_text = re.sub(r\"\\'ll\", \" will\", comment_text)\n",
    "    comment_text = re.sub(r\"\\'t\", \" not\", comment_text)\n",
    "    comment_text = re.sub(r\"\\'ve\", \" have\", comment_text)\n",
    "    comment_text = re.sub(r\"\\'m\", \" am\", comment_text)\n",
    "    return comment_text.strip ()"
   ]
  },
  {
   "cell_type": "markdown",
   "id": "cf097694",
   "metadata": {},
   "source": [
    "The `comment_text` column of both the `train` and `test` data would be mapped to the words returned by this function. Take note that the value of the `comment_text` column would be made into lowercase in order to lessen the vocabulary, which in turn would lower the dimension of the TF-IDF vector."
   ]
  },
  {
   "cell_type": "code",
   "execution_count": 37,
   "id": "71784bb0",
   "metadata": {},
   "outputs": [
    {
     "data": {
      "text/html": [
       "<div>\n",
       "<style scoped>\n",
       "    .dataframe tbody tr th:only-of-type {\n",
       "        vertical-align: middle;\n",
       "    }\n",
       "\n",
       "    .dataframe tbody tr th {\n",
       "        vertical-align: top;\n",
       "    }\n",
       "\n",
       "    .dataframe thead th {\n",
       "        text-align: right;\n",
       "    }\n",
       "</style>\n",
       "<table border=\"1\" class=\"dataframe\">\n",
       "  <thead>\n",
       "    <tr style=\"text-align: right;\">\n",
       "      <th></th>\n",
       "      <th>id</th>\n",
       "      <th>comment_text</th>\n",
       "      <th>toxic</th>\n",
       "      <th>severe_toxic</th>\n",
       "      <th>obscene</th>\n",
       "      <th>threat</th>\n",
       "      <th>insult</th>\n",
       "      <th>identity_hate</th>\n",
       "    </tr>\n",
       "  </thead>\n",
       "  <tbody>\n",
       "    <tr>\n",
       "      <th>0</th>\n",
       "      <td>0000997932d777bf</td>\n",
       "      <td>explanation\\r\\nwhy the edits made under my use...</td>\n",
       "      <td>0</td>\n",
       "      <td>0</td>\n",
       "      <td>0</td>\n",
       "      <td>0</td>\n",
       "      <td>0</td>\n",
       "      <td>0</td>\n",
       "    </tr>\n",
       "    <tr>\n",
       "      <th>1</th>\n",
       "      <td>000103f0d9cfb60f</td>\n",
       "      <td>d'aww! he matches this background colour i am ...</td>\n",
       "      <td>0</td>\n",
       "      <td>0</td>\n",
       "      <td>0</td>\n",
       "      <td>0</td>\n",
       "      <td>0</td>\n",
       "      <td>0</td>\n",
       "    </tr>\n",
       "    <tr>\n",
       "      <th>2</th>\n",
       "      <td>000113f07ec002fd</td>\n",
       "      <td>hey man, i am really not trying to edit war. i...</td>\n",
       "      <td>0</td>\n",
       "      <td>0</td>\n",
       "      <td>0</td>\n",
       "      <td>0</td>\n",
       "      <td>0</td>\n",
       "      <td>0</td>\n",
       "    </tr>\n",
       "    <tr>\n",
       "      <th>3</th>\n",
       "      <td>0001b41b1c6bb37e</td>\n",
       "      <td>\"\\r\\nmore\\r\\ni can not make any real suggestio...</td>\n",
       "      <td>0</td>\n",
       "      <td>0</td>\n",
       "      <td>0</td>\n",
       "      <td>0</td>\n",
       "      <td>0</td>\n",
       "      <td>0</td>\n",
       "    </tr>\n",
       "    <tr>\n",
       "      <th>4</th>\n",
       "      <td>0001d958c54c6e35</td>\n",
       "      <td>you, sir, are my hero. any chance you remember...</td>\n",
       "      <td>0</td>\n",
       "      <td>0</td>\n",
       "      <td>0</td>\n",
       "      <td>0</td>\n",
       "      <td>0</td>\n",
       "      <td>0</td>\n",
       "    </tr>\n",
       "    <tr>\n",
       "      <th>...</th>\n",
       "      <td>...</td>\n",
       "      <td>...</td>\n",
       "      <td>...</td>\n",
       "      <td>...</td>\n",
       "      <td>...</td>\n",
       "      <td>...</td>\n",
       "      <td>...</td>\n",
       "      <td>...</td>\n",
       "    </tr>\n",
       "    <tr>\n",
       "      <th>159566</th>\n",
       "      <td>ffe987279560d7ff</td>\n",
       "      <td>\":::::and for the second time of asking, when ...</td>\n",
       "      <td>0</td>\n",
       "      <td>0</td>\n",
       "      <td>0</td>\n",
       "      <td>0</td>\n",
       "      <td>0</td>\n",
       "      <td>0</td>\n",
       "    </tr>\n",
       "    <tr>\n",
       "      <th>159567</th>\n",
       "      <td>ffea4adeee384e90</td>\n",
       "      <td>you should be ashamed of yourself \\r\\n\\r\\nthat...</td>\n",
       "      <td>0</td>\n",
       "      <td>0</td>\n",
       "      <td>0</td>\n",
       "      <td>0</td>\n",
       "      <td>0</td>\n",
       "      <td>0</td>\n",
       "    </tr>\n",
       "    <tr>\n",
       "      <th>159568</th>\n",
       "      <td>ffee36eab5c267c9</td>\n",
       "      <td>spitzer \\r\\n\\r\\numm, theres no actual article ...</td>\n",
       "      <td>0</td>\n",
       "      <td>0</td>\n",
       "      <td>0</td>\n",
       "      <td>0</td>\n",
       "      <td>0</td>\n",
       "      <td>0</td>\n",
       "    </tr>\n",
       "    <tr>\n",
       "      <th>159569</th>\n",
       "      <td>fff125370e4aaaf3</td>\n",
       "      <td>and it looks like it was actually you who put ...</td>\n",
       "      <td>0</td>\n",
       "      <td>0</td>\n",
       "      <td>0</td>\n",
       "      <td>0</td>\n",
       "      <td>0</td>\n",
       "      <td>0</td>\n",
       "    </tr>\n",
       "    <tr>\n",
       "      <th>159570</th>\n",
       "      <td>fff46fc426af1f9a</td>\n",
       "      <td>\"\\r\\nand ... i really do not think you underst...</td>\n",
       "      <td>0</td>\n",
       "      <td>0</td>\n",
       "      <td>0</td>\n",
       "      <td>0</td>\n",
       "      <td>0</td>\n",
       "      <td>0</td>\n",
       "    </tr>\n",
       "  </tbody>\n",
       "</table>\n",
       "<p>159571 rows × 8 columns</p>\n",
       "</div>"
      ],
      "text/plain": [
       "                      id                                       comment_text  \\\n",
       "0       0000997932d777bf  explanation\\r\\nwhy the edits made under my use...   \n",
       "1       000103f0d9cfb60f  d'aww! he matches this background colour i am ...   \n",
       "2       000113f07ec002fd  hey man, i am really not trying to edit war. i...   \n",
       "3       0001b41b1c6bb37e  \"\\r\\nmore\\r\\ni can not make any real suggestio...   \n",
       "4       0001d958c54c6e35  you, sir, are my hero. any chance you remember...   \n",
       "...                  ...                                                ...   \n",
       "159566  ffe987279560d7ff  \":::::and for the second time of asking, when ...   \n",
       "159567  ffea4adeee384e90  you should be ashamed of yourself \\r\\n\\r\\nthat...   \n",
       "159568  ffee36eab5c267c9  spitzer \\r\\n\\r\\numm, theres no actual article ...   \n",
       "159569  fff125370e4aaaf3  and it looks like it was actually you who put ...   \n",
       "159570  fff46fc426af1f9a  \"\\r\\nand ... i really do not think you underst...   \n",
       "\n",
       "        toxic  severe_toxic  obscene  threat  insult  identity_hate  \n",
       "0           0             0        0       0       0              0  \n",
       "1           0             0        0       0       0              0  \n",
       "2           0             0        0       0       0              0  \n",
       "3           0             0        0       0       0              0  \n",
       "4           0             0        0       0       0              0  \n",
       "...       ...           ...      ...     ...     ...            ...  \n",
       "159566      0             0        0       0       0              0  \n",
       "159567      0             0        0       0       0              0  \n",
       "159568      0             0        0       0       0              0  \n",
       "159569      0             0        0       0       0              0  \n",
       "159570      0             0        0       0       0              0  \n",
       "\n",
       "[159571 rows x 8 columns]"
      ]
     },
     "execution_count": 37,
     "metadata": {},
     "output_type": "execute_result"
    }
   ],
   "source": [
    "train ['comment_text'] = train ['comment_text'].map (lambda text : expand_contractions (text.lower ()))\n",
    "train"
   ]
  },
  {
   "cell_type": "code",
   "execution_count": 38,
   "id": "7b12f3a8",
   "metadata": {},
   "outputs": [
    {
     "data": {
      "text/html": [
       "<div>\n",
       "<style scoped>\n",
       "    .dataframe tbody tr th:only-of-type {\n",
       "        vertical-align: middle;\n",
       "    }\n",
       "\n",
       "    .dataframe tbody tr th {\n",
       "        vertical-align: top;\n",
       "    }\n",
       "\n",
       "    .dataframe thead th {\n",
       "        text-align: right;\n",
       "    }\n",
       "</style>\n",
       "<table border=\"1\" class=\"dataframe\">\n",
       "  <thead>\n",
       "    <tr style=\"text-align: right;\">\n",
       "      <th></th>\n",
       "      <th>id</th>\n",
       "      <th>comment_text</th>\n",
       "    </tr>\n",
       "  </thead>\n",
       "  <tbody>\n",
       "    <tr>\n",
       "      <th>0</th>\n",
       "      <td>00001cee341fdb12</td>\n",
       "      <td>yo bitch ja rule is more succesful then you wi...</td>\n",
       "    </tr>\n",
       "    <tr>\n",
       "      <th>1</th>\n",
       "      <td>0000247867823ef7</td>\n",
       "      <td>== from rfc == \\r\\n\\r\\n the title is fine as i...</td>\n",
       "    </tr>\n",
       "    <tr>\n",
       "      <th>2</th>\n",
       "      <td>00013b17ad220c46</td>\n",
       "      <td>\" \\r\\n\\r\\n == sources == \\r\\n\\r\\n * zawe ashto...</td>\n",
       "    </tr>\n",
       "    <tr>\n",
       "      <th>3</th>\n",
       "      <td>00017563c3f7919a</td>\n",
       "      <td>:if you have a look back at the source, the in...</td>\n",
       "    </tr>\n",
       "    <tr>\n",
       "      <th>4</th>\n",
       "      <td>00017695ad8997eb</td>\n",
       "      <td>i do not anonymously edit articles at all.</td>\n",
       "    </tr>\n",
       "    <tr>\n",
       "      <th>...</th>\n",
       "      <td>...</td>\n",
       "      <td>...</td>\n",
       "    </tr>\n",
       "    <tr>\n",
       "      <th>153159</th>\n",
       "      <td>fffcd0960ee309b5</td>\n",
       "      <td>. \\r\\n i totally agree, this stuff is nothing ...</td>\n",
       "    </tr>\n",
       "    <tr>\n",
       "      <th>153160</th>\n",
       "      <td>fffd7a9a6eb32c16</td>\n",
       "      <td>== throw from out field to home plate. == \\r\\n...</td>\n",
       "    </tr>\n",
       "    <tr>\n",
       "      <th>153161</th>\n",
       "      <td>fffda9e8d6fafa9e</td>\n",
       "      <td>\" \\r\\n\\r\\n == okinotorishima categories == \\r\\...</td>\n",
       "    </tr>\n",
       "    <tr>\n",
       "      <th>153162</th>\n",
       "      <td>fffe8f1340a79fc2</td>\n",
       "      <td>\" \\r\\n\\r\\n == \"\"one of the founding nations of...</td>\n",
       "    </tr>\n",
       "    <tr>\n",
       "      <th>153163</th>\n",
       "      <td>ffffce3fb183ee80</td>\n",
       "      <td>\" \\r\\n :::stop already. your bullshit is not w...</td>\n",
       "    </tr>\n",
       "  </tbody>\n",
       "</table>\n",
       "<p>153164 rows × 2 columns</p>\n",
       "</div>"
      ],
      "text/plain": [
       "                      id                                       comment_text\n",
       "0       00001cee341fdb12  yo bitch ja rule is more succesful then you wi...\n",
       "1       0000247867823ef7  == from rfc == \\r\\n\\r\\n the title is fine as i...\n",
       "2       00013b17ad220c46  \" \\r\\n\\r\\n == sources == \\r\\n\\r\\n * zawe ashto...\n",
       "3       00017563c3f7919a  :if you have a look back at the source, the in...\n",
       "4       00017695ad8997eb         i do not anonymously edit articles at all.\n",
       "...                  ...                                                ...\n",
       "153159  fffcd0960ee309b5  . \\r\\n i totally agree, this stuff is nothing ...\n",
       "153160  fffd7a9a6eb32c16  == throw from out field to home plate. == \\r\\n...\n",
       "153161  fffda9e8d6fafa9e  \" \\r\\n\\r\\n == okinotorishima categories == \\r\\...\n",
       "153162  fffe8f1340a79fc2  \" \\r\\n\\r\\n == \"\"one of the founding nations of...\n",
       "153163  ffffce3fb183ee80  \" \\r\\n :::stop already. your bullshit is not w...\n",
       "\n",
       "[153164 rows x 2 columns]"
      ]
     },
     "execution_count": 38,
     "metadata": {},
     "output_type": "execute_result"
    }
   ],
   "source": [
    "test ['comment_text'] = test ['comment_text'].map (lambda text : expand_contractions (text.lower ()))\n",
    "test"
   ]
  },
  {
   "cell_type": "markdown",
   "id": "e80e080b",
   "metadata": {},
   "source": [
    "However, from the current `test` and `train` data, we can see that if we make used TF-IDF on terms above, we would still see problems with whitespaces (e.g., new line characters, tab characters) and non-alphanumeric characters (e.g., equals sign, ellipses, repeated punctuation marks)."
   ]
  },
  {
   "cell_type": "markdown",
   "id": "0945a9c9",
   "metadata": {},
   "source": [
    "### Removing Non-word Characters\n",
    "To remove the problem regarding white spaces and non-alphanumeric characters, we would be utilizing regular expressions to easily remove these two types of characters. To do this easily, we defined a function that would return a string that only has alphanumeric characters. "
   ]
  },
  {
   "cell_type": "code",
   "execution_count": 39,
   "id": "1e4b7207",
   "metadata": {},
   "outputs": [],
   "source": [
    "def remove_other_chars (comment_text):\n",
    "    comment_text = re.sub ('\\W', ' ', comment_text)\n",
    "    comment_text = re.sub ('\\s+', ' ', comment_text)\n",
    "    comment_text = re.sub(r'\\b\\d+\\b', '', comment_text)\n",
    "    return comment_text.strip ()"
   ]
  },
  {
   "cell_type": "markdown",
   "id": "9090d377",
   "metadata": {},
   "source": [
    "Next, we would apply this function to the `comment_text` column of both the `train` and `test` data."
   ]
  },
  {
   "cell_type": "code",
   "execution_count": 40,
   "id": "4883321d",
   "metadata": {},
   "outputs": [
    {
     "data": {
      "text/html": [
       "<div>\n",
       "<style scoped>\n",
       "    .dataframe tbody tr th:only-of-type {\n",
       "        vertical-align: middle;\n",
       "    }\n",
       "\n",
       "    .dataframe tbody tr th {\n",
       "        vertical-align: top;\n",
       "    }\n",
       "\n",
       "    .dataframe thead th {\n",
       "        text-align: right;\n",
       "    }\n",
       "</style>\n",
       "<table border=\"1\" class=\"dataframe\">\n",
       "  <thead>\n",
       "    <tr style=\"text-align: right;\">\n",
       "      <th></th>\n",
       "      <th>id</th>\n",
       "      <th>comment_text</th>\n",
       "      <th>toxic</th>\n",
       "      <th>severe_toxic</th>\n",
       "      <th>obscene</th>\n",
       "      <th>threat</th>\n",
       "      <th>insult</th>\n",
       "      <th>identity_hate</th>\n",
       "    </tr>\n",
       "  </thead>\n",
       "  <tbody>\n",
       "    <tr>\n",
       "      <th>0</th>\n",
       "      <td>0000997932d777bf</td>\n",
       "      <td>explanation why the edits made under my userna...</td>\n",
       "      <td>0</td>\n",
       "      <td>0</td>\n",
       "      <td>0</td>\n",
       "      <td>0</td>\n",
       "      <td>0</td>\n",
       "      <td>0</td>\n",
       "    </tr>\n",
       "    <tr>\n",
       "      <th>1</th>\n",
       "      <td>000103f0d9cfb60f</td>\n",
       "      <td>d aww he matches this background colour i am s...</td>\n",
       "      <td>0</td>\n",
       "      <td>0</td>\n",
       "      <td>0</td>\n",
       "      <td>0</td>\n",
       "      <td>0</td>\n",
       "      <td>0</td>\n",
       "    </tr>\n",
       "    <tr>\n",
       "      <th>2</th>\n",
       "      <td>000113f07ec002fd</td>\n",
       "      <td>hey man i am really not trying to edit war it ...</td>\n",
       "      <td>0</td>\n",
       "      <td>0</td>\n",
       "      <td>0</td>\n",
       "      <td>0</td>\n",
       "      <td>0</td>\n",
       "      <td>0</td>\n",
       "    </tr>\n",
       "    <tr>\n",
       "      <th>3</th>\n",
       "      <td>0001b41b1c6bb37e</td>\n",
       "      <td>more i can not make any real suggestions on im...</td>\n",
       "      <td>0</td>\n",
       "      <td>0</td>\n",
       "      <td>0</td>\n",
       "      <td>0</td>\n",
       "      <td>0</td>\n",
       "      <td>0</td>\n",
       "    </tr>\n",
       "    <tr>\n",
       "      <th>4</th>\n",
       "      <td>0001d958c54c6e35</td>\n",
       "      <td>you sir are my hero any chance you remember wh...</td>\n",
       "      <td>0</td>\n",
       "      <td>0</td>\n",
       "      <td>0</td>\n",
       "      <td>0</td>\n",
       "      <td>0</td>\n",
       "      <td>0</td>\n",
       "    </tr>\n",
       "    <tr>\n",
       "      <th>...</th>\n",
       "      <td>...</td>\n",
       "      <td>...</td>\n",
       "      <td>...</td>\n",
       "      <td>...</td>\n",
       "      <td>...</td>\n",
       "      <td>...</td>\n",
       "      <td>...</td>\n",
       "      <td>...</td>\n",
       "    </tr>\n",
       "    <tr>\n",
       "      <th>159566</th>\n",
       "      <td>ffe987279560d7ff</td>\n",
       "      <td>and for the second time of asking when your vi...</td>\n",
       "      <td>0</td>\n",
       "      <td>0</td>\n",
       "      <td>0</td>\n",
       "      <td>0</td>\n",
       "      <td>0</td>\n",
       "      <td>0</td>\n",
       "    </tr>\n",
       "    <tr>\n",
       "      <th>159567</th>\n",
       "      <td>ffea4adeee384e90</td>\n",
       "      <td>you should be ashamed of yourself that is a ho...</td>\n",
       "      <td>0</td>\n",
       "      <td>0</td>\n",
       "      <td>0</td>\n",
       "      <td>0</td>\n",
       "      <td>0</td>\n",
       "      <td>0</td>\n",
       "    </tr>\n",
       "    <tr>\n",
       "      <th>159568</th>\n",
       "      <td>ffee36eab5c267c9</td>\n",
       "      <td>spitzer umm theres no actual article for prost...</td>\n",
       "      <td>0</td>\n",
       "      <td>0</td>\n",
       "      <td>0</td>\n",
       "      <td>0</td>\n",
       "      <td>0</td>\n",
       "      <td>0</td>\n",
       "    </tr>\n",
       "    <tr>\n",
       "      <th>159569</th>\n",
       "      <td>fff125370e4aaaf3</td>\n",
       "      <td>and it looks like it was actually you who put ...</td>\n",
       "      <td>0</td>\n",
       "      <td>0</td>\n",
       "      <td>0</td>\n",
       "      <td>0</td>\n",
       "      <td>0</td>\n",
       "      <td>0</td>\n",
       "    </tr>\n",
       "    <tr>\n",
       "      <th>159570</th>\n",
       "      <td>fff46fc426af1f9a</td>\n",
       "      <td>and i really do not think you understand i cam...</td>\n",
       "      <td>0</td>\n",
       "      <td>0</td>\n",
       "      <td>0</td>\n",
       "      <td>0</td>\n",
       "      <td>0</td>\n",
       "      <td>0</td>\n",
       "    </tr>\n",
       "  </tbody>\n",
       "</table>\n",
       "<p>159571 rows × 8 columns</p>\n",
       "</div>"
      ],
      "text/plain": [
       "                      id                                       comment_text  \\\n",
       "0       0000997932d777bf  explanation why the edits made under my userna...   \n",
       "1       000103f0d9cfb60f  d aww he matches this background colour i am s...   \n",
       "2       000113f07ec002fd  hey man i am really not trying to edit war it ...   \n",
       "3       0001b41b1c6bb37e  more i can not make any real suggestions on im...   \n",
       "4       0001d958c54c6e35  you sir are my hero any chance you remember wh...   \n",
       "...                  ...                                                ...   \n",
       "159566  ffe987279560d7ff  and for the second time of asking when your vi...   \n",
       "159567  ffea4adeee384e90  you should be ashamed of yourself that is a ho...   \n",
       "159568  ffee36eab5c267c9  spitzer umm theres no actual article for prost...   \n",
       "159569  fff125370e4aaaf3  and it looks like it was actually you who put ...   \n",
       "159570  fff46fc426af1f9a  and i really do not think you understand i cam...   \n",
       "\n",
       "        toxic  severe_toxic  obscene  threat  insult  identity_hate  \n",
       "0           0             0        0       0       0              0  \n",
       "1           0             0        0       0       0              0  \n",
       "2           0             0        0       0       0              0  \n",
       "3           0             0        0       0       0              0  \n",
       "4           0             0        0       0       0              0  \n",
       "...       ...           ...      ...     ...     ...            ...  \n",
       "159566      0             0        0       0       0              0  \n",
       "159567      0             0        0       0       0              0  \n",
       "159568      0             0        0       0       0              0  \n",
       "159569      0             0        0       0       0              0  \n",
       "159570      0             0        0       0       0              0  \n",
       "\n",
       "[159571 rows x 8 columns]"
      ]
     },
     "execution_count": 40,
     "metadata": {},
     "output_type": "execute_result"
    }
   ],
   "source": [
    "train ['comment_text'] = train ['comment_text'].map (lambda text : remove_other_chars (text.lower ()))\n",
    "train"
   ]
  },
  {
   "cell_type": "code",
   "execution_count": 41,
   "id": "ca99566e",
   "metadata": {
    "scrolled": true
   },
   "outputs": [
    {
     "data": {
      "text/html": [
       "<div>\n",
       "<style scoped>\n",
       "    .dataframe tbody tr th:only-of-type {\n",
       "        vertical-align: middle;\n",
       "    }\n",
       "\n",
       "    .dataframe tbody tr th {\n",
       "        vertical-align: top;\n",
       "    }\n",
       "\n",
       "    .dataframe thead th {\n",
       "        text-align: right;\n",
       "    }\n",
       "</style>\n",
       "<table border=\"1\" class=\"dataframe\">\n",
       "  <thead>\n",
       "    <tr style=\"text-align: right;\">\n",
       "      <th></th>\n",
       "      <th>id</th>\n",
       "      <th>comment_text</th>\n",
       "    </tr>\n",
       "  </thead>\n",
       "  <tbody>\n",
       "    <tr>\n",
       "      <th>0</th>\n",
       "      <td>00001cee341fdb12</td>\n",
       "      <td>yo bitch ja rule is more succesful then you wi...</td>\n",
       "    </tr>\n",
       "    <tr>\n",
       "      <th>1</th>\n",
       "      <td>0000247867823ef7</td>\n",
       "      <td>from rfc the title is fine as it is imo</td>\n",
       "    </tr>\n",
       "    <tr>\n",
       "      <th>2</th>\n",
       "      <td>00013b17ad220c46</td>\n",
       "      <td>sources zawe ashton on lapland</td>\n",
       "    </tr>\n",
       "    <tr>\n",
       "      <th>3</th>\n",
       "      <td>00017563c3f7919a</td>\n",
       "      <td>if you have a look back at the source the info...</td>\n",
       "    </tr>\n",
       "    <tr>\n",
       "      <th>4</th>\n",
       "      <td>00017695ad8997eb</td>\n",
       "      <td>i do not anonymously edit articles at all</td>\n",
       "    </tr>\n",
       "    <tr>\n",
       "      <th>...</th>\n",
       "      <td>...</td>\n",
       "      <td>...</td>\n",
       "    </tr>\n",
       "    <tr>\n",
       "      <th>153159</th>\n",
       "      <td>fffcd0960ee309b5</td>\n",
       "      <td>i totally agree this stuff is nothing but too ...</td>\n",
       "    </tr>\n",
       "    <tr>\n",
       "      <th>153160</th>\n",
       "      <td>fffd7a9a6eb32c16</td>\n",
       "      <td>throw from out field to home plate does it get...</td>\n",
       "    </tr>\n",
       "    <tr>\n",
       "      <th>153161</th>\n",
       "      <td>fffda9e8d6fafa9e</td>\n",
       "      <td>okinotorishima categories i see your changes a...</td>\n",
       "    </tr>\n",
       "    <tr>\n",
       "      <th>153162</th>\n",
       "      <td>fffe8f1340a79fc2</td>\n",
       "      <td>one of the founding nations of the eu germany ...</td>\n",
       "    </tr>\n",
       "    <tr>\n",
       "      <th>153163</th>\n",
       "      <td>ffffce3fb183ee80</td>\n",
       "      <td>stop already your bullshit is not welcome here...</td>\n",
       "    </tr>\n",
       "  </tbody>\n",
       "</table>\n",
       "<p>153164 rows × 2 columns</p>\n",
       "</div>"
      ],
      "text/plain": [
       "                      id                                       comment_text\n",
       "0       00001cee341fdb12  yo bitch ja rule is more succesful then you wi...\n",
       "1       0000247867823ef7            from rfc the title is fine as it is imo\n",
       "2       00013b17ad220c46                     sources zawe ashton on lapland\n",
       "3       00017563c3f7919a  if you have a look back at the source the info...\n",
       "4       00017695ad8997eb          i do not anonymously edit articles at all\n",
       "...                  ...                                                ...\n",
       "153159  fffcd0960ee309b5  i totally agree this stuff is nothing but too ...\n",
       "153160  fffd7a9a6eb32c16  throw from out field to home plate does it get...\n",
       "153161  fffda9e8d6fafa9e  okinotorishima categories i see your changes a...\n",
       "153162  fffe8f1340a79fc2  one of the founding nations of the eu germany ...\n",
       "153163  ffffce3fb183ee80  stop already your bullshit is not welcome here...\n",
       "\n",
       "[153164 rows x 2 columns]"
      ]
     },
     "execution_count": 41,
     "metadata": {},
     "output_type": "execute_result"
    }
   ],
   "source": [
    "test ['comment_text'] = test ['comment_text'].map (lambda text : remove_other_chars (text.lower ()))\n",
    "test"
   ]
  },
  {
   "cell_type": "markdown",
   "id": "8cb62dd3",
   "metadata": {},
   "source": [
    "As we can see, the repetitive punctuations and the white space characters in the `comment_text` for both `test` and `train` data are now gone. We can say that our data is now clean. \n",
    "\n",
    "Although, we can see that there are still misspellings, this would not be cleaned. "
   ]
  },
  {
   "cell_type": "markdown",
   "id": "ce5a1735",
   "metadata": {},
   "source": [
    "## Feature Engineering\n",
    "As we are dealing with text data, we would have to create a feature that we can feed to our models. This can be done by transforming the `comment_text` column into a feature that our models can use. \n",
    "\n",
    "In Natural Language Processing, one of the most utilized methods in feature engineering for classifying text data is the use of vectorization. But, before we do that, let us extract the feature column for both the train and test data."
   ]
  },
  {
   "cell_type": "code",
   "execution_count": 42,
   "id": "fe0ed90c-d06f-463a-af23-438a41c7495f",
   "metadata": {},
   "outputs": [],
   "source": [
    "X_train = train ['comment_text']\n",
    "X_test = test ['comment_text']"
   ]
  },
  {
   "cell_type": "markdown",
   "id": "b8d49372",
   "metadata": {},
   "source": [
    "To ensure that the best model was found, the accuracy would be compared using the two well-known vectors in Natural Language Processing: (1) TF-IDF (Term Frequency - Inverse Document Frequency) Vectorization, and (2) Count Vectorization. Thus, two vectorizers would be declared."
   ]
  },
  {
   "cell_type": "code",
   "execution_count": 43,
   "id": "e70cc4a3",
   "metadata": {},
   "outputs": [],
   "source": [
    "tfidf_vectorizer = TfidfVectorizer()"
   ]
  },
  {
   "cell_type": "code",
   "execution_count": 44,
   "id": "e36a848e",
   "metadata": {},
   "outputs": [],
   "source": [
    "count_vectorizer = CountVectorizer()"
   ]
  },
  {
   "cell_type": "markdown",
   "id": "0f7feb29",
   "metadata": {},
   "source": [
    "Furthermore, a copy of the vectorizer that only takes into account the top 5000 features is also created for each of the vectorizers."
   ]
  },
  {
   "cell_type": "code",
   "execution_count": 45,
   "id": "6f41261f",
   "metadata": {},
   "outputs": [],
   "source": [
    "tfidf_vectorizer_5000 = TfidfVectorizer(, max_features = 5000)"
   ]
  },
  {
   "cell_type": "code",
   "execution_count": 46,
   "id": "b70c7c36",
   "metadata": {},
   "outputs": [],
   "source": [
    "count_vectorizer_5000 = CountVectorizer(, max_features = 5000)"
   ]
  },
  {
   "cell_type": "markdown",
   "id": "18498193",
   "metadata": {},
   "source": [
    "The idea behind the **TF-IDF Vector** is that it is able to represent how important a word is in a given document, and documents with similar important words would have similar vectors. Thus, if a documents have similar vectors, then we could classify the test document into the similar class as the train document. Meanwhile, the **Count Vector** shows the number of occurrences of a word in a given document."
   ]
  },
  {
   "cell_type": "markdown",
   "id": "f9cc2ad7",
   "metadata": {},
   "source": [
    "Once the vectorizers are made, we can learn the vocabulary and fit the vectors from the training set. Additionally, we can get the learned document-term matrix using the `fit_transform` function."
   ]
  },
  {
   "cell_type": "code",
   "execution_count": 47,
   "id": "d8539084-37b8-45f3-8e1f-8eff5f3bcf3a",
   "metadata": {},
   "outputs": [],
   "source": [
    "tfidf_train = tfidf_vectorizer.fit_transform(X_train)"
   ]
  },
  {
   "cell_type": "code",
   "execution_count": 48,
   "id": "b45ce614-7fd4-4294-8ad9-34194560cead",
   "metadata": {},
   "outputs": [],
   "source": [
    "count_train = count_vectorizer.fit_transform(X_train)"
   ]
  },
  {
   "cell_type": "code",
   "execution_count": 49,
   "id": "b96ae8a8",
   "metadata": {},
   "outputs": [],
   "source": [
    "tfidf_train_5000 = tfidf_vectorizer_5000.fit_transform(X_train)"
   ]
  },
  {
   "cell_type": "code",
   "execution_count": 50,
   "id": "6457fea8",
   "metadata": {},
   "outputs": [],
   "source": [
    "count_train_5000 = count_vectorizer_5000.fit_transform(X_train)"
   ]
  },
  {
   "cell_type": "markdown",
   "id": "2fe8d0da",
   "metadata": {},
   "source": [
    "As we now have trained our vectors, we can now use these to get the corresponding document-term matrix of our test data."
   ]
  },
  {
   "cell_type": "code",
   "execution_count": 51,
   "id": "2aaf58b0",
   "metadata": {},
   "outputs": [],
   "source": [
    "tfidf_test = tfidf_vectorizer.transform(X_test)"
   ]
  },
  {
   "cell_type": "code",
   "execution_count": 52,
   "id": "578c7b4e",
   "metadata": {},
   "outputs": [],
   "source": [
    "count_test = count_vectorizer.transform(X_test)"
   ]
  },
  {
   "cell_type": "code",
   "execution_count": 53,
   "id": "0582903d",
   "metadata": {
    "scrolled": true
   },
   "outputs": [],
   "source": [
    "tfidf_test_5000 = tfidf_vectorizer_5000.transform(X_test)"
   ]
  },
  {
   "cell_type": "code",
   "execution_count": 54,
   "id": "becf9eae",
   "metadata": {},
   "outputs": [],
   "source": [
    "count_test_5000 = count_vectorizer_5000.transform(X_test)"
   ]
  },
  {
   "cell_type": "markdown",
   "id": "71fbfd7a-d192-4ca2-bfa1-6a4d52315cbb",
   "metadata": {},
   "source": [
    "## Trying different Models\n",
    "As we aim to find the best model that would label the given text, we experimented on different models and methods of classification in another notebook. Thus, we would need to save the cleaned train and test datasets so that we can load it."
   ]
  },
  {
   "cell_type": "code",
   "execution_count": 55,
   "id": "aeb6160e",
   "metadata": {},
   "outputs": [],
   "source": [
    "train.to_csv(f'cleaned_data/cleaned_train.csv', index = False) \n",
    "test.to_csv(f'cleaned_data/cleaned_test.csv', index = False) "
   ]
  },
  {
   "cell_type": "markdown",
   "id": "df26ae11",
   "metadata": {},
   "source": [
    "The experimentation of the different models can be found in a [`supplementary notebook`](ToxicComment_S13_Group8_Supplementary.ipynb). Note that due to the number of models tested and tuned, running the **supplementary notebook** is **NOT** advised as training and tuning would take a lot of time and memory space."
   ]
  },
  {
   "cell_type": "markdown",
   "id": "f5bbead2",
   "metadata": {},
   "source": [
    "## Best Model\n",
    "From this experimentation, it was found that the best model is **Logistic Regression** using the **MultiOutputClassifier** apparoach that was trained using a **TF-IDF Vector**"
   ]
  },
  {
   "cell_type": "markdown",
   "id": "ac4fdf03",
   "metadata": {},
   "source": [
    "### Model Training\n",
    "As the task that was given in the challenge needs a multi-label classifier, we had three things to decided on: (1) the approach that would be used (i.e., an n-classifier approach or a 1-classifier approach), (2) the estimator that would be utilized, and (3) for the n-classifier, the meta-estimator that we would use.\n",
    "\n",
    "As the score is important to the challenge, we decided to compare the score output of the n-classifiers and 1-classifier. Thus, we can move on with the next question: What estimator should we utilize?"
   ]
  },
  {
   "cell_type": "markdown",
   "id": "2d54b2cd",
   "metadata": {},
   "source": [
    "#### Initializing Variables"
   ]
  },
  {
   "cell_type": "code",
   "execution_count": 56,
   "id": "165449f7",
   "metadata": {},
   "outputs": [],
   "source": [
    "y_train = train.loc [ : , 'toxic' : ]"
   ]
  },
  {
   "cell_type": "markdown",
   "id": "fc0601c0",
   "metadata": {},
   "source": [
    "#### Declaring Helper Functions"
   ]
  },
  {
   "cell_type": "code",
   "execution_count": 57,
   "id": "1d6d35b1",
   "metadata": {
    "scrolled": true
   },
   "outputs": [],
   "source": [
    "sample_submission = pd.read_csv('data/sample_submission.csv')\n",
    "sample_submission ['id'] = test ['id']"
   ]
  },
  {
   "cell_type": "code",
   "execution_count": 58,
   "id": "f8c3c472",
   "metadata": {},
   "outputs": [],
   "source": [
    "def to_submission_csv(predictions, filename):\n",
    "    for i in range (6):\n",
    "        sample_submission[classes [i]] = predictions[:, i : i + 1]\n",
    "\n",
    "    sample_submission.to_csv(f'results/' + filename + '.csv', index = False) "
   ]
  },
  {
   "cell_type": "code",
   "execution_count": 59,
   "id": "1735ea4d",
   "metadata": {},
   "outputs": [],
   "source": [
    "def to_submission_csv_multiclass(predictions, filename):\n",
    "    for i in range (6):\n",
    "        temp = list(zip(*predictions[i]))\n",
    "        sample_submission[classes [i]] = temp[1]\n",
    "\n",
    "    sample_submission.to_csv(f'results/' + filename + '.csv', index = False)     "
   ]
  },
  {
   "cell_type": "code",
   "execution_count": 60,
   "id": "e6615ec5",
   "metadata": {},
   "outputs": [],
   "source": [
    "def train_models(model, X_train, X_test):\n",
    "    \"\"\"Trains six models using a given train and test set.\n",
    "\n",
    "    Parameters\n",
    "    ----------\n",
    "    model : estimator object\n",
    "        the type of estimator to be trained \n",
    "    X_train : \n",
    "        the data used in fitting the model\n",
    "    X_test : \n",
    "        the data to be predicted\n",
    "\n",
    "    Returns\n",
    "    -------\n",
    "    models\n",
    "        a list of fitted estimator objects\n",
    "    test_predictions\n",
    "        a list of prediction probabilities by the fitted model\n",
    "    \"\"\"\n",
    "    \n",
    "    test_predictions = np.zeros((len(test), len(classes)))                  # initialize empty list for predictions\n",
    "    models = []                                                             # initialize empty list for models\n",
    "    train_accuracy = []\n",
    "    \n",
    "    \n",
    "    print('Fitting', str(model) + '...')\n",
    "    \n",
    "    for i in range(6):                                                      # loop for each of six classes\n",
    "        \n",
    "        model.fit(X_train, y_train[classes[i]])                             # fit the model\n",
    "        \n",
    "        train_predictions = model.predict(X_train)                          # predict using train data\n",
    "        accuracy = accuracy_score(train_predictions, y_train[classes[i]])   # get training accuracy \n",
    "        print(classes[i] + ':', accuracy)\n",
    "        \n",
    "        test_predictions[:,i] = model.predict_proba(X_test)[:,1]            # predict using test data\n",
    "        \n",
    "        models += [model]\n",
    "        train_accuracy += [accuracy]\n",
    "    \n",
    "    print('\\nOverall training accuracy:', np.mean(train_accuracy))\n",
    "    \n",
    "    return models, test_predictions"
   ]
  },
  {
   "cell_type": "code",
   "execution_count": 61,
   "id": "417d3ed8",
   "metadata": {},
   "outputs": [],
   "source": [
    "def train_model(model, X_train, X_test, dense=False):\n",
    "    \"\"\"Trains a model using a given train and test set.\n",
    "\n",
    "    Parameters\n",
    "    ----------\n",
    "    model : estimator object\n",
    "        the type of estimator to be trained \n",
    "    X_train : \n",
    "        the data used in fitting the model\n",
    "    X_test : \n",
    "        the data to be predicted\n",
    "    dense : \n",
    "        a boolean value indicating if the predictions need to be converted to dense\n",
    "\n",
    "    Returns\n",
    "    -------\n",
    "    model\n",
    "        a fitted estimator object\n",
    "    test_predictions\n",
    "        a list of prediction probabilities by the fitted model\n",
    "    \"\"\"\n",
    "    \n",
    "    print('Fitting', str(model) + '...')\n",
    "    \n",
    "    model.fit(X_train, y_train)                                               # fit the model\n",
    "    train_predictions = model.predict(X_train)                                # predict using train data\n",
    "    \n",
    "    if dense:                                           \n",
    "        train_predictions = train_predictions.todense()                       # convert predictions to dense\n",
    "        \n",
    "    accuracy = accuracy_score(train_predictions, y_train)                     # get training accuracy \n",
    "    print(accuracy)                                                        \n",
    "    \n",
    "    test_predictions = model.predict_proba(X_test)                            # predict using test data\n",
    "    \n",
    "    return model, test_predictions"
   ]
  },
  {
   "cell_type": "code",
   "execution_count": 62,
   "id": "e967058a",
   "metadata": {},
   "outputs": [],
   "source": [
    "def tune_and_train_model(model, hyperparameters, X_train, X_test, scoring='accuracy', dense=False):\n",
    "    \"\"\"Tunes a model using a given train and test set.\n",
    "\n",
    "    Parameters\n",
    "    ----------\n",
    "    model : estimator object\n",
    "        the type of estimator to be trained \n",
    "    hyperparameters : estimator object\n",
    "        the hyperparameters used for tuning the model  \n",
    "    X_train : \n",
    "        the data used in fitting the model\n",
    "    X_test : \n",
    "        the data to be predicted\n",
    "    scoring : \n",
    "        the metric for deciding the best combination of parameters\n",
    "    dense : \n",
    "        a boolean value indicating if the predictions need to be converted to dense\n",
    "\n",
    "    Returns\n",
    "    -------\n",
    "    model\n",
    "        a  fitted estimator object\n",
    "    test_predictions\n",
    "        a list of prediction probabilities by the fitted model\n",
    "    \"\"\"\n",
    "    \n",
    "    print('Tuning', str(model) + '...')\n",
    "\n",
    "    model_cv = GridSearchCV(model, hyperparameters, \n",
    "                            cv=2, scoring=scoring)\n",
    "    model_cv.fit(X_train, y_train)\n",
    "\n",
    "    train_predictions = model_cv.predict(X_train)                                # predict using train data\n",
    "    \n",
    "    if dense:                                           \n",
    "        train_predictions = train_predictions.todense()                          # convert predictions to dense\n",
    "        \n",
    "    accuracy = accuracy_score(train_predictions, y_train)                        # get training accuracy \n",
    "    print(accuracy, model_cv.best_params_)                                                        \n",
    "    \n",
    "    test_predictions = model_cv.predict_proba(X_test)                            # predict using test data\n",
    "    \n",
    "    return model_cv, test_predictions"
   ]
  },
  {
   "cell_type": "markdown",
   "id": "64199a42",
   "metadata": {},
   "source": [
    "#### Deciding on the Estimator\n",
    "For the estimator, we decided to compare the n-classifiers of Multinomial Naive Bayes and Logistic Regression, as these are the two estimators that are widely used for text classification. The one that yielded a higher score would be the one utilized in further experiements.\n",
    "\n",
    "First, we will be declaring a MultinomialNB() object with default parameters, which will serve as the base classifier."
   ]
  },
  {
   "cell_type": "code",
   "execution_count": 63,
   "id": "82797333",
   "metadata": {},
   "outputs": [],
   "source": [
    "mn = MultinomialNB()"
   ]
  },
  {
   "cell_type": "markdown",
   "id": "38eeedab",
   "metadata": {},
   "source": [
    "This model will first be trained using the count vectorized train data."
   ]
  },
  {
   "cell_type": "code",
   "execution_count": 64,
   "id": "fdf240f5",
   "metadata": {},
   "outputs": [
    {
     "name": "stdout",
     "output_type": "stream",
     "text": [
      "Fitting MultinomialNB()...\n",
      "toxic: 0.9553928972056326\n",
      "severe_toxic: 0.9874225266495792\n",
      "obscene: 0.9714923137662859\n",
      "threat: 0.995838842897519\n",
      "insult: 0.9673624906781307\n",
      "identity_hate: 0.9887824228713238\n",
      "\n",
      "Overall training accuracy: 0.9777152490114119\n",
      "Wall time: 3.12 s\n"
     ]
    }
   ],
   "source": [
    "%%time\n",
    "mn_models_count, predictions_mn_count = train_models(mn, count_train, count_test)\n",
    "to_submission_csv(predictions_mn_count, 'submission_mn_count')"
   ]
  },
  {
   "cell_type": "markdown",
   "id": "ecd68a11",
   "metadata": {},
   "source": [
    "Then, the model will be trained with a TF-IDF vector as an input."
   ]
  },
  {
   "cell_type": "code",
   "execution_count": 65,
   "id": "9125160e",
   "metadata": {},
   "outputs": [
    {
     "name": "stdout",
     "output_type": "stream",
     "text": [
      "Fitting MultinomialNB()...\n",
      "toxic: 0.9280633699105727\n",
      "severe_toxic: 0.9899355145985173\n",
      "obscene: 0.9559130418434427\n",
      "threat: 0.9969794010189822\n",
      "insult: 0.9544528767758552\n",
      "identity_hate: 0.9911324739457671\n",
      "\n",
      "Overall training accuracy: 0.9694127796821895\n",
      "Wall time: 2.65 s\n"
     ]
    }
   ],
   "source": [
    "%%time\n",
    "mn_models_tfidf, predictions_mn_tfidf = train_models(mn, tfidf_train, tfidf_test)\n",
    "to_submission_csv(predictions_mn_tfidf, 'submission_mn_tfidf')"
   ]
  },
  {
   "cell_type": "markdown",
   "id": "7d538f13",
   "metadata": {},
   "source": [
    "From the output of the Multinomial Naive Bayes, we can see that the one that used a TF-IDF vector is faster in executing and had a higher score than the Count vector.\n",
    "\n",
    "Next, a Logistic Regression model will be created with default parameters, except for the `class_weight`, which will be equated to **balanced**. This is needed because of the imbalance in the class frequencies in the data."
   ]
  },
  {
   "cell_type": "code",
   "execution_count": 66,
   "id": "8af448c2",
   "metadata": {},
   "outputs": [],
   "source": [
    "lr = LogisticRegression(n_jobs=-1, class_weight='balanced')"
   ]
  },
  {
   "cell_type": "markdown",
   "id": "25baf044",
   "metadata": {},
   "source": [
    "Using the created model, we will be training a model with a Count vector as its input."
   ]
  },
  {
   "cell_type": "code",
   "execution_count": 67,
   "id": "c0b84c07",
   "metadata": {},
   "outputs": [
    {
     "name": "stdout",
     "output_type": "stream",
     "text": [
      "Fitting LogisticRegression(class_weight='balanced', n_jobs=-1)...\n",
      "toxic: 0.970846833071172\n",
      "severe_toxic: 0.9753651979369685\n",
      "obscene: 0.9785863346096721\n",
      "threat: 0.9952998978511133\n",
      "insult: 0.9656955211159922\n",
      "identity_hate: 0.983461907238784\n",
      "\n",
      "Overall training accuracy: 0.9782092819706169\n",
      "Wall time: 47.7 s\n"
     ]
    }
   ],
   "source": [
    "%%time\n",
    "lr_models_count, predictions_lr_count = train_models(lr, count_train, count_test)\n",
    "to_submission_csv(predictions_lr_count, 'submission_lr_count')"
   ]
  },
  {
   "cell_type": "markdown",
   "id": "67464e20",
   "metadata": {},
   "source": [
    "Like in the Multinomial Naive Bayes model, we will also be training a model that utilizes a TF-IDF as an input."
   ]
  },
  {
   "cell_type": "code",
   "execution_count": 68,
   "id": "3b08b2a7",
   "metadata": {},
   "outputs": [
    {
     "name": "stdout",
     "output_type": "stream",
     "text": [
      "Fitting LogisticRegression(class_weight='balanced', n_jobs=-1)...\n",
      "toxic: 0.96097661855851\n",
      "severe_toxic: 0.9799712980428774\n",
      "obscene: 0.9823025487087252\n",
      "threat: 0.9938021319663347\n",
      "insult: 0.9699068126413948\n",
      "identity_hate: 0.9818388052967018\n",
      "\n",
      "Overall training accuracy: 0.9781330358690906\n",
      "Wall time: 37.4 s\n"
     ]
    }
   ],
   "source": [
    "%%time\n",
    "lr_models_tfidf, predictions_lr_tfidf = train_models(lr, tfidf_train, tfidf_test)\n",
    "to_submission_csv(predictions_lr_tfidf, 'submission_lr_tfidf')"
   ]
  },
  {
   "cell_type": "markdown",
   "id": "edfcf703",
   "metadata": {},
   "source": [
    "The resulting files from these models were submitted to the challenge in Kaggle, which resulted in the following private and public score.\n",
    "\n",
    "<style type=\"text/css\">\n",
    ".tg  {border-collapse:collapse;border-spacing:0;}\n",
    ".tg td{border-color:black;border-style:solid;border-width:1px;font-family:Arial, sans-serif;font-size:14px;\n",
    "  overflow:hidden;padding:10px 5px;word-break:normal;}\n",
    ".tg th{border-color:black;border-style:solid;border-width:1px;font-family:Arial, sans-serif;font-size:14px;\n",
    "  font-weight:normal;overflow:hidden;padding:10px 5px;word-break:normal;}\n",
    ".tg .tg-1wig{font-weight:bold;text-align:left;vertical-align:top}\n",
    ".tg .tg-baqh{text-align:center;vertical-align:top}\n",
    "</style>\n",
    "<table class=\"tg\">\n",
    "<thead>\n",
    "  <tr>\n",
    "    <th class=\"tg-1wig\"></th>\n",
    "    <th class=\"tg-1wig\">private</th>\n",
    "    <th class=\"tg-1wig\">public</th>\n",
    "  </tr>\n",
    "</thead>\n",
    "<tbody>\n",
    "  <tr>\n",
    "    <td class=\"tg-baqh\">submission_mn_count</td>\n",
    "    <td class=\"tg-baqh\">0.93984</td>\n",
    "    <td class=\"tg-baqh\">0.93910</td>\n",
    "  </tr>\n",
    "  <tr>\n",
    "    <td class=\"tg-baqh\">submission_mn_tfidf</td>\n",
    "    <td class=\"tg-baqh\">0.95808</td>\n",
    "    <td class=\"tg-baqh\">0.95743</td>\n",
    "  </tr>\n",
    "  <tr>\n",
    "    <td class=\"tg-baqh\">submission_lr_count</td>\n",
    "    <td class=\"tg-baqh\">0.94598</td>\n",
    "    <td class=\"tg-baqh\">0.94576</td>\n",
    "  </tr>\n",
    "  <tr>\n",
    "    <td class=\"tg-baqh\">submission_lr_tfidf</td>\n",
    "    <td class=\"tg-baqh\">0.96722</td>\n",
    "    <td class=\"tg-baqh\">0.96664</td>\n",
    "  </tr>\n",
    "  <tr>\n",
    "</tbody>\n",
    "</table>\n",
    "\n",
    "From this, we can see that the models that utilize Logistic Regression were higher than their counterpart in Multinomial Naive Bayes (i.e., the one that used the same input vector). Thus, we have decided to continue with using Logistic Regression as the estimator."
   ]
  },
  {
   "cell_type": "markdown",
   "id": "118b917b",
   "metadata": {},
   "source": [
    "#### Deciding on the Meta-Estimator\n",
    "Next, as we already have our estimator, we can now continue with deciding the meta-estimator, which would be utilized for the 1-classifier. For multi-label classifiers, there is two main approaches: (1) Classifier Chain, and (2) Binary Relevance. ClassifierChain is the approach used if there are dependencies between the labels, while Binary Relevance is an intuitive approach for multi-label classification, which is fitting one classifier each for the labels (i.e., what we are doing in the n-classifiers). \n",
    "\n",
    "As we have seen in the EDA that the correlations between some of the labels are low, we have decided to continue with Binary Relevance. Thus, we will be creating a Binary Relevance object with a Logistic Regression model as its estimator."
   ]
  },
  {
   "cell_type": "raw",
   "id": "6da5833c",
   "metadata": {},
   "source": [
    "br_lr = BinaryRelevance(LogisticRegression(n_jobs=-1, class_weight='balanced'))"
   ]
  },
  {
   "cell_type": "markdown",
   "id": "dbd6de47",
   "metadata": {},
   "source": [
    "Then, a model would be trained using a Count vector with 5000 features. The maximum features utilized by this model would avoid memory errors as this model has a higher memory need than other multi-label or multi-class classifiers."
   ]
  },
  {
   "cell_type": "raw",
   "id": "d32d227b",
   "metadata": {},
   "source": [
    "%%time\n",
    "br_lr_model_count, predictions_br_lr_count = train_model(br_lr, count_train_5000, count_test_5000, dense=True)\n",
    "to_submission_csv_multiclass(predictions_br_lr_count, 'submission_br_lr_count')"
   ]
  },
  {
   "cell_type": "markdown",
   "id": "24c64f86",
   "metadata": {},
   "source": [
    "Likewise, we would be training a model with a TF-IDF vector (with 5000 features) as its input."
   ]
  },
  {
   "cell_type": "raw",
   "id": "d1d7533e",
   "metadata": {},
   "source": [
    "%%time\n",
    "br_lr_model_tfidf, predictions_br_lr_tfidf = train_model(br_lr, tfidf_train_5000, tfidf_test_5000, dense=True)\n",
    "to_submission_csv_multiclass(predictions_br_lr_tfidf, 'submission_br_lr_tfidf')"
   ]
  },
  {
   "cell_type": "markdown",
   "id": "a4166e3d",
   "metadata": {},
   "source": [
    "#### Finding a Substitute for Binary Relevance\n",
    "Due to the high resource needs of Binary Relevance and its speed (i.e., training for nine hours on an 8GB RAM), we tried to find a model that utilizes the same idea as Binary Relevance but faster. With this, we found `MultiOutputClassifier` and `OneVsRestClassifier`. Although `OneVsRestClassifier` is natively used as a multi-class classifier, it can also be used as a multi-label, wherein it would turn into comparing the probability of belonging into a label, rather than determining which label an instance belongs to. Thus, we would be creating models for each of these classifiers.\n",
    "\n",
    "First, we would be creating a `MultiOutputClassifier` object with a `LogisticRegression` base estimator. "
   ]
  },
  {
   "cell_type": "code",
   "execution_count": 69,
   "id": "4f388872",
   "metadata": {},
   "outputs": [],
   "source": [
    "mo_lr = MultiOutputClassifier(LogisticRegression(n_jobs=-1, class_weight='balanced'))"
   ]
  },
  {
   "cell_type": "markdown",
   "id": "203c0af1",
   "metadata": {},
   "source": [
    "A copy of this model would be trained using a Count vector with no explicitly declared number of maximum number of features, as the `MultiOutputClassifier` can handle the total number of features created by a default Count vector."
   ]
  },
  {
   "cell_type": "code",
   "execution_count": 70,
   "id": "f07ce11f",
   "metadata": {},
   "outputs": [
    {
     "name": "stdout",
     "output_type": "stream",
     "text": [
      "Fitting MultiOutputClassifier(estimator=LogisticRegression(class_weight='balanced',\n",
      "                                                   n_jobs=-1))...\n",
      "0.9075583909356963\n",
      "Wall time: 43.2 s\n"
     ]
    }
   ],
   "source": [
    "%%time\n",
    "mo_lr_model_count, predictions_mo_lr_count = train_model(mo_lr, count_train, count_test)\n",
    "to_submission_csv_multiclass(predictions_mo_lr_count, 'submission_mo_lr_count')"
   ]
  },
  {
   "cell_type": "markdown",
   "id": "363a6d1b",
   "metadata": {},
   "source": [
    "Afterward, another copy of this model would be trained with a TF-IDF vector."
   ]
  },
  {
   "cell_type": "code",
   "execution_count": 71,
   "id": "cfae7177",
   "metadata": {},
   "outputs": [
    {
     "name": "stdout",
     "output_type": "stream",
     "text": [
      "Fitting MultiOutputClassifier(estimator=LogisticRegression(class_weight='balanced',\n",
      "                                                   n_jobs=-1))...\n",
      "0.9101089797018255\n",
      "Wall time: 35.2 s\n"
     ]
    }
   ],
   "source": [
    "%%time\n",
    "mo_lr_model_tfidf, predictions_mo_lr_tfidf = train_model(mo_lr, tfidf_train, tfidf_test)\n",
    "to_submission_csv_multiclass(predictions_mo_lr_tfidf, 'submission_mo_lr_tfidf')"
   ]
  },
  {
   "cell_type": "markdown",
   "id": "6e1efb61",
   "metadata": {},
   "source": [
    "On the other hand, we would also be creating a `OneVsRestClassifier` object with the same base estimator."
   ]
  },
  {
   "cell_type": "code",
   "execution_count": 72,
   "id": "140b6405",
   "metadata": {},
   "outputs": [],
   "source": [
    "oc_lr = OneVsRestClassifier(LogisticRegression(class_weight='balanced'))"
   ]
  },
  {
   "cell_type": "markdown",
   "id": "0081c686",
   "metadata": {},
   "source": [
    "Like for the previous models, we would first be using a Count vector to train this model."
   ]
  },
  {
   "cell_type": "code",
   "execution_count": 73,
   "id": "c20c767b",
   "metadata": {},
   "outputs": [
    {
     "name": "stdout",
     "output_type": "stream",
     "text": [
      "Fitting OneVsRestClassifier(estimator=LogisticRegression(class_weight='balanced'))...\n",
      "0.9090310896090141\n",
      "Wall time: 43.5 s\n"
     ]
    }
   ],
   "source": [
    "%%time\n",
    "oc_lr_model_count, predictions_oc_lr_count = train_model(oc_lr, count_train, count_test)\n",
    "to_submission_csv(predictions_oc_lr_count, 'submission_oc_lr_count')"
   ]
  },
  {
   "cell_type": "markdown",
   "id": "7ea23ffd",
   "metadata": {},
   "source": [
    "Meanwhile, a copy of this model would be trained using a TF-IDF vector."
   ]
  },
  {
   "cell_type": "code",
   "execution_count": 74,
   "id": "f8438aad",
   "metadata": {
    "scrolled": false
   },
   "outputs": [
    {
     "name": "stdout",
     "output_type": "stream",
     "text": [
      "Fitting OneVsRestClassifier(estimator=LogisticRegression(class_weight='balanced'))...\n",
      "0.91009017929323\n",
      "Wall time: 36.6 s\n"
     ]
    }
   ],
   "source": [
    "%%time\n",
    "oc_lr_model_tfidf, predictions_oc_lr_tfidf = train_model(oc_lr, tfidf_train, tfidf_test)\n",
    "to_submission_csv(predictions_oc_lr_tfidf, 'submission_oc_lr_tfidf')"
   ]
  },
  {
   "cell_type": "markdown",
   "id": "260330a2",
   "metadata": {},
   "source": [
    "<style type=\"text/css\">\n",
    ".tg  {border-collapse:collapse;border-spacing:0;}\n",
    ".tg td{border-color:black;border-style:solid;border-width:1px;font-family:Arial, sans-serif;font-size:14px;\n",
    "  overflow:hidden;padding:10px 5px;word-break:normal;}\n",
    ".tg th{border-color:black;border-style:solid;border-width:1px;font-family:Arial, sans-serif;font-size:14px;\n",
    "  font-weight:normal;overflow:hidden;padding:10px 5px;word-break:normal;}\n",
    ".tg .tg-1wig{font-weight:bold;text-align:left;vertical-align:top}\n",
    ".tg .tg-baqh{text-align:center;vertical-align:top}\n",
    "</style>\n",
    "<table class=\"tg\">\n",
    "<thead>\n",
    "  <tr>\n",
    "    <th class=\"tg-1wig\"></th>\n",
    "    <th class=\"tg-1wig\">private</th>\n",
    "    <th class=\"tg-1wig\">public</th>\n",
    "  </tr>\n",
    "</thead>\n",
    "<tbody>\n",
    "  <tr>\n",
    "    <td class=\"tg-baqh\">submission_mo_lr_count</td>\n",
    "    <td class=\"tg-baqh\">0.94598</td>\n",
    "    <td class=\"tg-baqh\">0.94576</td>\n",
    "  </tr>\n",
    "  <tr>\n",
    "    <td class=\"tg-baqh\">submission_mo_lr_tfidf</td>\n",
    "    <td class=\"tg-baqh\">0.95808</td>\n",
    "    <td class=\"tg-baqh\">0.95743</td>\n",
    "  </tr>\n",
    "  <tr>\n",
    "    <td class=\"tg-baqh\">submission_oc_lr_count</td>\n",
    "    <td class=\"tg-baqh\">0.94598</td>\n",
    "    <td class=\"tg-baqh\">0.94576</td>\n",
    "  </tr>\n",
    "  <tr>\n",
    "    <td class=\"tg-baqh\">submission_oc_lr_tfidf</td>\n",
    "    <td class=\"tg-baqh\">0.96722</td>\n",
    "    <td class=\"tg-baqh\">0.96664</td>\n",
    "  </tr>\n",
    "  <tr>\n",
    "</tbody>\n",
    "</table>\n",
    "\n",
    "Using the ROC AUC scores given by the competition, we can see that the scores of the models are almost the same, with only a small difference for their public score. Thus, a formula was created to take into account the whole test set (i.e., both the private and the public score). With this, we will be tuning the `MultiOutputClassifier`."
   ]
  },
  {
   "cell_type": "markdown",
   "id": "29cadb7f",
   "metadata": {},
   "source": [
    "### Hyperparameter Tuning and Feature Selection"
   ]
  },
  {
   "cell_type": "code",
   "execution_count": null,
   "id": "ed5a780f",
   "metadata": {},
   "outputs": [],
   "source": [
    "parameters_lr_mo = [{\n",
    "    'estimator__C': [0.01, 0.1, 1, 10],           \n",
    "    'estimator__max_iter': [100, 300, 600, 900, 1200], \n",
    "}]"
   ]
  },
  {
   "cell_type": "code",
   "execution_count": null,
   "id": "55a46e85",
   "metadata": {},
   "outputs": [],
   "source": [
    "%%time\n",
    "mo_lr = MultiOutputClassifier(LogisticRegression(n_jobs=-1, class_weight='balanced'))\n",
    "mo_lr_model_count_tuned, predictions_mo_lr_count_tuned = tune_and_train_model(mo_lr, \n",
    "                                                                              parameters_lr_mo, \n",
    "                                                                              count_train, \n",
    "                                                                              count_test)\n",
    "to_submission_csv_multiclass(predictions_mo_lr_count_tuned, 'submission_mo_lr_count_tuned')"
   ]
  },
  {
   "cell_type": "code",
   "execution_count": null,
   "id": "8d1fcc45",
   "metadata": {},
   "outputs": [],
   "source": [
    "%%time\n",
    "mo_lr = MultiOutputClassifier(LogisticRegression(n_jobs=-1, class_weight='balanced'))\n",
    "mo_lr_model_tfidf_tuned, predictions_mo_lr_tfidf_tuned = tune_and_train_model(mo_lr, \n",
    "                                                                              parameters_lr_mo, \n",
    "                                                                              tfidf_train, \n",
    "                                                                              tfidf_test)\n",
    "to_submission_csv_multiclass(predictions_mo_lr_tfidf_tuned, 'submission_mo_lr_tfidf_tuned')"
   ]
  },
  {
   "cell_type": "markdown",
   "id": "d5a380cb",
   "metadata": {},
   "source": [
    "### Model Selection"
   ]
  },
  {
   "cell_type": "code",
   "execution_count": null,
   "id": "45482b1b",
   "metadata": {
    "tags": []
   },
   "outputs": [],
   "source": [
    "best_model = MultiOutputClassifier(LogisticRegression(n_jobs=-1, class_weight='balanced', C = 0.01, max_iter = 100))"
   ]
  },
  {
   "cell_type": "code",
   "execution_count": null,
   "id": "ea80ecce",
   "metadata": {},
   "outputs": [],
   "source": [
    "best_model, predictions_mo_lr_tfidf_tuned =  train_model(best_model, tfidf_train, tfidf_test)\n",
    "to_submission_csv_multiclass(predictions_mo_lr_tfidf_tuned, 'submission_mo_lr_tfidf_tuned')"
   ]
  },
  {
   "cell_type": "markdown",
   "id": "7fc5da26",
   "metadata": {},
   "source": [
    "## Insights and Conclusions"
   ]
  },
  {
   "cell_type": "markdown",
   "id": "92eec215",
   "metadata": {},
   "source": [
    "## Testing the Model"
   ]
  },
  {
   "cell_type": "code",
   "execution_count": null,
   "id": "514ab3f5",
   "metadata": {},
   "outputs": [],
   "source": [
    "def clean_test (text):\n",
    "    text = text.lower()\n",
    "    text = expand_contractions (text)\n",
    "    text = remove_other_chars (text)\n",
    "    return text"
   ]
  },
  {
   "cell_type": "code",
   "execution_count": null,
   "id": "75dd5e98",
   "metadata": {
    "tags": []
   },
   "outputs": [],
   "source": [
    "input_test = input(\"Enter text to check the type of toxicity of the text (if any): \")\n",
    "while input_test.lower() != \"q\":\n",
    "    input_test_matrix = tfidf_vectorizer.transform([clean_test (input_test)])\n",
    "\n",
    "    results = best_model.predict(input_test_matrix)\n",
    "    results_label = y_train.columns\n",
    "    \n",
    "    count = 0\n",
    "    result_string = \"Text : \" + input_test + \" is \"\n",
    "\n",
    "    for i in range (len(results[0])):\n",
    "        if (results [0][i] == 1):\n",
    "            if (count == 0):\n",
    "                result_string = result_string + results_label [i]\n",
    "                count = count + 1\n",
    "            else:\n",
    "                result_string = result_string + ', ' + results_label [i]\n",
    "                count = count + 1\n",
    "    \n",
    "    if (count == 0):\n",
    "        result_string = result_string + 'NOT of any type of toxicity.'\n",
    "\n",
    "    print(result_string)\n",
    "    input_test = input(\"Enter text to check the type of toxicity of the text (if any): \")"
   ]
  },
  {
   "cell_type": "markdown",
   "id": "7d90eea3",
   "metadata": {},
   "source": [
    "## References\n",
    "Dickinson, B. (2021, February 12). *Generate meaningful word clouds in Python*. Medium. Retrieved May 30, 2022, from https://towardsdatascience.com/generate-meaningful-word-clouds-in-python-5b85f5668eeb \n",
    "\n",
    "Statology. (2021, September 8). *F1 Score vs. Accuracy: Which Should You Use?*. https://www.statology.org/f1-score-vs-accuracy/\n",
    "\n",
    "Lukei. (2019, December 4). *Dealing with contractions in NLP*. Medium. Retrieved May 30, 2022, from https://medium.com/@lukei_3514/dealing-with-contractions-in-nlp-d6174300876b \n",
    "\n",
    "Raghunathan, D. (2020, June 9). *NLP in Python-Data Cleaning*. Medium. Retrieved May 30, 2022, from https://towardsdatascience.com/nlp-in-python-data-cleaning-6313a404a470 "
   ]
  }
 ],
 "metadata": {
  "kernelspec": {
   "display_name": "Python 3",
   "language": "python",
   "name": "python3"
  },
  "language_info": {
   "codemirror_mode": {
    "name": "ipython",
    "version": 3
   },
   "file_extension": ".py",
   "mimetype": "text/x-python",
   "name": "python",
   "nbconvert_exporter": "python",
   "pygments_lexer": "ipython3",
   "version": "3.8.8"
  }
 },
 "nbformat": 4,
 "nbformat_minor": 5
}
